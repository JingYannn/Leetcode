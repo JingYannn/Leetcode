{
  "nbformat": 4,
  "nbformat_minor": 0,
  "metadata": {
    "kernelspec": {
      "display_name": "Python 3",
      "language": "python",
      "name": "python3"
    },
    "language_info": {
      "codemirror_mode": {
        "name": "ipython",
        "version": 3
      },
      "file_extension": ".py",
      "mimetype": "text/x-python",
      "name": "python",
      "nbconvert_exporter": "python",
      "pygments_lexer": "ipython3",
      "version": "3.7.1"
    },
    "colab": {
      "name": "leetcode.ipynb",
      "provenance": [],
      "toc_visible": true,
      "include_colab_link": true
    }
  },
  "cells": [
    {
      "cell_type": "markdown",
      "metadata": {
        "id": "view-in-github",
        "colab_type": "text"
      },
      "source": [
        "<a href=\"https://colab.research.google.com/github/JingYannn/Leetcode/blob/master/leetcode.ipynb\" target=\"_parent\"><img src=\"https://colab.research.google.com/assets/colab-badge.svg\" alt=\"Open In Colab\"/></a>"
      ]
    },
    {
      "cell_type": "markdown",
      "metadata": {
        "id": "zbstMvDqkDM_"
      },
      "source": [
        "## 在线编程常见输入输出练习"
      ]
    },
    {
      "cell_type": "code",
      "metadata": {
        "id": "Sc5pO1V8kNMh"
      },
      "source": [
        "while "
      ],
      "execution_count": null,
      "outputs": []
    },
    {
      "cell_type": "code",
      "metadata": {
        "collapsed": true,
        "id": "RCwvfeFFeFpS",
        "outputId": "86d33c4c-c48b-41f6-d04c-03dda3f2088a"
      },
      "source": [
        "ls = 'asgdfgera'\n",
        "print(ls[1:4][::-1])"
      ],
      "execution_count": null,
      "outputs": [
        {
          "output_type": "stream",
          "text": [
            "dgs\n"
          ],
          "name": "stdout"
        }
      ]
    },
    {
      "cell_type": "code",
      "metadata": {
        "id": "Haet1kNmeFpT"
      },
      "source": [
        "3 4\n",
        "3 1 2"
      ],
      "execution_count": null,
      "outputs": []
    },
    {
      "cell_type": "code",
      "metadata": {
        "id": "VgGNkFgLeFpT"
      },
      "source": [
        "n_k = input()"
      ],
      "execution_count": null,
      "outputs": []
    },
    {
      "cell_type": "code",
      "metadata": {
        "id": "wuVyYco6eFpT"
      },
      "source": [
        "k = 5\n",
        "n =4\n",
        "a = int(k/n)"
      ],
      "execution_count": null,
      "outputs": []
    },
    {
      "cell_type": "code",
      "metadata": {
        "id": "1RsALg2SeFpT",
        "outputId": "7a863743-f68d-48cb-b5f0-5c40355cc8a3"
      },
      "source": [
        "print(a)"
      ],
      "execution_count": null,
      "outputs": [
        {
          "output_type": "stream",
          "text": [
            "1\n"
          ],
          "name": "stdout"
        }
      ]
    },
    {
      "cell_type": "code",
      "metadata": {
        "id": "iotVQbz_eFpU"
      },
      "source": [
        "from typing import List\n",
        "def findBottomKth(l:List[int], k:int):\n",
        "    n = len(l)\n",
        "    l = sorted(l)\n",
        "    x1 = l[int(k/n)]\n",
        "    x2 = l[k%n]\n",
        "    return (x1,x2)"
      ],
      "execution_count": null,
      "outputs": []
    },
    {
      "cell_type": "code",
      "metadata": {
        "id": "de5-euR1eFpU",
        "outputId": "a38333ff-ab73-4dc8-9cd6-18f6993c7c90"
      },
      "source": [
        "findBottomKth([3,1,1,2],4)"
      ],
      "execution_count": null,
      "outputs": [
        {
          "output_type": "execute_result",
          "data": {
            "text/plain": [
              "(1, 1)"
            ]
          },
          "metadata": {
            "tags": []
          },
          "execution_count": 4
        }
      ]
    },
    {
      "cell_type": "markdown",
      "metadata": {
        "id": "fk9j2LcNeFpU"
      },
      "source": [
        "1. 勇士打怪兽\n",
        "勇士打怪兽，勇士有一个初始能力值，记为 a ,怪兽有 n 个，每个怪兽有自己的能力值，记为 i 。当 a>=i时，勇士可以打败怪兽，并获得一枚金币。且勇士在任意时刻都可以选择花费一枚金币提升自己1点能力值。\n",
        "勇士打怪兽的顺序随意，勇士的初始金币为0.\n",
        "\n",
        "问：\n",
        "勇士最大可以获得多少金币，怪兽不一定要打完。\n",
        "\n",
        "输入：\n",
        "\n",
        "第一行：勇士能力值 a ，怪兽个数 n\n",
        "第二行：n个数，分别代表怪兽的能力值。\n",
        "1\n",
        "2\n",
        "输出：\n",
        "\n",
        "勇士最大可以获得的金币个数\n",
        "————————————————\n"
      ]
    },
    {
      "cell_type": "code",
      "metadata": {
        "id": "BT9uO7SseFpU"
      },
      "source": [
        "a, n = map(int, input().split())\n",
        "ls = [int(i) for i in input().split()]\n",
        "ls = ls.sort()\n",
        "g = 0\n",
        "res = 0\n",
        "\n",
        "if min(ls) > a:\n",
        "    print(0)\n",
        "else:\n",
        "    while i < len(ls):\n",
        "        if a >= ls[i]:\n",
        "            g+=1\n",
        "            i+=1\n",
        "            res = max(res, g)\n",
        "        else:\n",
        "            if g>0:\n",
        "                g-=1\n",
        "                a+=1\n",
        "            else:\n",
        "                break\n",
        "print(res)           "
      ],
      "execution_count": null,
      "outputs": []
    },
    {
      "cell_type": "markdown",
      "metadata": {
        "id": "eSYvnbIZeFpU"
      },
      "source": [
        "2. 最短路径\n",
        "有n个城市，每个城市有自己的等级level，城市之间有n-1条路径。\n",
        "小明可以选择任意的level相同的城市作为起点和终点，并从起点走到终点。\n",
        "\n",
        "问：\n",
        "小明走路的最短距离是多少？\n",
        "\n",
        "输入：\n",
        "\n",
        "第一行：城市个数 n\n",
        "第二行：n个数，分别代表不同的城市的level\n",
        "下面n-1行：每一行有两个数，记为 x y，代表 x 到 y 有路\n",
        "1\n",
        "2\n",
        "3\n",
        "输出：\n",
        "\n",
        "最短路径\n"
      ]
    },
    {
      "cell_type": "code",
      "metadata": {
        "id": "ghuouPUseFpU",
        "outputId": "01b7fc46-2def-493a-b0db-a689caa14132"
      },
      "source": [
        "from collections import defaultdict\n",
        "from collections import deque\n",
        "# 处理数据\n",
        "n = int(input())\n",
        "adj = defaultdict(list)\n",
        "res = n\n",
        "dis = 0\n",
        "if n==1:\n",
        "    print(-1)\n",
        "else:\n",
        "    level = [int(i) for i in input().split()]\n",
        "    # 构建邻接字典\n",
        "    for i in range(n-1):\n",
        "        x, y = map(int, input().split())\n",
        "        adj[x].append(y)\n",
        "        adj[y].append(x)\n",
        "    # BFS\n",
        "    frontier = deque()\n",
        "    visited = []\n",
        "    for i in range(n):\n",
        "        frontier.append(i)\n",
        "        dis = 0\n",
        "        visited = []\n",
        "        root = i\n",
        "        while frontier:\n",
        "            city = frontier.popleft()\n",
        "            visited.append(city)\n",
        "            dis+=1\n",
        "            for next in adj[city]:\n",
        "                if level[next] == level[root]:\n",
        "                    res = min(res, dis)\n",
        "                elif next not in visited and next not in frontier:\n",
        "                    frontier.append(next)\n",
        "print(res)        "
      ],
      "execution_count": null,
      "outputs": [
        {
          "output_type": "stream",
          "text": [
            "6\n",
            "1 4 5 2 1 3\n",
            "0 1\n",
            "0 2\n",
            "1 3\n",
            "1 4\n",
            "2 5\n",
            "2\n"
          ],
          "name": "stdout"
        }
      ]
    },
    {
      "cell_type": "markdown",
      "metadata": {
        "id": "n19obDIueFpU"
      },
      "source": [
        "树的广度优先搜索\n",
        "1. 利用队列实现\n",
        "2. 从源节点开始一次按照宽度进队列，然后弹出\n",
        "3. 每弹出一个节点，就把该节点所有没有进过队列的邻接点放入队列\n",
        "4. 直到队列变空"
      ]
    },
    {
      "cell_type": "code",
      "metadata": {
        "id": "gJsWc9GneFpU"
      },
      "source": [
        "def bfs(node):\n",
        "    if node is None:\n",
        "        return\n",
        "    queue = []\n",
        "    # nodeSet = set()\n",
        "    queue.insert(0,node)\n",
        "    #nodeSet.add(node)\n",
        "    while queue:\n",
        "        cur = queue.pop()\n",
        "        print(cur.val)\n",
        "        for next in cur.nexts:\n",
        "            # if next not in nodeSet:\n",
        "                # nodeSet.add(next)\n",
        "            queue.insert(0,next)"
      ],
      "execution_count": null,
      "outputs": []
    },
    {
      "cell_type": "markdown",
      "metadata": {
        "id": "rHNeBTXNeFpU"
      },
      "source": [
        "2.2、树的深度优先搜索\n",
        "2.2.1、用递归的方法进行dfs\n",
        "这里递归不需要nodeSet\n",
        "\n",
        "因为想到有栈的思想，那么就不可避免的想到递归。\n",
        "\n",
        "递归结束条件：节点是None，结束函数调用\n",
        "递归改变：每次都要把节点添加到节点集合当中去\n",
        "递归调用：对于每一个当前节点的相邻节点，只要不在节点集合中，就调用dfs进行搜索\n"
      ]
    },
    {
      "cell_type": "code",
      "metadata": {
        "id": "419wjOLweFpU"
      },
      "source": [
        "# nodeSet = set()\n",
        "def dfs(node):\n",
        "    if node is None :\n",
        "        return\n",
        "    # nodeSet.add(node)\n",
        "    print(node.val)\n",
        "    for next in node.nexts:\n",
        "        # if next not in nodeSet:\n",
        "        dfs(next)"
      ],
      "execution_count": null,
      "outputs": []
    },
    {
      "cell_type": "markdown",
      "metadata": {
        "id": "RBGAu3x0eFpU"
      },
      "source": [
        "## 二叉树\n",
        "二叉树算法的设计的总路线：明确一个节点要做的事情，然后剩下的事抛给框架。\n"
      ]
    },
    {
      "cell_type": "code",
      "metadata": {
        "id": "kJ7yANxueFpU"
      },
      "source": [
        "def traverse(root):\n",
        "    traverse(root.left)\n",
        "    traverse(root.right)"
      ],
      "execution_count": null,
      "outputs": []
    },
    {
      "cell_type": "markdown",
      "metadata": {
        "id": "nB2lM0qPeFpU"
      },
      "source": [
        "举两个简单的例子体会一下这个思路，热热身。\n",
        "\n",
        "1. 如何把二叉树所有的节点中的值加一？"
      ]
    },
    {
      "cell_type": "code",
      "metadata": {
        "id": "bjXbMxmWeFpU"
      },
      "source": [
        "def plusOne(root):\n",
        "    if not root: return\n",
        "    root.val += 1\n",
        "    \n",
        "    plusOne(root.left)\n",
        "    plusOne(root.right)"
      ],
      "execution_count": null,
      "outputs": []
    },
    {
      "cell_type": "markdown",
      "metadata": {
        "id": "FHnKVf7GeFpU"
      },
      "source": [
        "2. 如何判断两棵二叉树是否完全相同？\n",
        "98 validate BST与这个架构思路一致"
      ]
    },
    {
      "cell_type": "code",
      "metadata": {
        "id": "6dj1fJWOeFpU"
      },
      "source": [
        "def isSameTree(root1, root2):\n",
        "    # 都为空的话，显然相同\n",
        "    if not root and not root: return True\n",
        "    # 一个为空，一个非空，显然不同\n",
        "    if not root1 or not root2: return False\n",
        "    # 两个都非空，但 val 不一样也不行\n",
        "    if root1.val != root2.val: return False\n",
        "    \n",
        "    # root1 和 root2 该比的都比完了\n",
        "    return isSameTree(root1.left, root2.left) and isSameTree(root1.right, root2.right)"
      ],
      "execution_count": null,
      "outputs": []
    },
    {
      "cell_type": "markdown",
      "metadata": {
        "id": "hwoLj-QseFpU"
      },
      "source": [
        "#### 二叉搜索树（Binary Search Tree，简称 BST）是一种很常用的的二叉树。它的定义是：一个二叉树中，任意节点的值要大于等于左子树所有节点的值，且要小于等于右边子树的所有节点的值。\n",
        "下面实现 BST 的基础操作：判断 BST 的合法性、增、删、查。其中“删”和“判断合法性”略微复杂"
      ]
    },
    {
      "cell_type": "markdown",
      "metadata": {
        "id": "ZpP75mO3eFpU"
      },
      "source": [
        "#### 零、判断 BST 的合法性 (Leetcode 98)"
      ]
    },
    {
      "cell_type": "markdown",
      "metadata": {
        "id": "h6_lfesteFpU"
      },
      "source": [
        "这里是有坑的哦，我们按照刚才的思路，每个节点自己要做的事不就是比较自己和左右孩子吗？但是这个算法出现了错误，BST 的每个节点应该要小于右边子树的所有节点，下面这个二叉树显然不是 BST，但是我们的算法会把它判定为 BST。\n"
      ]
    },
    {
      "cell_type": "markdown",
      "metadata": {
        "id": "24mOp6ikeFpU"
      },
      "source": [
        "出现错误，不要慌张，框架没有错，一定是某个细节问题没注意到。我们重新看一下 BST 的定义，root 需要做的不只是和左右子节点比较，而是要整个左子树和右子树所有节点比较。怎么办，鞭长莫及啊！\n"
      ]
    },
    {
      "cell_type": "markdown",
      "metadata": {
        "id": "79ISpGIoeFpU"
      },
      "source": [
        "这种情况，我们可以使用辅助函数，增加函数参数列表，在参数中携带额外信息，请看正确的代码："
      ]
    },
    {
      "cell_type": "code",
      "metadata": {
        "id": "opQ5yeOaeFpU"
      },
      "source": [
        "def isValidBST(root):\n",
        "    return helper(root, float('-inf'), float('inf'))\n",
        "\n",
        "def helper(root, min, max):\n",
        "    if not root: return True\n",
        "    if root.val >= max or root.val <= min:\n",
        "        return False\n",
        "    return helper(root.left, min, root.val) and helper(root, root.val, max)"
      ],
      "execution_count": null,
      "outputs": []
    },
    {
      "cell_type": "code",
      "metadata": {
        "id": "uI1zHLckeFpU"
      },
      "source": [
        "def isValidBST(root):\n",
        "    return helper(root, None, None)\n",
        "\n",
        "def helper(root, min, max):\n",
        "    if not root: return True\n",
        "        if max != None and root.val >= max: return False\n",
        "        if min != None and root.val <= min: return False\n",
        "    return helper(root.left, min, root.val) and helper(root, root.val, max)"
      ],
      "execution_count": null,
      "outputs": []
    },
    {
      "cell_type": "markdown",
      "metadata": {
        "id": "Lasc4bW6eFpU"
      },
      "source": [
        "#### 一、在 BST 中查找一个数是否存在"
      ]
    },
    {
      "cell_type": "code",
      "metadata": {
        "id": "mlecrWX7eFpU"
      },
      "source": [
        "def isInBST(root, target):\n",
        "    if not root: return False\n",
        "    if root.val == target:\n",
        "        return True\n",
        "    return isInBST(root.left, target) or isInBST(root.right, target)"
      ],
      "execution_count": null,
      "outputs": []
    },
    {
      "cell_type": "markdown",
      "metadata": {
        "id": "dtXg68jheFpU"
      },
      "source": [
        "这样写完全正确，充分证明了你的框架性思维已经养成。现在你可以考虑一点细节问题了：如何充分利用信息，把 BST 这个“左小右大”的特性用上？\n",
        "\n",
        "很简单，其实不需要递归地搜索两边，类似二分查找思想，根据 target 和 root.val 的大小比较，就能排除一边。我们把上面的思路稍稍改动："
      ]
    },
    {
      "cell_type": "code",
      "metadata": {
        "id": "tElGBjl3eFpU"
      },
      "source": [
        "def isInBST(root, target):\n",
        "    if not root: return False\n",
        "    if root.val == target:\n",
        "        return True\n",
        "    if root.val < target:\n",
        "        return isInBST(root.right, target)\n",
        "    if root.val > target:\n",
        "        return isInBST(root.left, target)"
      ],
      "execution_count": null,
      "outputs": []
    },
    {
      "cell_type": "markdown",
      "metadata": {
        "id": "N4BbcJKueFpU"
      },
      "source": [
        "于是，我们对原始框架进行改造，抽象出一套\n",
        "#### 针对 BST 的遍历框架："
      ]
    },
    {
      "cell_type": "code",
      "metadata": {
        "id": "N_vwoudHeFpU"
      },
      "source": [
        "def BST(root, target):\n",
        "    if root.val == target:\n",
        "        # 找到目标，做点什么\n",
        "    if root.val < target:\n",
        "        BST(root.right, target)\n",
        "    if root.val > target:\n",
        "        BST(root.left, target)"
      ],
      "execution_count": null,
      "outputs": []
    },
    {
      "cell_type": "markdown",
      "metadata": {
        "id": "_eJqXcBGeFpU"
      },
      "source": [
        "#### 二、在 BST 中插入一个数 (leetcode 701)"
      ]
    },
    {
      "cell_type": "markdown",
      "metadata": {
        "id": "jmaPlLZ0eFpU"
      },
      "source": [
        "对数据结构的操作无非遍历 + 访问，遍历就是“找”，访问就是“改”。具体到这个问题，插入一个数，就是先找到插入位置，然后进行插入操作。\n",
        "\n",
        "上一个问题，我们总结了 BST 中的遍历框架，就是“找”的问题。直接套框架，加上“改”的操作即可。一旦涉及“改”，函数就要返回 TreeNode 类型，并且对递归调用的返回值进行接收。"
      ]
    },
    {
      "cell_type": "code",
      "metadata": {
        "id": "LiGnU7TCeFpV"
      },
      "source": [
        "def insertIntoBST(root, val):\n",
        "    # 找到空位置插入新节点\n",
        "    if not root: \n",
        "        return TreeNode(val)\n",
        "    # BST中一般不会插入已存在元素\n",
        "    # if root.val == val:\n",
        "    if root.val < val:\n",
        "        root.right = insertIntoBST(root.right, val)\n",
        "    if root.val > val:\n",
        "        root.left = insertIntoBST(root.left, val)\n",
        "    return root"
      ],
      "execution_count": null,
      "outputs": []
    },
    {
      "cell_type": "markdown",
      "metadata": {
        "id": "rY1m0OTKeFpV"
      },
      "source": [
        "#### 三、在 BST 中删除一个数 (leetcode 450)"
      ]
    },
    {
      "cell_type": "markdown",
      "metadata": {
        "id": "QvPvfeXxeFpV"
      },
      "source": [
        "这个问题稍微复杂，不过你有框架指导，难不住你。跟插入操作类似，先“找”再“改”，先把框架写出来再说："
      ]
    },
    {
      "cell_type": "code",
      "metadata": {
        "id": "i_Biy_LceFpV"
      },
      "source": [
        "def deleteNode(root, key):\n",
        "    if root.val == key:\n",
        "        # 找到啦，进行删除\n",
        "    elif root.val > key:\n",
        "        root.left = deleteNode(root.left, key)\n",
        "    elif root.val < key:\n",
        "        root.right = deleteNode(root.right, key)"
      ],
      "execution_count": null,
      "outputs": []
    },
    {
      "cell_type": "markdown",
      "metadata": {
        "id": "J_f7ypuVeFpV"
      },
      "source": [
        "找到目标节点了，比方说是节点 A，如何删除这个节点，这是难点。因为删除节点的同时不能破坏 BST 的性质。有三种情况，用图片来说明。\n",
        "\n",
        "情况 1：A 恰好是末端节点，两个子节点都为空，那么它可以当场去世了。\n",
        "if not root.left or not root.right:\n",
        "    return None\n",
        "\n",
        "情况 2：A 只有一个非空子节点，那么它要让这个孩子接替自己的位置。\n",
        "//排除了情况1之后\n",
        "if not root.left: return root.right\n",
        "if not root.right: return root.left\n",
        "\n",
        "情况 3：A 有两个子节点，麻烦了，为了不破坏 BST 的性质，A 必须找到左子树中最大的那个节点，或者右子树中最小的那个节点来接替自己。我们以第二种方式讲解。\n",
        "if root.left and root.right:\n",
        "    // 找到右子树的最小节点\n",
        "    minNode = getMin(root.right)\n",
        "    // 把root改成minNode\n",
        "    root.val = minNode.val\n",
        "    //转而去删除minNode\n",
        "    root.right = deleteNode(root.right, minNode.val)"
      ]
    },
    {
      "cell_type": "markdown",
      "metadata": {
        "id": "Qr_qfYOheFpV"
      },
      "source": [
        "三种情况分析完毕，填入框架，简化一下代码："
      ]
    },
    {
      "cell_type": "code",
      "metadata": {
        "id": "1-kRCdRzeFpV"
      },
      "source": [
        "def deleteNode(root, key):\n",
        "    if not root: return None\n",
        "    if root.val == key:\n",
        "        # 这两个 if 把情况 1 和 2 都正确处理了\n",
        "        if not root.left: return root.right\n",
        "        if not root.right: return root.left\n",
        "        # 处理情况 3\n",
        "        minNode = getMin(root.right)\n",
        "        root.val = minNode.val\n",
        "        root.right = deleteNode(root.right, minNode.val)\n",
        "    elif root.val > key:\n",
        "        root.left = deleteNode(root.left, key)\n",
        "    elif root.val < key:\n",
        "        root.right = deleteNode(root.right, key)\n",
        "    return root\n",
        "\n",
        "def getMin(node):\n",
        "    while node.left:\n",
        "        node = node.left\n",
        "    return node"
      ],
      "execution_count": null,
      "outputs": []
    },
    {
      "cell_type": "markdown",
      "metadata": {
        "id": "uTJU3Ah-eFpV"
      },
      "source": [
        "删除操作就完成了。注意一下，这个删除操作并不完美，因为我们一般不会通过 root.val = minNode.val 修改节点内部的值来交换节点，而是通过一系列略微复杂的链表操作交换 root 和 minNode 两个节点。因为具体应用中，val 域可能会很大，修改起来很耗时，而链表操作无非改一改指针，而不会去碰内部数据。\n",
        "\n",
        "但这里忽略这个细节，旨在突出 BST 基本操作的共性，以及借助框架逐层细化问题的思维方式"
      ]
    },
    {
      "cell_type": "markdown",
      "metadata": {
        "id": "aVy_C7OUeFpV"
      },
      "source": [
        "#### 四、最后总结"
      ]
    },
    {
      "cell_type": "markdown",
      "metadata": {
        "id": "lNBYYgq8eFpV"
      },
      "source": [
        "通过这篇文章，你学会了如下几个技巧：\n",
        "\n",
        "1. 二叉树算法设计的总路线：把当前节点要做的事做好，其他的交给递归框架，不用当前节点操心。\n",
        "\n",
        "2. 如果当前节点会对下面的子节点有整体影响，可以通过辅助函数增长参数列表，借助参数传递信息。\n",
        "\n",
        "3. 在二叉树框架之上，扩展出一套 BST 遍历框架："
      ]
    },
    {
      "cell_type": "code",
      "metadata": {
        "id": "IVGBkAReeFpV",
        "outputId": "33e4735a-afa7-470a-ebb1-b1c1e34490a5"
      },
      "source": [
        "def BST(root, target):\n",
        "    if root.val == target:\n",
        "        # 找到目标，做点什么\n",
        "    if root.val < target:\n",
        "        BST(root.right, target)\n",
        "    if root.val > target:\n",
        "        BST(root.left, target)"
      ],
      "execution_count": null,
      "outputs": [
        {
          "output_type": "error",
          "ename": "IndentationError",
          "evalue": "expected an indented block (<ipython-input-16-e2b7f42a9e5c>, line 4)",
          "traceback": [
            "\u001b[1;36m  File \u001b[1;32m\"<ipython-input-16-e2b7f42a9e5c>\"\u001b[1;36m, line \u001b[1;32m4\u001b[0m\n\u001b[1;33m    if root.val < target:\u001b[0m\n\u001b[1;37m     ^\u001b[0m\n\u001b[1;31mIndentationError\u001b[0m\u001b[1;31m:\u001b[0m expected an indented block\n"
          ]
        }
      ]
    },
    {
      "cell_type": "markdown",
      "metadata": {
        "id": "kImygQWueFpV"
      },
      "source": [
        "## 递归\n",
        "首先说明一个问题，简单阐述一下递归，分治算法，动态规划，贪心算法这几个东西的区别和联系，心里有个印象就好。\n",
        "\n",
        "递归是一种编程技巧，一种解决问题的思维方式；分治算法和动态规划很大程度上是递归思想基础上的（虽然动态规划的最终版本大都不是递归了，但解题思想还是离不开递归），解决更具体问题的两类算法思想；贪心算法是动态规划算法的一个子集，可以更高效解决一部分更特殊的问题。\n",
        "\n",
        "分治算法将在这节讲解，以最经典的归并排序为例，它把待排序数组不断二分为规模更小的子问题处理，这就是 “分而治之” 这个词的由来。显然，排序问题分解出的子问题是不重复的，如果有的问题分解后的子问题有重复的（重叠子问题性质），那么就交给动态规划算法去解决！"
      ]
    },
    {
      "cell_type": "markdown",
      "metadata": {
        "id": "3ZLqnGuSeFpV"
      },
      "source": [
        "介绍分治之前，首先要弄清楚递归这个概念。\n",
        "\n",
        "递归的基本思想是某个函数直接或者间接地调用自身，这样就把原问题的求解转换为许多性质相同但是规模更小的子问题。我们只需要关注如何把原问题划分成符合条件的子问题，而不需要去研究这个子问题是如何被解决的。递归和枚举的区别在于：枚举是横向地把问题划分，然后依次求解子问题，而递归是把问题逐级分解，是纵向的拆分。\n",
        "\n",
        "以下会举例说明我对递归的一点理解，如果你不想看下去了，请记住这几个问题怎么回答：\n",
        "\n",
        "1. 如何给一堆数字排序？ 答：分成两半，先排左半边再排右半边，最后合并就行了，至于怎么排左边和右边，请重新阅读这句话。\n",
        "2. 孙悟空身上有多少根毛？ 答：一根毛加剩下的毛。\n",
        "3. 你今年几岁？ 答：去年的岁数加一岁,1999 年我出生。\n",
        "\n",
        "递归代码最重要的两个特征：**结束条件**和**自我调用**。自我调用是在解决子问题，而结束条件定义了最简子问题的答案。"
      ]
    },
    {
      "cell_type": "code",
      "metadata": {
        "id": "7KBxVBI9eFpV"
      },
      "source": [
        "int func(你今年几岁) {\n",
        "    // 最简子问题，结束条件\n",
        "    if (你1999年几岁) return 我0岁;\n",
        "    // 自我调用，缩小规模\n",
        "    return func(你去年几岁) + 1;   \n",
        "}"
      ],
      "execution_count": null,
      "outputs": []
    },
    {
      "cell_type": "markdown",
      "metadata": {
        "id": "vV7k3U5peFpV"
      },
      "source": [
        "其实仔细想想，**递归运用最成功的是什么？我认为是数学归纳法。**我们高中都学过数学归纳法，使用场景大概是：我们推不出来某个求和公式，但是我们试了几个比较小的数，似乎发现了一点规律，然后编了一个公式，看起来应该是正确答案。但是数学是很严谨的，你哪怕穷举了一万个数都是正确的，但是第一万零一个数正确吗？这就要数学归纳法发挥神威了，可以假设我们编的这个公式在第 k 个数时成立，如果证明在第 k + 1 时也成立，那么我们编的这个公式就是正确的。\n",
        "\n",
        "那么数学归纳法和递归有什么联系？我们刚才说了，递归代码必须要有结束条件，如果没有的话就会进入无穷无尽的自我调用，直到内存耗尽。而数学证明的难度在于，你可以尝试有穷种情况，但是难以将你的结论延伸到无穷大。这里就可以看出联系了 —— 无穷。\n",
        "\n",
        "递归代码的精髓在于调用自己去解决规模更小的子问题，直到到达结束条件；而数学归纳法之所以有用，就在于不断把我们的猜测向上加一，扩大结论的规模，没有结束条件，从而把结论延伸到无穷无尽，也就完成了猜测正确性的证明。"
      ]
    },
    {
      "cell_type": "markdown",
      "metadata": {
        "id": "-3y7eAEKeFpV"
      },
      "source": [
        "### 为什么要写递归\n",
        "首先为了训练逆向思考的能力。递推的思维是正常人的思维，总是看着眼前的问题思考对策，解决问题是将来时；递归的思维，逼迫我们倒着思考，看到问题的尽头，把解决问题的过程看做过去时。\n",
        "\n",
        "第二，练习分析问题的结构，当问题可以被分解成相同结构的小问题时，你能敏锐发现这个特点，进而高效解决问题。\n",
        "\n",
        "第三，跳出细节，从整体上看问题。\n",
        "\n",
        "再说说归并排序，其实可以不用递归来划分左右区域的，但是代价就是代码极其难以理解，大概看一下代码（归并排序在后面讲，这里大致看懂意思就行，体会递归的妙处）："
      ]
    },
    {
      "cell_type": "code",
      "metadata": {
        "id": "DdGKflaWeFpV"
      },
      "source": [
        "def sort(a):\n",
        "    N = len(a)\n",
        "    for sz in range(1, N):\n",
        "        for lo in range(0, N-sz):\n",
        "            merge(a, lo, lo+sz-1, min(lo+sz+sz-1, N-1))\n",
        "            lo += sz + sz\n",
        "        sz += sz"
      ],
      "execution_count": null,
      "outputs": []
    },
    {
      "cell_type": "code",
      "metadata": {
        "id": "wMAVU5WVeFpV"
      },
      "source": [
        "# 递归的写法更简洁\n",
        "def sort(a, lo, hi):\n",
        "    if lo >= hi:\n",
        "        return\n",
        "    mid = lo + (hi - lo)/2\n",
        "    sort(a, lo, mid) # 排序左半边\n",
        "    sort(a, mid+1, hi) # 排序右半边\n",
        "    merge(a, lo, mid, hi) #合并两边"
      ],
      "execution_count": null,
      "outputs": []
    },
    {
      "cell_type": "markdown",
      "metadata": {
        "id": "aP8xggqEeFpV"
      },
      "source": [
        "看起来简洁漂亮是一方面，关键是可解释性很强：把左半边排序，把右半边排序，最后合并两边。而非递归版本看起来不知所云，充斥着各种难以理解的边界计算细节，特别容易出 bug 且难以调试，人生苦短，我更倾向于递归版本。\n",
        "\n",
        "显然有时候递归处理是高效的，比如归并排序，有时候是低效的，比如数孙悟空身上的毛，因为堆栈会消耗额外空间，而简单的递推不会消耗空间。比如这个例子，给一个链表头，计算它的长度："
      ]
    },
    {
      "cell_type": "code",
      "metadata": {
        "id": "VpVa3HiDeFpV"
      },
      "source": [
        "# 典型的递推遍历框架，需要额外空间O(1)\n",
        "def size(head):\n",
        "    size = 0\n",
        "    node = head\n",
        "    while node:\n",
        "        node = node.next\n",
        "        size += 1\n",
        "    return size"
      ],
      "execution_count": null,
      "outputs": []
    },
    {
      "cell_type": "code",
      "metadata": {
        "id": "tGsleJmReFpV"
      },
      "source": [
        "# 偏要递归，万物皆递归，需要额外空间O(N)\n",
        "def size(head):\n",
        "    if not head: return 0\n",
        "    return self.size(head.next) + 1"
      ],
      "execution_count": null,
      "outputs": []
    },
    {
      "cell_type": "markdown",
      "metadata": {
        "id": "mAw13AxveFpV"
      },
      "source": [
        "### 写递归的技巧\n",
        "我的一点心得是：**明白一个函数的作用并相信它能完成这个任务，千万不要试图跳进细节。**千万不要跳进这个函数里面企图探究更多细节，否则就会陷入无穷的细节无法自拔，人脑能压几个栈啊。\n",
        "\n",
        "先举个最简单的例子：遍历二叉树。"
      ]
    },
    {
      "cell_type": "code",
      "metadata": {
        "id": "A_V0dB4XeFpV"
      },
      "source": [
        "def traverse(root):\n",
        "    if not root: return\n",
        "    traverse(root.left)\n",
        "    traverse(root.right)"
      ],
      "execution_count": null,
      "outputs": []
    },
    {
      "cell_type": "markdown",
      "metadata": {
        "id": "LO8T0iu0eFpV"
      },
      "source": [
        "这几行代码就足以扫荡任何一棵二叉树了。我想说的是，对于递归函数traverse(root)，我们只要相信：给它一个根节点root，它就能遍历这棵树，因为写这个函数不就是为了这个目的吗？所以我们只需要把这个节点的左右节点再甩给这个函数就行了，因为我相信它能完成任务的。那么遍历一棵N叉数呢？太简单了好吧，和二叉树一模一样啊。"
      ]
    },
    {
      "cell_type": "code",
      "metadata": {
        "id": "bEHw0LzdeFpV"
      },
      "source": [
        "def traverse(root):\n",
        "    if not root: return\n",
        "    for child in root.children:\n",
        "        traverse(child)"
      ],
      "execution_count": null,
      "outputs": []
    },
    {
      "cell_type": "markdown",
      "metadata": {
        "id": "leow7whqeFpV"
      },
      "source": [
        "至于遍历的什么前、中、后序，那都是显而易见的，对于N叉树，显然没有中序遍历。\n",
        "\n",
        "四种主要的遍历思想为：\n",
        "\n",
        "前序遍历：根结点 ---> 左子树 ---> 右子树\n",
        "\n",
        "中序遍历：左子树---> 根结点 ---> 右子树\n",
        "\n",
        "后序遍历：左子树 ---> 右子树 ---> 根结点\n",
        "\n",
        "层次遍历：只需按层次遍历即可\n",
        "\n",
        "以下详解 LeetCode 的一道题来说明：给一课二叉树，和一个目标值，节点上的值有正有负，返回树中和等于目标值的路径条数，让你编写 pathSum 函数："
      ]
    },
    {
      "cell_type": "code",
      "metadata": {
        "id": "iZ9sgx1ueFpV"
      },
      "source": [
        "# 来源于 LeetCode PathSum III： https://leetcode.com/problems/path-sum-iii/ \n",
        "root = [10,5,-3,3,2,null,11,3,-2,null,1],\n",
        "sum = 8\n",
        "\n",
        "      10\n",
        "     /  \\\n",
        "    5   -3\n",
        "   / \\    \\\n",
        "  3   2   11\n",
        " / \\   \\\n",
        "3  -2   1\n",
        "\n",
        "Return 3. The paths that sum to 8 are:\n",
        "\n",
        "1.  5 -> 3\n",
        "2.  5 -> 2 -> 1\n",
        "3. -3 -> 11"
      ],
      "execution_count": null,
      "outputs": []
    },
    {
      "cell_type": "markdown",
      "metadata": {
        "id": "d--czUokeFpV"
      },
      "source": [
        "我来简单总结这个问题的**解决过程**：\n",
        "\n",
        "首先明确，递归求解树的问题必然是要遍历整棵树的，所以**二叉树的遍历框架**（分别对左右孩子递归调用函数本身）必然要出现在主函数 pathSum 中。那么对于每个节点，他们应该干什么呢？他们应该看看，自己和脚底下的小弟们包含多少条符合条件的路径。好了，这道题就结束了。\n",
        "\n",
        "按照前面说的技巧，根据刚才的分析来定义清楚每个递归函数应该做的事：\n",
        "\n",
        "PathSum 函数：给他一个节点和一个目标值，他返回以这个节点为根的树中，和为目标值的路径总数。\n",
        "\n",
        "count 函数：给他一个节点和一个目标值，他返回以这个节点为根的树中，能凑出几个以该节点为路径开头，和为目标值的路径总数。"
      ]
    },
    {
      "cell_type": "code",
      "metadata": {
        "id": "exdJoYS4eFpV"
      },
      "source": [
        "def pathSum(root, sum):\n",
        "    if not root: return 0\n",
        "    pathImLeading = count(root, sum) # 自己为开头的路径数\n",
        "    leftPathSum = pathSum(root.left, sum) # 左边路径总数\n",
        "    rightPathSum = pathSum(root.right, sum)\n",
        "    return leftPathSum + rightPathSum + pathImLeading\n",
        "\n",
        "def count(node, sum):\n",
        "    if not node: return 0\n",
        "    # 我自己能不能独当一面，作为一条单独的路径呢\n",
        "    isMe = 1 if node.val == sum else 0\n",
        "    # 左边的小老弟，你那边能凑几个sum-node.val呢？\n",
        "    leftBrother = count(node.left, sum-node.val)\n",
        "    # 右边的小老弟，你那边能凑几个sum-node.val呢？\n",
        "    rightBrother = count(node.right, sum-node.val)\n",
        "    return isMe + leftBrother + rightBrother"
      ],
      "execution_count": null,
      "outputs": []
    },
    {
      "cell_type": "markdown",
      "metadata": {
        "id": "kDRcd2T0eFpV"
      },
      "source": [
        "还是那句话，明白每个函数能做的事，并相信他们能够完成。\n",
        "\n",
        "总结下，PathSum 函数提供的二叉树遍历框架，在遍历中对每个节点调用 count 函数，看出先序遍历了吗（这道题什么序都是一样的）；count 函数也是一个二叉树遍历，用于寻找以该节点开头的目标值路径。好好体会吧！"
      ]
    },
    {
      "cell_type": "code",
      "metadata": {
        "id": "KwHpFpM4j-tF"
      },
      "source": [
        ""
      ],
      "execution_count": null,
      "outputs": []
    },
    {
      "cell_type": "markdown",
      "metadata": {
        "id": "I53s3im3eFpV"
      },
      "source": [
        "## 分治算法"
      ]
    },
    {
      "cell_type": "markdown",
      "metadata": {
        "id": "8prgQgQJeFpV"
      },
      "source": [
        "**归并排序**，典型的分治算法；分治，典型的递归结构。\n",
        "\n",
        "分治算法可以分三步走：分解 -> 解决 -> 合并\n",
        "\n",
        "分解原问题为结构相同的子问题。\n",
        "分解到某个容易求解的边界之后，进行第归求解。\n",
        "将子问题的解合并成原问题的解。\n",
        "归并排序，我们就叫这个函数merge_sort吧，按照我们上面说的，要明确该函数的职责，即对传入的一个数组排序。OK，那么这个问题能不能分解呢？当然可以！给一个数组排序，不就等于给该数组的两半分别排序，然后合并就完事了。"
      ]
    },
    {
      "cell_type": "code",
      "metadata": {
        "id": "_Q8u0U6MeFpV"
      },
      "source": [
        "def merge_sort(array):\n",
        "    if (可以很容易解决): return\n",
        "    merge_sort(左半个数组)\n",
        "    merge_sort(右半个数组)\n",
        "    merge(左半个数组，右半个数组)"
      ],
      "execution_count": null,
      "outputs": []
    },
    {
      "cell_type": "markdown",
      "metadata": {
        "id": "B4iET0XreFpV"
      },
      "source": [
        "好了，这个算法也就这样了，完全没有任何难度。记住之前说的，相信函数的能力，传给他半个数组，那么这半个数组就已经被排好了。而且你会发现这不就是个二叉树遍历模板吗？为什么是后序遍历？因为我们分治算法的套路是 分解 -> 解决（触底） -> 合并（回溯） 啊，先左右分解，再处理合并，回溯就是在退栈，就相当于后序遍历了。至于merge函数，参考两个有序链表的合并，简直一模一样，下面直接贴代码吧。\n",
        "\n",
        "下面参考《算法4》的 Java 代码，很漂亮。由此可见，不仅算法思想思想重要，编码技巧也是挺重要的吧！多思考，多模仿。"
      ]
    },
    {
      "cell_type": "code",
      "metadata": {
        "id": "zIppkJDheFpV"
      },
      "source": [
        "# 不要在merge函数里构造新数组了，因为merge函数会被多次调用，影响性能\n",
        "# 直接一次性构造一个足够大的数组，简洁，高效\n",
        "aux = []\n",
        "def sort(a):\n",
        "    aux = a\n",
        "    "
      ],
      "execution_count": null,
      "outputs": []
    },
    {
      "cell_type": "markdown",
      "metadata": {
        "id": "T4WHsCu0eFpV"
      },
      "source": [
        "## 十大经典排序算法"
      ]
    },
    {
      "cell_type": "markdown",
      "metadata": {
        "id": "pPG4vcddeFpV"
      },
      "source": [
        "### 0. 算法概述\n",
        "#### 0.1 算法分类\n",
        "十大常见排序算法可以分为两大类：\n",
        "**比较类排序** 通过比较来决定元素间的相对次序，由于其时间复杂度不能突破O(nlogn),因此页称为非线性时间比较类排序。\n",
        "**比较类排序** 不通过比较来决定元素间的相对次序，它可以突破基于比较排序的时间下界，以线性时间运行，因此页成为线性时间非比较类排序。"
      ]
    },
    {
      "cell_type": "markdown",
      "metadata": {
        "id": "7EnE4h8LeFpV"
      },
      "source": [
        "相关概念\n",
        "\n",
        "稳定：如果a原本在b前面，而a=b，排序之后a仍然在b的前面。\n",
        "\n",
        "不稳定：如果a原本在b的前面，而a=b，排序之后 a 可能会出现在 b 的后面。\n",
        "\n",
        "时间复杂度：对排序数据的总的操作次数。反映当n变化时，操作次数呈现什么规律。\n",
        "\n",
        "空间复杂度：是指算法在计算机内执行时所需存储空间的度量，它也是数据规模n的函数。 "
      ]
    },
    {
      "cell_type": "markdown",
      "metadata": {
        "id": "uBsDTG1YeFpV"
      },
      "source": [
        "### 1. 比较类排序\n"
      ]
    },
    {
      "cell_type": "markdown",
      "metadata": {
        "id": "uo2uauvTiMaa"
      },
      "source": [
        "#### 1.1 交换排序"
      ]
    },
    {
      "cell_type": "markdown",
      "metadata": {
        "id": "HEesWxthiOyL"
      },
      "source": [
        "#### 1.1.1 冒泡排序（bubble sort）O(n^2)\n",
        "冒泡排序（顺序形式），从左向右，两两比较，如果左边元素大于右边，就交换两个元素的位置。\n",
        "\n",
        "其中，每一轮排序，序列中最大的元素浮动到最右面。也就是说，每一轮排序，至少确保有一个元素在正确的位置。\n",
        "\n",
        "这样接下来的循环，就不需要考虑已经排好序的元素了，每次内层循环次数都会减一。\n",
        "\n",
        "其中，如果有一轮循环之后，次序并没有交换，这时我们就可以停止循环，得到我们想要的有序序列了。"
      ]
    },
    {
      "cell_type": "code",
      "metadata": {
        "id": "lkq4uGW6eFpV"
      },
      "source": [
        "def bubbleSort(seq):\n",
        "    length = len(seq) - 1\n",
        "    i = j = 0\n",
        "    while i < length:\n",
        "        j = 0\n",
        "        flag = 1\n",
        "        while j < length - i:\n",
        "            if seq[j] > seq[j+1]:\n",
        "                seq[j], seq[j+1] = seq[j+1], seq[j]\n",
        "                flag = 0\n",
        "            j += 1\n",
        "        if flag:\n",
        "            break\n",
        "        i += 1\n",
        "    return seq    "
      ],
      "execution_count": null,
      "outputs": []
    },
    {
      "cell_type": "code",
      "metadata": {
        "id": "O79-S0uqeFpV",
        "outputId": "652486d9-a7c7-4694-cf04-55939eaeda63"
      },
      "source": [
        "seq = [9,8,7,6,5,4]\n",
        "random.shuffle(seq)\n",
        "print(bubbleSort(seq))"
      ],
      "execution_count": null,
      "outputs": [
        {
          "output_type": "stream",
          "text": [
            "[4, 5, 6, 7, 8, 9]\n"
          ],
          "name": "stdout"
        }
      ]
    },
    {
      "cell_type": "markdown",
      "metadata": {
        "id": "26NbbvdFeFpV"
      },
      "source": [
        "#### 1.1.2 快速排序（quick sort）O(nlogn)\n",
        "首先要打乱序列顺序 ，以防算法陷入最坏时间复杂度。快速排序使用“分而治之”的方法。\n",
        "\n",
        "对于一串序列，首先从中选取一个数，凡是小于这个数的值就被放在左边一摞，凡是大于这个数的值就被放在右边一摞。然后，继续对左右两摞进行快速排序。\n",
        "\n",
        "直到进行快速排序的序列长度小于 2 （即序列中只有一个值或者空值）。"
      ]
    },
    {
      "cell_type": "code",
      "metadata": {
        "id": "t8LqLOkbeFpV"
      },
      "source": [
        "# quick sort\n",
        "import random\n",
        "def quickSort(seq):\n",
        "    if len(seq) < 2:\n",
        "        return seq\n",
        "    else:\n",
        "        base = seq[0]\n",
        "        left = [elem for elem in seq[1:] if elem < base]\n",
        "        right = [elem for elem in seq[1:] if elem > base]\n",
        "        return quickSort(left) + [base] + quickSort(right)"
      ],
      "execution_count": null,
      "outputs": []
    },
    {
      "cell_type": "code",
      "metadata": {
        "id": "EcTz8stBeFpV",
        "outputId": "663663e0-2917-4938-c970-0d34ae156f15"
      },
      "source": [
        "seq = [9,8,7,6,5,4]\n",
        "random.shuffle(seq)\n",
        "print(quickSort(seq))"
      ],
      "execution_count": null,
      "outputs": [
        {
          "output_type": "stream",
          "text": [
            "[4, 5, 6, 7, 8, 9]\n"
          ],
          "name": "stdout"
        }
      ]
    },
    {
      "cell_type": "markdown",
      "metadata": {
        "id": "NNVTzmMCiiFS"
      },
      "source": [
        "左闭右闭的二分写法"
      ]
    },
    {
      "cell_type": "code",
      "metadata": {
        "id": "nPtGhsFWihan"
      },
      "source": [
        "def quickSort(nums, l, r):\n",
        "  if l + 1 >= r:\n",
        "    return \n",
        "  first, last, key = l, r-1, nums[first]\n",
        "  while first < last:\n",
        "    while first < last and nums[last] >= key:\n",
        "      last -= 1\n",
        "    nums[first] = nums[last]\n",
        "    while first < last and nums[first] <= key:\n",
        "      first += 1\n",
        "    nums[last] = nums[first]\n",
        "  nums[first] = key\n",
        "  quickSort(nums, l, first)\n",
        "  quickSort(nums, first+1, r)"
      ],
      "execution_count": null,
      "outputs": []
    },
    {
      "cell_type": "markdown",
      "metadata": {
        "id": "P_UvTcn8eFpW"
      },
      "source": [
        "75. Sort Colors"
      ]
    },
    {
      "cell_type": "code",
      "metadata": {
        "id": "KhEQDOMoeFpW"
      },
      "source": [
        "class Solution:\n",
        "    def sortColors(self, nums: List[int]) -> None:\n",
        "        \"\"\"\n",
        "        Do not return anything, modify nums in-place instead.\n",
        "        \"\"\"\n",
        "        left = 0\n",
        "        right = len(nums) - 1\n",
        "        i = 0\n",
        "        while i <= right:\n",
        "            if nums[i] == 0:\n",
        "                nums[left], nums[i] = nums[i], nums[left]\n",
        "                i += 1\n",
        "                left += 1\n",
        "            elif nums[i] == 1:\n",
        "                i += 1\n",
        "            elif nums[i] == 2:\n",
        "                nums[right], nums[i] = nums[i], nums[right]\n",
        "                right -= 1\n",
        "            print(nums, i, left, right)"
      ],
      "execution_count": null,
      "outputs": []
    },
    {
      "cell_type": "markdown",
      "metadata": {
        "id": "ciy2T0yggQWl"
      },
      "source": [
        "#### 1.1.2 快速选择（quick selection）\n",
        "快速选择一般用于求解k-th element问题，可以在O(n)时间复杂度，O(1)空间复杂度完成求解问题。它与快排类似，采用了快排中的分割步骤（也就是每次把当前序列分割成两个部分，以nums[0]作为值的分界点），但它只需要找到第k大的枢（pivot）即可，不需要对其左右再进行排序。\n",
        "\n",
        "与快排一样，快速选择一般需要先打乱数组，否则最坏情况下时间复杂度为O(n\n",
        "^2)。\n",
        "\n",
        "215. Kth Largest Element in an Array\n",
        "\n",
        "本题目要求找到一个序列中最大的第K个元素。\n",
        "可以使用Priority Queue来解题，但是这样的思路可能需要自己实现heap，因为使用python的priority queue会太简单。"
      ]
    },
    {
      "cell_type": "code",
      "metadata": {
        "id": "piw5AnDpmFEw"
      },
      "source": [
        "class Solution(object):\n",
        "  def findKthLargest(self, nums, k):\n",
        "    n = len(nums)\n",
        "    if n == k:\n",
        "      return min(nums)\n",
        "    if k == 1:\n",
        "      return max(nums)\n",
        "    leftSide, rightSide = [],[]\n",
        "    leftCnt, rightCnt, equalCnt = 0,0,0\n",
        "    for i in nums:\n",
        "      if i > nums[0]:\n",
        "        rightSide.append(i)\n",
        "        rightCnt += 1\n",
        "      elif i < nums[0]:\n",
        "        leftSide.append(i)\n",
        "        leftCnt += 1\n",
        "      else:\n",
        "        equalCnt += 1\n",
        "    return self.findKthLargest(rightSide, k) if rightCnt >= k else nums[0] if (rightCnt+equalCnt) >= k else self.findKthLargest(leftSide, k-rightCnt-equalCnt) #从后往前数第k个"
      ],
      "execution_count": null,
      "outputs": []
    },
    {
      "cell_type": "code",
      "metadata": {
        "colab": {
          "base_uri": "https://localhost:8080/"
        },
        "id": "5gGpFolSqHMC",
        "outputId": "bb8ef2fd-34ce-4f05-dea4-0a2c4778f00a"
      },
      "source": [
        "s = Solution()\n",
        "s.findKthLargest([3,2,3,1,2,4,5,5,6], 4)"
      ],
      "execution_count": null,
      "outputs": [
        {
          "output_type": "execute_result",
          "data": {
            "text/plain": [
              "4"
            ]
          },
          "metadata": {
            "tags": []
          },
          "execution_count": 19
        }
      ]
    },
    {
      "cell_type": "markdown",
      "metadata": {
        "id": "lSoM9oFGeFpW"
      },
      "source": [
        "#### 1.2 插入排序\n",
        "#### 1.2.1 简单插入排序（insert sort）O(n^2)\n",
        "插入排序的基本操作就是将一个数据插入到已经排好序的有序数据中，从而得到一个新的、个数加一的有序数据，算法适用于少量数据的排序，时间复杂度为O(n^2)。是稳定的排序方法。\n",
        "\n",
        "从第一个元素开始，该元素可以认为已经被排序；\n",
        "\n",
        "取出下一个元素，在已经排序的元素序列中从后向前扫描；\n",
        "\n",
        "如果该元素（已排序）大于新元素，将该元素移到下一位置；\n",
        "\n",
        "重复步骤3，直到找到已排序的元素小于或者等于新元素的位置；\n",
        "\n",
        "将新元素插入到该位置后；\n",
        "\n",
        "重复步骤2~5。"
      ]
    },
    {
      "cell_type": "code",
      "metadata": {
        "id": "7C7wxdhOeFpW"
      },
      "source": [
        "def insertSort(seq):\n",
        "    count = len(seq)\n",
        "    for i in range(1, count):\n",
        "        key = seq[i]\n",
        "        j = i - 1\n",
        "        while j >= 0: #这个部分有点像双指针,滑动窗口？\n",
        "            if seq[j] > key:\n",
        "                seq[j+1] = seq[j]\n",
        "                seq[j] = key\n",
        "            j -= 1\n",
        "    return seq"
      ],
      "execution_count": null,
      "outputs": []
    },
    {
      "cell_type": "code",
      "metadata": {
        "id": "BfY4JTsEeFpW",
        "outputId": "eec2aed6-b660-428e-b7eb-3ff893744487"
      },
      "source": [
        "seq = [9,8,7,6,5,4]\n",
        "random.shuffle(seq)\n",
        "print(insertSort(seq))"
      ],
      "execution_count": null,
      "outputs": [
        {
          "output_type": "stream",
          "text": [
            "[4, 5, 6, 7, 8, 9]\n"
          ],
          "name": "stdout"
        }
      ]
    },
    {
      "cell_type": "code",
      "metadata": {
        "id": "EMSFsxHVqDat"
      },
      "source": [
        ""
      ],
      "execution_count": null,
      "outputs": []
    },
    {
      "cell_type": "markdown",
      "metadata": {
        "id": "uOBCbVZxeFpW"
      },
      "source": [
        "#### 1.3 选择排序\n",
        "#### 1.3.1 简单选择排序 O(n^2)\n",
        "选择排序，每次选择当前序列的最小值，将其与当前序列的第一个元素交换位置，每迭代一次，当前序列长度减一。迭代结束，即可得到有序序列。"
      ]
    },
    {
      "cell_type": "code",
      "metadata": {
        "id": "oVDVjnA-eFpW"
      },
      "source": [
        "def fine_minimal_index(seq):\n",
        "    min_elem = seq[0]\n",
        "    count = 0\n",
        "    min_elem_index = count\n",
        "    for elem in seq[1:]:\n",
        "        count += 1\n",
        "        if elem < min_elem:\n",
        "            elem, min_elem = min_elem, elem\n",
        "            min_elem_index = count\n",
        "    return min_elem_index\n",
        "\n",
        "def select_sort(seq):\n",
        "    length = len(seq)\n",
        "    for i in range(length):\n",
        "        index = find_minimal_index(seq[i:])\n",
        "        seq[index+i], seq[i] = seq[i], seq[index+i]\n",
        "    return seq"
      ],
      "execution_count": null,
      "outputs": []
    },
    {
      "cell_type": "markdown",
      "metadata": {
        "id": "aKifQq6IeFpW"
      },
      "source": [
        "#### 1.4 归并排序 O(nlogn)\n",
        "#### 1.4.1 二路归并排序（insert sort）O(n^2)\n",
        "归并排序是建立在归并操作上的一种有效的排序算法。该算法是采用分治法（Divide and Conquer）的一个非常典型的应用。将已有序的子序列合并，得到完全有序的序列；即先使每个子序列有序，再使子序列段间有序。若将两个有序表合并成一个有序表，称为2-路归并。 \n",
        "\n",
        "把长度为n的输入序列分成两个长度为n//2的子序列；\n",
        "\n",
        "对这两个子序列分别采用归并排序；\n",
        "\n",
        "将两个排序好的子序列合并成一个最终的排序序列"
      ]
    },
    {
      "cell_type": "markdown",
      "metadata": {
        "id": "AoYhbGd8eFpW"
      },
      "source": [
        "**时间复杂度： O(nlogn)**\n",
        "归并排序把数组一层层拆半分组，长度为n的数组，折半层数就是logn，每一层进行操作的运算量是n，所以时间复杂度是O(nlogn)\n",
        "\n",
        "（由于cnt每次在乘以2之后都会更加逼近n，也就是说，在有x次后，cnt将会大于n从而跳出循环，所以$2 ^ x = n$, 也就是$x = log_2n$，所以这个循环的复杂度为$O(logn)）$\n",
        "\n",
        "**空间复杂度： O(n)**\n",
        "每次归并会创建额外的新数组，占用空间为n，但这部分额外空间会随着方法的结束而释放\n",
        "\n",
        "**稳定性： 稳定**\n",
        "从算法中从左到右逐一比较，较小的先放入新数组，所以两个值相同的元素，排序后依然保持原先后顺序\n"
      ]
    },
    {
      "cell_type": "code",
      "metadata": {
        "id": "sXJ9LRsfeFpW"
      },
      "source": [
        "def merge(list_left, list_right):\n",
        "    \"\"\"\n",
        "    将两个有序数组合并城一个大的有序数组\n",
        "    \"\"\"\n",
        "    l, r = 0, 0\n",
        "    new_list = []\n",
        "    while l < len(list_left) and r < len(list_right):\n",
        "        if list_left[l] < list_right[r]:\n",
        "            new_list.append(list_left[l])\n",
        "            l += 1\n",
        "        else:\n",
        "            new_list.append(list_right[r])\n",
        "            r += 1\n",
        "    new_list += list_left[l:]\n",
        "    new_list += list_right[r:]\n",
        "    return new_list\n",
        "\n",
        "def merge_sort(mylist):\n",
        "    \"\"\"\n",
        "    归并排序\n",
        "    mylist：待排序数组\n",
        "    return：新数组list\n",
        "    \"\"\"\n",
        "    if len(mylist) <= 1:\n",
        "        return mylist\n",
        "    mid = len(mylist) // 2\n",
        "    list_left = merge_sort(mylist[:mid])\n",
        "    list_right = merge_sort(mylist[mid:])\n",
        "    return merge(list_left, list_right)\n",
        "    "
      ],
      "execution_count": null,
      "outputs": []
    },
    {
      "cell_type": "code",
      "metadata": {
        "id": "QopuMHXheFpW",
        "outputId": "40f8516b-7de4-4619-8202-4c13c9ed7427"
      },
      "source": [
        "mylist = [12,33,22,199,0,54,33,11]\n",
        "result = merge_sort(mylist)\n",
        "print(f'归并排序后：{result}')"
      ],
      "execution_count": null,
      "outputs": [
        {
          "output_type": "stream",
          "text": [
            "归并排序后：[0, 11, 12, 22, 33, 33, 54, 199]\n"
          ],
          "name": "stdout"
        }
      ]
    },
    {
      "cell_type": "markdown",
      "metadata": {
        "id": "z8unsHA1eFpW"
      },
      "source": [
        "## 双指针技巧总结\n",
        "我把双指针技巧再分为两类，一类**快慢指针**，一类是**左右指针**。前者解决主要解决链表中的问题，比如典型的判定链表中是否包含环；后者主要解决数组（或者字符串）中的问题，比如二分查找。"
      ]
    },
    {
      "cell_type": "markdown",
      "metadata": {
        "id": "a8ZA4oPTeFpW"
      },
      "source": [
        "### 1. 快慢指针的常见算法\n",
        "快慢指针一般都初始化指向链表的头结点 head，前进时快指针 fast 在前，慢指针 slow 在后，巧妙解决一些链表中的问题。\n",
        "#### 1.1 判定链表中是否含有环\n",
        "这应该属于链表最基本的操作了，如果读者已经知道这个技巧，可以跳过。\n",
        "\n",
        "单链表的特点是每个节点只知道下一个节点，所以一个指针的话无法判断链表中是否含有环的。\n",
        "\n",
        "如果链表中不含环，那么这个指针最终会遇到空指针 null 表示链表到头了，这还好说，可以判断该链表不含环。"
      ]
    },
    {
      "cell_type": "code",
      "metadata": {
        "id": "GWO4hUoxeFpW"
      },
      "source": [
        "def hasCycle(head):\n",
        "    while head:\n",
        "        head = head.next\n",
        "    return False"
      ],
      "execution_count": null,
      "outputs": []
    },
    {
      "cell_type": "markdown",
      "metadata": {
        "id": "j5To4IgreFpW"
      },
      "source": [
        "但是如果链表中含有环，那么这个指针就会陷入死循环，因为环形数组中没有 null 指针作为尾部节点。\n",
        "\n",
        "经典解法就是用两个指针，一个跑得快，一个跑得慢。如果不含有环，跑得快的那个指针最终会遇到 null，说明链表不含环；如果含有环，快指针最终会超慢指针一圈，和慢指针相遇，说明链表含有环。"
      ]
    },
    {
      "cell_type": "code",
      "metadata": {
        "id": "3DkT7n9_eFpW"
      },
      "source": [
        "def hasCycle(head):\n",
        "    fast = slow = head\n",
        "    while fast and fast.next:\n",
        "        fast = fast.next.next #当fast.next.next为None时，会停止循环\n",
        "        slow = slow.next\n",
        "        \n",
        "        if fast == slow:\n",
        "            return True\n",
        "    return False"
      ],
      "execution_count": null,
      "outputs": []
    },
    {
      "cell_type": "markdown",
      "metadata": {
        "id": "ij69e_3zeFpW"
      },
      "source": [
        "#### 1.2 已知链表中含有环，返回这个环的起始位置\n",
        "(142. Linked List Cycle II)\n"
      ]
    },
    {
      "cell_type": "markdown",
      "metadata": {
        "id": "h9gljJa-eFpW"
      },
      "source": [
        "当快慢指针相遇时，让其中任一个指针指向头节点，然后让它俩以相同速度前进，再次相遇时所在的节点位置就是环开始的位置。这是为什么呢？\n",
        "\n",
        "第一次相遇时，假设慢指针 slow 走了 k 步，那么快指针 fast 一定走了 2k 步，也就是说比 slow 多走了 k 步（环长度的倍数）。\n",
        "\n",
        "设相遇点距环的起点的距离为 m，那么环的起点距头结点 head 的距离为 k - m，也就是说如果从 head 前进 k - m 步就能到达环起点。\n",
        "\n",
        "巧的是，如果从相遇点继续前进 k - m 步，也恰好到达环起点。\n",
        "\n",
        "所以，只要我们把快慢指针中的任一个重新指向 head，然后两个指针同速前进，k - m 步后就会相遇，相遇之处就是环的起点了。"
      ]
    },
    {
      "cell_type": "code",
      "metadata": {
        "id": "tRhOsTrJeFpW"
      },
      "source": [
        "class Solution:\n",
        "    def detectCycle(self, head: ListNode) -> ListNode:\n",
        "        if not head or not head.next:\n",
        "            return None\n",
        "        fast = slow = head\n",
        "        while fast and fast.next:\n",
        "            fast = fast.next.next\n",
        "            slow = slow.next\n",
        "            if fast == slow:\n",
        "                slow = head\n",
        "                while slow!=fast:\n",
        "                    fast = fast.next\n",
        "                    slow = slow.next\n",
        "                return slow\n",
        "        return None"
      ],
      "execution_count": null,
      "outputs": []
    },
    {
      "cell_type": "markdown",
      "metadata": {
        "id": "QK3wRUC_eFpW"
      },
      "source": [
        "#### 1.3 寻找链表的中点\n",
        "类似上面的思路，我们还可以让快指针一次前进两步，慢指针一次前进一步，当快指针到达链表尽头时，慢指针就处于链表的中间位置。"
      ]
    },
    {
      "cell_type": "code",
      "metadata": {
        "id": "j3Q8nqbXeFpW"
      },
      "source": [
        "while fast and fast.next:\n",
        "    fast = fast.next.next\n",
        "    slow = slow.next\n",
        "\n",
        "return slow"
      ],
      "execution_count": null,
      "outputs": []
    },
    {
      "cell_type": "markdown",
      "metadata": {
        "id": "grGsvUc0eFpW"
      },
      "source": [
        "当链表的长度是奇数时，slow 恰巧停在中点位置；如果长度是偶数，slow 最终的位置是中间偏右：\n",
        "\n",
        "寻找链表中点的一个重要作用是对链表进行归并排序。\n",
        "\n",
        "回想数组的归并排序：求中点索引递归地把数组二分，最后合并两个有序数组。对于链表，合并两个有序链表是很简单的，难点就在于二分。\n",
        "\n",
        "但是现在你学会了找到链表的中点，就能实现链表的二分了。\n",
        "\n",
        "#### 148. 排序链表 sort list\n",
        "\n",
        "在  O(n log n) 时间复杂度和常数级空间复杂度下，对链表进行排序。\n",
        "\n",
        "思路：归并排序，找中点和合并操作"
      ]
    },
    {
      "cell_type": "code",
      "metadata": {
        "id": "c0dey8K3eFpW"
      },
      "source": [
        "class Solution:\n",
        "    def sortList(self,head):\n",
        "        #if (not head) or (not head.next):\n",
        "        if not head:\n",
        "            return None\n",
        "        if (not head.next):\n",
        "        #if not head:\n",
        "            return head\n",
        "        mid = self.findMid(head)\n",
        "        right = self.sortList(mid.next)\n",
        "        mid.next=None\n",
        "        left = self.sortList(head)\n",
        "        return self.merge(head1=left,head2=right)\n",
        "\n",
        "    def merge(self,head1,head2):\n",
        "        dummy = ListNode(0)\n",
        "        p = dummy\n",
        "        while head1 and head2:\n",
        "            if head1.val<head2.val:\n",
        "                p.next = head1\n",
        "                head1 = head1.next\n",
        "            else:\n",
        "                p.next = head2\n",
        "                head2 = head2.next\n",
        "            p = p.next\n",
        "        if head1:\n",
        "            p.next = head1\n",
        "        else:\n",
        "            p.next = head2\n",
        "        return dummy.next\n",
        "\n",
        "    def findMid(self,head):\n",
        "        slow,fast = head,head.next\n",
        "        while fast and fast.next:\n",
        "            fast = fast.next.next\n",
        "            slow = slow.next\n",
        "        return slow"
      ],
      "execution_count": null,
      "outputs": []
    },
    {
      "cell_type": "code",
      "metadata": {
        "id": "iKJz-HApeFpW"
      },
      "source": [
        "# Definition for singly-linked list.\n",
        "# class ListNode:\n",
        "#     def __init__(self, val=0, next=None):\n",
        "#         self.val = val\n",
        "#         self.next = next\n",
        "class Solution:\n",
        "    def sortList(self, head: ListNode) -> ListNode:\n",
        "        return self.mergeSort(head)\n",
        "        \n",
        "    def findMid(self, head):\n",
        "        slow = head\n",
        "        fast = head.next\n",
        "        # 如果用fast = slow = head的方法来初始化fast和slow，在节点数为偶数的情况下找到的mid就是中间偏右边那个\n",
        "        # 在本题的情况下，我们要找中间偏左这个，便于我们把midNode.next设为None，断开左右连表\n",
        "        # 如果我们找到的是中间偏右这个，则无法把左右链表正确断开\n",
        "        while fast and fast.next:\n",
        "            fast = fast.next.next\n",
        "            slow = slow.next\n",
        "        return slow\n",
        "    \n",
        "    def mergeSort(self, head):\n",
        "        if not head:\n",
        "            return None\n",
        "        if not head.next:\n",
        "            return head\n",
        "        midNode = self.findMid(head)\n",
        "        # 注意这里先处理右半边，再断开右边和左边，再处理左边\n",
        "        rightHead = self.mergeSort(midNode.next)\n",
        "        midNode.next = None\n",
        "        leftHead = self.mergeSort(head)\n",
        "        return self.merge(leftHead, rightHead)\n",
        "    \n",
        "    def merge(self, leftHead, rightHead):\n",
        "        l, r = leftHead, rightHead\n",
        "        dummy = ListNode(0)\n",
        "        node = dummy\n",
        "        while l and r:\n",
        "            if l.val < r.val:\n",
        "                node.next = l\n",
        "                l = l.next\n",
        "            else:\n",
        "                node.next = r\n",
        "                r = r.next\n",
        "            node = node.next\n",
        "        if l:\n",
        "            node.next = l\n",
        "        elif r:\n",
        "            node.next = r\n",
        "        return dummy.next"
      ],
      "execution_count": null,
      "outputs": []
    },
    {
      "cell_type": "markdown",
      "metadata": {
        "id": "wXU9sW9ueFpW"
      },
      "source": [
        "lintcode 1531 自动校对程序\n",
        "\n",
        "描述\n",
        "中文\n",
        "English\n",
        "有一些单词中有拼写错误，请编写一个程序，能够自动校对单词的拼写，并且返回正确值。\n",
        "校对的规则如下：\n",
        "\n",
        "如果有三个相同的字符连在一起，一定是拼写错误，去掉其中一个，如：ooops -> oopsooops−>oops。\n",
        "如果有两对一样的字符(AABB的形式)连在一起,，一定是拼写错误，去掉第二对中的一个字符，如：helloo -> hellohelloo−>hello。\n",
        "以上两条规则要优先从左往右处理，如：aabbccaabbcc 中 aabbaabb 和 bbccbbcc 都是拼写错误，应该优先考虑修复aabbaabb，结果是aabccaabcc。\n",
        "输入字符串的长度为 nn，1 <= n <= 10^51<=n<=10\n",
        "​5\n",
        "​​ 。\n",
        "字符串均由小写字符组成。"
      ]
    },
    {
      "cell_type": "code",
      "metadata": {
        "id": "pq5LocYGeFpW"
      },
      "source": [
        "class Solution:\n",
        "    \"\"\"\n",
        "    @param str: The string before proofreading.\n",
        "    @return: Return the string after proofreading.\n",
        "    \"\"\"\n",
        "    def automaticProofreadingProgram(self, str):\n",
        "        # Write your code here.\n",
        "        n = 2\n",
        "        while n > 0:\n",
        "            s = str\n",
        "            res = []\n",
        "            for e in s:\n",
        "                if len(res) < 2:\n",
        "                    res.append(e)\n",
        "                    continue\n",
        "                if len(res) >= 2:\n",
        "                    if e == res[-1] and e == res[-2]:\n",
        "                        continue\n",
        "                if len(res) >= 3:\n",
        "                    if e == res[-1] and res[-2] == res[-3]:\n",
        "                        continue\n",
        "                res.append(e)\n",
        "\n",
        "            res = \"\".join(res)\n",
        "            n -= 1\n",
        "        return res"
      ],
      "execution_count": null,
      "outputs": []
    },
    {
      "cell_type": "markdown",
      "metadata": {
        "id": "DrhVm3iceFpW"
      },
      "source": [
        "### 【双指针】删除重复项-带优化思路\n",
        "26. 删除排序数组中的重复项\n",
        "\n",
        "给定一个排序数组，你需要在 原地 删除重复出现的元素，使得每个元素只出现一次，返回移除后数组的新长度。\n",
        "\n",
        "不要使用额外的数组空间，你必须在 原地 修改输入数组 并在使用 O(1) 额外空间的条件下完成。\n",
        "\n",
        " \n",
        "\n",
        "示例 1:\n",
        "\n",
        "给定数组 nums = [1,1,2], \n",
        "\n",
        "函数应该返回新的长度 2, 并且原数组 nums 的前两个元素被修改为 1, 2。 \n",
        "\n",
        "你不需要考虑数组中超出新长度后面的元素。\n",
        "示例 2:\n",
        "\n",
        "给定 nums = [0,0,1,1,1,2,2,3,3,4],\n",
        "\n",
        "函数应该返回新的长度 5, 并且原数组 nums 的前五个元素被修改为 0, 1, 2, 3, 4。\n",
        "\n",
        "你不需要考虑数组中超出新长度后面的元素。\n",
        " \n",
        "\n",
        "说明:\n",
        "\n",
        "为什么返回数值是整数，但输出的答案是数组呢?\n",
        "\n",
        "请注意，输入数组是以「引用」方式传递的，这意味着在函数里修改输入数组对于调用者是可见的。\n",
        "\n",
        "你可以想象内部操作如下:\n",
        "\n",
        "// nums 是以“引用”方式传递的。也就是说，不对实参做任何拷贝\n",
        "int len = removeDuplicates(nums);\n",
        "\n",
        "// 在函数里修改输入数组对于调用者是可见的。\n",
        "// 根据你的函数返回的长度, 它会打印出数组中该长度范围内的所有元素。\n",
        "for (int i = 0; i < len; i++) {\n",
        "    print(nums[i]);\n",
        "}\n",
        "\n"
      ]
    },
    {
      "cell_type": "markdown",
      "metadata": {
        "id": "xBxA-66xeFpW"
      },
      "source": [
        "解法： 双指针\n",
        "\n",
        "首先注意数组是有序的，那么重复的元素一定会相邻。\n",
        "\n",
        "要求删除重复元素，实际上就是将不重复的元素移到数组的左侧。\n",
        "\n",
        "考虑用 2 个指针，一个在前记作 p，一个在后记作 q，算法流程如下：\n",
        "\n",
        "1.比较 p 和 q 位置的元素是否相等。\n",
        "\n",
        "**如果相等，q 后移 1 位\n",
        "如果不相等，将 q 位置的元素复制到 p+1 位置上，p 后移一位，q 后移 1 位\n",
        "重复上述过程，直到 q 等于数组长度。**\n",
        "\n",
        "返回 p + 1，即为新数组长度。\n",
        "\n"
      ]
    },
    {
      "cell_type": "code",
      "metadata": {
        "id": "YRsw9EPIeFpW"
      },
      "source": [
        "class Solution:\n",
        "    def removeDuplicates(self, nums: List[int]) -> int:\n",
        "        if not nums: \n",
        "            return 0\n",
        "        # i是慢指针， j是快指针\n",
        "        i = 0 \n",
        "        for j in range(1, len(nums)):\n",
        "            # 如果相等，j往后移一位\n",
        "            # 如果不相等，将j位置的元素复制到i+1位置上，i后移一位，q后移一位，重复以上过程\n",
        "            if nums[i] != nums[j]:\n",
        "                i += 1\n",
        "                nums[i] = nums[j]\n",
        "        return i + 1"
      ],
      "execution_count": null,
      "outputs": []
    },
    {
      "cell_type": "markdown",
      "metadata": {
        "id": "FQF7Ptb4eFpW"
      },
      "source": [
        "#### 1.4. 寻找链表的倒数第k个元素\n",
        "我们的思路还是使用快慢指针，让快指针先走 k 步，然后快慢指针开始同速前进。这样当快指针走到链表末尾 null 时，慢指针所在的位置就是倒数第 k 个链表节点（为了简化，假设 k 不会超过链表长度）："
      ]
    },
    {
      "cell_type": "code",
      "metadata": {
        "id": "hGd3mK96eFpX"
      },
      "source": [
        "def a(head):\n",
        "    slow = fast = head\n",
        "    while k > 0:\n",
        "        fast = fast.next\n",
        "        k -= 1\n",
        "    while fast:\n",
        "        slow = slow.next\n",
        "        fast = fast.next\n",
        "    return slow"
      ],
      "execution_count": null,
      "outputs": []
    },
    {
      "cell_type": "markdown",
      "metadata": {
        "id": "U-iIyrwweFpX"
      },
      "source": [
        "### 2.左右指针的常用算法\n",
        "左右指针在数组中实际是指两个索引值，一般初始化为 left = 0, right = nums.length - 1 。\n",
        "#### 2.1 二分查找\n",
        "前文「二分查找」有详细讲解，这里只写最简单的二分算法，旨在突出它的双指针特性："
      ]
    },
    {
      "cell_type": "code",
      "metadata": {
        "id": "JrSqmU8feFpX"
      },
      "source": [
        "def binarySearch(nums, target):\n",
        "    left = 0\n",
        "    right = len(nums) - 1\n",
        "    while left <= right:\n",
        "        mid = (right + left) / 2\n",
        "        if nums[mid] == target:\n",
        "            return mid\n",
        "        elif nums[mid] < target:\n",
        "            left = mid + 1\n",
        "        elif nums[mid] > target:\n",
        "            right = mid - 1\n",
        "    return None"
      ],
      "execution_count": null,
      "outputs": []
    },
    {
      "cell_type": "markdown",
      "metadata": {
        "id": "giLMd0YDeFpX"
      },
      "source": [
        "#### 153. Find Minimum in Rotated Sorted Array\n",
        "Suppose an array sorted in ascending order is rotated at some pivot unknown to you beforehand.\n",
        "\n",
        "(i.e.,  [0,1,2,4,5,6,7] might become  [4,5,6,7,0,1,2]).\n",
        "\n",
        "Find the minimum element."
      ]
    },
    {
      "cell_type": "code",
      "metadata": {
        "id": "kjhtFH6seFpX"
      },
      "source": [
        "class Solution:\n",
        "    def findMin(self, nums):\n",
        "        left = 0\n",
        "        right = len(nums) - 1\n",
        "        if left == right:\n",
        "            return nums[left]\n",
        "        if nums[0] <= nums[-1]:\n",
        "            return nums[0]\n",
        "        while left < right:\n",
        "            mid = left + (right - left)//2\n",
        "            if nums[mid] > nums[left]:\n",
        "                left = mid\n",
        "            elif nums[mid] < nums[left]:\n",
        "                right = mid\n",
        "            else:\n",
        "                return nums[left+1]\n",
        "    \n",
        "        # 和right比较\n",
        "        left = 0\n",
        "        right = len(nums) - 1\n",
        "        while left < right:\n",
        "            mid = left + (right - left)//2\n",
        "            if nums[mid] < nums[right]:\n",
        "                right = mid\n",
        "            elif nums[mid] > nums[right]:\n",
        "                left = mid + 1\n",
        "        return nums[left]"
      ],
      "execution_count": null,
      "outputs": []
    },
    {
      "cell_type": "markdown",
      "metadata": {
        "id": "bu8QODpbeFpX"
      },
      "source": [
        "#### 154. Find Minimum in Rotated Sorted Array II\n",
        "Suppose an array sorted in ascending order is rotated at some pivot unknown to you beforehand.\n",
        "\n",
        "(i.e.,  [0,1,2,4,5,6,7] might become  [4,5,6,7,0,1,2]).\n",
        "\n",
        "Find the minimum element.\n",
        "\n",
        "**The array may contain duplicates.**"
      ]
    },
    {
      "cell_type": "code",
      "metadata": {
        "id": "sIqOxmiOeFpX"
      },
      "source": [
        "class Solution:\n",
        "    def findMin(self, nums):\n",
        "        left, right = 0, len(nums) - 1\n",
        "        while left < right:\n",
        "            mid = left + (right - left) // 2\n",
        "            if nums[mid] > nums[right]: left = mid + 1\n",
        "            elif nums[mid] < nums[right]: right = mid\n",
        "            else: right = right - 1 # key\n",
        "        return nums[right]"
      ],
      "execution_count": null,
      "outputs": []
    },
    {
      "cell_type": "markdown",
      "metadata": {
        "id": "3yiBpvBqeFpX"
      },
      "source": [
        "75. Sort Colors\n",
        "Medium\n",
        "\n",
        "3710\n",
        "\n",
        "232\n",
        "\n",
        "Add to List\n",
        "\n",
        "Share\n",
        "Given an array with n objects colored red, white or blue, sort them in-place so that objects of the same color are adjacent, with the colors in the order red, white and blue.\n",
        "\n",
        "Here, we will use the integers 0, 1, and 2 to represent the color red, white, and blue respectively.\n",
        "\n",
        "Note: You are not suppose to use the library's sort function for this problem.\n",
        "\n",
        "Example:\n",
        "\n",
        "Input: [2,0,2,1,1,0]\n",
        "Output: [0,0,1,1,2,2]\n",
        "Follow up:\n",
        "\n",
        "A rather straight forward solution is a two-pass algorithm using counting sort.\n",
        "First, iterate the array counting number of 0's, 1's, and 2's, then overwrite array with total number of 0's, then 1's and followed by 2's.\n",
        "Could you come up with a one-pass algorithm using only constant space?"
      ]
    },
    {
      "cell_type": "code",
      "metadata": {
        "id": "KhE9FciaeFpX"
      },
      "source": [
        "class Solution:\n",
        "    def sortColors(self, nums: List[int]) -> None:\n",
        "        \"\"\"\n",
        "        Do not return anything, modify nums in-place instead.\n",
        "        \"\"\"\n",
        "        left = 0\n",
        "        right = len(nums) - 1\n",
        "        i = 0\n",
        "        while i <= right:\n",
        "            if nums[i] == 0:\n",
        "                nums[left], nums[i] = nums[i], nums[left]\n",
        "                i += 1\n",
        "                left += 1\n",
        "            elif nums[i] == 1:\n",
        "                i += 1\n",
        "            elif nums[i] == 2:\n",
        "                nums[right], nums[i] = nums[i], nums[right]\n",
        "                right -= 1\n",
        "            #print(nums, i, left, right)"
      ],
      "execution_count": null,
      "outputs": []
    },
    {
      "cell_type": "markdown",
      "metadata": {
        "id": "_C6B6tDLeFpX"
      },
      "source": [
        "#### 2.2 两数之和 （Two Sum）\n",
        "#### 167. Two Sum II - Input array is sorted\n",
        "**注意这里的数组是有序的，如果是无序数组，可以用HashMap或者HashSet本来处理无序数组**"
      ]
    },
    {
      "cell_type": "markdown",
      "metadata": {
        "id": "TXiitQHkeFpX"
      },
      "source": [
        "给定一个整数数组 nums 和一个目标值 target，请你在该数组中找出和为目标值的那 两个 整数，并返回他们的数组下标。\n",
        "\n",
        "你可以假设每种输入只会对应一个答案。但是，数组中同一个元素不能使用两遍。\n",
        "\n",
        "示例\n",
        "\n",
        "Input: numbers = [2,7,11,15], target = 9\n",
        "Output: [1,2]\n",
        "Explanation: The sum of 2 and 7 is 9. Therefore index1 = 1, index2 = 2."
      ]
    },
    {
      "cell_type": "markdown",
      "metadata": {
        "id": "70X1g7YyeFpX"
      },
      "source": [
        "**只要数组有序，就应该想到双指针技巧**。这道题的解法有点类似二分查找，通过调节 left 和 right 可以调整 sum 的大小："
      ]
    },
    {
      "cell_type": "code",
      "metadata": {
        "id": "HJiIXgiGeFpX"
      },
      "source": [
        "def twoSum(nums, target):\n",
        "    left, right = 0, len(nums)-1\n",
        "    while left < right:\n",
        "        sum = nums[left] + nums[right]\n",
        "        if sum == target:\n",
        "            return [left+1, right+1]\n",
        "        elif sum < target:\n",
        "            left += 1\n",
        "        elif sum > target:\n",
        "            right -= 1\n",
        "    return [-1,-1]"
      ],
      "execution_count": null,
      "outputs": []
    },
    {
      "cell_type": "markdown",
      "metadata": {
        "id": "R5-QCgTveFpX"
      },
      "source": [
        "#### 无序的Two Sum\n",
        "TwoSum I\n",
        "\n",
        "这个问题的最基本形式是这样：给你一个数组和一个整数 target，可以保证数组中存在两个数的和为 target，请你返回这两个数的索引。\n",
        "\n",
        "比如输入 nums = [3,1,3,6], target = 6，算法应该返回数组 [0,2]，因为 3 + 3 = 6。\n",
        "\n",
        "这个问题如何解决呢？首先最简单粗暴的办法当然是穷举了：\n",
        "\n",
        "这个解法非常直接，时间复杂度 O(N^2)，空间复杂度 O(1)。\n",
        "\n",
        "可以通过一个**哈希表**减少时间复杂度："
      ]
    },
    {
      "cell_type": "code",
      "metadata": {
        "id": "DSoAKbFgeFpX"
      },
      "source": [
        "def twoSum(nums, target):\n",
        "    dic = dict()\n",
        "    for i, num in enumerate(nums):\n",
        "        if target-num in dic:\n",
        "            return(dic[target-num], i)\n",
        "        dic[num] = i"
      ],
      "execution_count": null,
      "outputs": []
    },
    {
      "cell_type": "markdown",
      "metadata": {
        "id": "kIFbOgz7eFpX"
      },
      "source": [
        "15. 3Sum\n",
        "Medium\n",
        "\n",
        "7590\n",
        "\n",
        "860\n",
        "\n",
        "Add to List\n",
        "\n",
        "Share\n",
        "Given an array nums of n integers, are there elements a, b, c in nums such that a + b + c = 0? Find all unique triplets in the array which gives the sum of zero.\n",
        "\n",
        "Note:\n",
        "\n",
        "The solution set must not contain duplicate triplets.\n",
        "\n",
        "Example:\n",
        "\n",
        "Given array nums = [-1, 0, 1, 2, -1, -4],\n",
        "\n",
        "A solution set is:\n",
        "[\n",
        "  [-1, 0, 1],\n",
        "  [-1, -1, 2]\n",
        "]"
      ]
    },
    {
      "cell_type": "code",
      "metadata": {
        "id": "D4CbQnzNeFpX"
      },
      "source": [
        "class Solution:\n",
        "    def threeSum(self, nums: List[int]) -> List[List[int]]:\n",
        "        res = []\n",
        "        if len(nums) < 3:\n",
        "            return res\n",
        "        nums.sort()\n",
        "        for i in range(len(nums)-2):\n",
        "            # 如果nums[i] >0, 就不用往下循环了\n",
        "            if nums[i] > 0:\n",
        "                break\n",
        "            if i > 0 and nums[i-1] == nums[i]:\n",
        "                continue\n",
        "                \n",
        "            dic = collections.defaultdict(list)\n",
        "            target = -nums[i]\n",
        "            for j in range(i+1,len(nums)):\n",
        "                if target-nums[j] in dic:\n",
        "                    res.append((nums[i], nums[dic[target-nums[j]]], nums[j]))\n",
        "                dic[nums[j]] = j\n",
        "        # 由元组构成的list可以用set去重，然后再转化成list\n",
        "        res = list(set(res))\n",
        "        return res"
      ],
      "execution_count": null,
      "outputs": []
    },
    {
      "cell_type": "markdown",
      "metadata": {
        "id": "_O15HhOqeFpX"
      },
      "source": [
        "#### 2.3 反转数组"
      ]
    },
    {
      "cell_type": "code",
      "metadata": {
        "id": "p7nP4q5neFpX"
      },
      "source": [
        "def reverse(nums):\n",
        "    left, right = 0, len(nums)-1\n",
        "    while left < right:\n",
        "        nums[left], nums[right] = nums[right], nums[left]\n",
        "        left += 1\n",
        "        right -= 1"
      ],
      "execution_count": null,
      "outputs": []
    },
    {
      "cell_type": "markdown",
      "metadata": {
        "id": "syVAhskqeFpX"
      },
      "source": [
        "#### 2.4 滑动窗口算法 （子串匹配）\n",
        "这也许是双指针技巧的最高境界了，如果掌握了此算法，可以解决一大类子字符串匹配的问题，不过「滑动窗口」稍微比上述的这些算法复杂些\n",
        "\n",
        "本文详解「滑动窗口」这种高级双指针技巧的算法框架，带你秒杀几道高难度的子字符串匹配问题。\n",
        "\n",
        "LeetCode 上至少有 9 道题目可以用此方法高效解决。但是有几道是 VIP 题目，有几道题目虽不难但太复杂，所以本文只选择点赞最高，较为经典的，最能够讲明白的三道题来讲解。第一题为了让读者掌握算法模板，篇幅相对长，后两题就基本秒杀了。"
      ]
    },
    {
      "cell_type": "markdown",
      "metadata": {
        "id": "2uSNSugCeFpX"
      },
      "source": [
        "#### 76. Minimum Window Substring\n",
        "最小覆盖子串\n",
        "\n",
        "题目不难理解，就是说要在 S(source) 中找到包含 T(target) 中全部字母的一个子串，顺序无所谓，但这个子串一定是所有可能子串中最短的。\n",
        "\n",
        "滑动窗口算法的思路是这样：\n",
        "\n",
        "1. 我们在字符串 S 中使用双指针中的左右指针技巧，初始化 left = right = 0，把索引闭区间 [left, right] 称为一个「窗口」。\n",
        "\n",
        "2. 我们不断地增加right指针，扩大窗口[left, right], 直到窗口中的字符串符合要求（包含了T中的所有字符）。\n",
        "\n",
        "3. 此时，我们停止增加right，转而不断增加left指针缩小窗口[left, right],直到窗口中的字符串不再复合要求。同时，每次增加left， 我们都要更新一轮结果。\n",
        "\n",
        "4. 重复第2和第3步，直到right到达字符串S的尽头。\n",
        "\n",
        "这个思路其实也不难，**第 2 步相当于在寻找一个「可行解」，然后第 3 步在优化这个「可行解」，最终找到最优解。**左右指针轮流前进，窗口大小增增减减，窗口不断向右滑动。\n",
        "\n",
        "needs 和 window 相当于计数器，分别记录 T 中字符出现次数和窗口中的相应字符的出现次数。\n",
        "\n",
        "增加 right，直到窗口 [left, right] 包含了 T 中所有字符\n",
        "\n",
        "现在开始增加 left，缩小窗口 [left, right]。\n",
        "\n",
        "直到窗口中的字符串不再符合要求，left 不再继续移动。"
      ]
    },
    {
      "cell_type": "markdown",
      "metadata": {
        "id": "y8tyq-mMeFpX"
      },
      "source": [
        "之后重复上述过程，先移动 right，再移动 left…… 直到 right 指针到达字符串 S 的末端，算法结束。\n",
        "\n",
        "如果你能够理解上述过程，恭喜，你已经完全掌握了滑动窗口算法思想。至于如何具体到问题，如何得出此题的答案，都是编程问题，等会提供一套模板，理解一下就会了。\n",
        "\n",
        "上述过程可以简单地写出如下伪码框架："
      ]
    },
    {
      "cell_type": "code",
      "metadata": {
        "id": "OpTeuB_3eFpX"
      },
      "source": [
        "# 在s中寻找t的最小覆盖子串\n",
        "left, right = 0, 0\n",
        "res = s\n",
        "\n",
        "while right < len(s):\n",
        "    window.add(s[right])\n",
        "    right++\n",
        "    while(window符合要求):\n",
        "        # 如果这个窗口的子串更短，则更新res\n",
        "        res = minLen(res, window)\n",
        "        window.remove(s[left])\n",
        "        left++\n",
        "        \n",
        "return res"
      ],
      "execution_count": null,
      "outputs": []
    },
    {
      "cell_type": "markdown",
      "metadata": {
        "id": "W0hxdu2ieFpX"
      },
      "source": [
        "如果上述代码你也能够理解，那么你离解题更近了一步。现在就剩下一个比较棘手的问题：如何判断 window 即子串 s[left...right] 是否符合要求，是否包含 t 的所有字符呢？\n",
        "\n",
        "可以用两个哈希表当作计数器解决。用一个哈希表 needs 记录字符串 t 中包含的字符及出现次数，用另一个哈希表 window 记录当前「窗口」中包含的字符及出现的次数，如果 window 包含所有 needs 中的键，且这些键对应的值都大于等于 needs 中的值，那么就可以知道当前「窗口」符合要求了，可以开始移动 left 指针了。\n",
        "\n",
        "现在将上面的框架继续细化："
      ]
    },
    {
      "cell_type": "code",
      "metadata": {
        "id": "t9pCkHAVeFpX"
      },
      "source": [
        "def minWindow(s, t):\n",
        "    start, min_len = 0, float('Inf')\n",
        "    left, right = 0, 0\n",
        "    res = s\n",
        "    \n",
        "    # 两个计数器\n",
        "    needs = Counter(t)\n",
        "    window = collections.defaultdict(int)\n",
        "    # defaultdict在访问的key不存在的时候返回默认值0，可以减少一次逻辑判断\n",
        "    \n",
        "    match = 0\n",
        "    \n",
        "    which right < len(s):\n",
        "        c1 = s[right]\n",
        "        if needs[c1] > 0:\n",
        "            window[c1] += 1\n",
        "            if window[c1] == needs[c1]:\n",
        "                match += 1\n",
        "        right += 1\n",
        "        \n",
        "        while match == len(needs):\n",
        "            if right - left < min_len:\n",
        "                # 更新最小子串长度\n",
        "                min_len = riht - left\n",
        "                start = left\n",
        "            c2 = s[left]\n",
        "            if needs[c2] > 0:\n",
        "                window[c2] -= 1\n",
        "                if window[c2] < needs[c2]:\n",
        "                    match -= 1\n",
        "            left += 1\n",
        "    \n",
        "    return s[start:start+min_len] if min_len != float(\"Inf\") else \"\""
      ],
      "execution_count": null,
      "outputs": []
    },
    {
      "cell_type": "markdown",
      "metadata": {
        "id": "b3GFpn8ceFpX"
      },
      "source": [
        "1044. Longest Duplicate Substring\n",
        "\n",
        "Given a string S, consider all duplicated substrings: (contiguous) substrings of S that occur 2 or more times.  (The occurrences may overlap.)\n",
        "\n",
        "Return any duplicated substring that has the longest possible length.  (If S does not have a duplicated substring, the answer is \"\".)\n",
        "\n",
        " \n",
        "\n",
        "Example 1:\n",
        "\n",
        "Input: \"banana\"\n",
        "Output: \"ana\"\n",
        "Example 2:\n",
        "\n",
        "Input: \"abcd\"\n",
        "Output: \"\"\n",
        " \n",
        "\n",
        "Note:\n",
        "\n",
        "2 <= S.length <= 10^5\n",
        "S consists of lowercase English letters."
      ]
    },
    {
      "cell_type": "code",
      "metadata": {
        "id": "c_niRfoAeFpX"
      },
      "source": [
        "class Solution:\n",
        "    def longestDupSubstring(self, S: str) -> str:\n",
        "        l, r = 0, len(S)\n",
        "        ans = ''\n",
        "        \n",
        "        # Binary Search for the length of the answer            \n",
        "        while l+1 < r:\n",
        "            m = (l+r)//2\n",
        "            if self.check(m,S)[0]:\n",
        "                l = m\n",
        "                ans = self.check(m,S)[1]\n",
        "            else:\n",
        "                r = m\n",
        "        return ans\n",
        "    \n",
        "    def check(self, m, S):\n",
        "        visited = set()\n",
        "        for i in range(len(S)-m+1):\n",
        "            c = S[i:i+m]\n",
        "            h = hash(S[i:i+m])\n",
        "            if h in visited:\n",
        "                return True, c\n",
        "            else:\n",
        "                visited.add(h)\n",
        "        return False, ''"
      ],
      "execution_count": null,
      "outputs": []
    },
    {
      "cell_type": "markdown",
      "metadata": {
        "id": "kfolxUwgeFpX"
      },
      "source": [
        "## 动态规划设计：最长递增子序列\n",
        "\n",
        "最长递增子序列（Longest Increasing Subsequence，简写 LIS）是比较经典的一个问题，比较容易想到的是动态规划解法，时间复杂度 O(N^2)，我们借这个问题来由浅入深讲解如何写动态规划。比较难想到的是利用二分查找，时间复杂度是 O(NlogN)，我们通过一种简单的纸牌游戏来辅助理解这种巧妙的解法。\n",
        "\n",
        "300. Longest Increasing Subsequence"
      ]
    },
    {
      "cell_type": "code",
      "metadata": {
        "id": "NqWRmmmjeFpX"
      },
      "source": [
        "class Solution:\n",
        "    def lengthOfLIS(self, nums):\n",
        "        if not nums:\n",
        "            return 0\n",
        "        # dp[i]存的是以nums[i]结尾的LIS的长度\n",
        "        dp = [1]*len(nums)\n",
        "        for i in range(len(nums)):\n",
        "            for j in range(i):\n",
        "                if nums[j] < nums[i]:\n",
        "                    dp[i] = max(dp[j]+1, dp[i])\n",
        "        return max(dp) "
      ],
      "execution_count": null,
      "outputs": []
    },
    {
      "cell_type": "code",
      "metadata": {
        "id": "BwwcHtxjeFpX",
        "outputId": "7c43a270-26a9-4320-88a5-93df859c17ca"
      },
      "source": [
        "s = Solution()\n",
        "s.lengthOfLIS([10,9,2,5,3,7,101,18])"
      ],
      "execution_count": null,
      "outputs": [
        {
          "output_type": "execute_result",
          "data": {
            "text/plain": [
              "4"
            ]
          },
          "metadata": {
            "tags": []
          },
          "execution_count": 45
        }
      ]
    },
    {
      "cell_type": "markdown",
      "metadata": {
        "id": "4C3VHj1jeFpX"
      },
      "source": [
        "至此，这道题就解决了，时间复杂度 O(N^2)。总结一下动态规划的设计流程：\n",
        "\n",
        "首先明确 dp 数组所存数据的含义。这步很重要，如果不得当或者不够清晰，会阻碍之后的步骤。\n",
        "\n",
        "然后根据 dp 数组的定义，运用数学归纳法的思想，假设 $dp[0...i-1]$ 都已知，想办法求出 $dp[i]$，一旦这一步完成，整个题目基本就解决了。\n",
        "\n",
        "但如果无法完成这一步，很可能就是 dp 数组的定义不够恰当，需要重新定义 dp 数组的含义；或者可能是 dp 数组存储的信息还不够，不足以推出下一步的答案，需要把 dp 数组扩大成二维数组甚至三维数组。\n",
        "\n",
        "最后想一想问题的 base case 是什么，以此来初始化 dp 数组，以保证算法正确运行。\n",
        "\n",
        "#### 二分查找解法\n",
        "这个解法的时间复杂度会将为 **O(NlogN)**，但是说实话，正常人基本想不到这种解法（也许玩过某些纸牌游戏的人可以想出来）。所以如果大家了解一下就好，正常情况下能够给出动态规划解法就已经很不错了。\n",
        "\n",
        "根据题目的意思，我都很难想象这个问题竟然能和二分查找扯上关系。其实最长递增子序列和一种叫做 patience game 的纸牌游戏有关，甚至有一种排序方法就叫做 patience sorting（耐心排序）。\n",
        "\n",
        "为了简单起见，后文跳过所有数学证明，通过一个简化的例子来理解一下思路。\n",
        "\n",
        "首先，给你一排扑克牌，我们像遍历数组那样从左到右一张一张处理这些扑克牌，最终要把这些牌分成若干堆。\n",
        "\n",
        "只能把点数小的牌压到点数比它大的牌上。如果当前牌点数较大没有可以放置的堆，则新建一个堆，把这张牌放进去。如果当前牌有多个堆可供选择，则选择最左边的堆放置。\n",
        "\n",
        "为什么遇到多个可选择堆的时候要放到最左边的堆上呢？因为这样可以保证牌堆顶的牌有序（2, 4, 7, 8, Q），证明略\n",
        "\n",
        "按照上述规则执行，可以算出最长递增子序列，牌的堆数就是最长递增子序列的长度，证明略\n",
        "\n",
        "我们只要把处理扑克牌的过程编程写出来即可。每次处理一张扑克牌不是要找一个合适的牌堆顶来放吗，牌堆顶的牌不是有序吗，这就能用到二分查找了：用二分查找来搜索当前牌应放置的位置。"
      ]
    },
    {
      "cell_type": "code",
      "metadata": {
        "id": "xiHmCKNNeFpX"
      },
      "source": [
        "class Solution:\n",
        "    def lengthOfLIS(self, nums) -> int:\n",
        "        if not nums:\n",
        "            return 0    \n",
        "        top = [nums[0]]\n",
        "        for i in range(1,len(nums)):\n",
        "            poker = nums[i]\n",
        "            # 搜索左侧边界的二分查找\n",
        "            left, right = 0, len(top)\n",
        "            while left < right:\n",
        "                mid = (left + right)//2\n",
        "                if top[mid] >= poker:\n",
        "                    right = mid\n",
        "                elif top[mid] < poker:\n",
        "                    left = mid + 1\n",
        "\n",
        "\n",
        "            # 没找到合适的牌堆，新建一堆\n",
        "            if left == len(top):\n",
        "                top.append(poker)\n",
        "            else:\n",
        "                top[left] = poker\n",
        "        print(top)\n",
        "        return len(top)\n",
        "            "
      ],
      "execution_count": null,
      "outputs": []
    },
    {
      "cell_type": "code",
      "metadata": {
        "id": "sCLQZycReFpX",
        "outputId": "7e7b008b-6762-4485-c805-384765f06dc4"
      },
      "source": [
        "s = Solution()\n",
        "s.lengthOfLIS([10,9,2,5,3,7,101,18])"
      ],
      "execution_count": null,
      "outputs": [
        {
          "output_type": "stream",
          "text": [
            "[2, 3, 7, 18]\n"
          ],
          "name": "stdout"
        },
        {
          "output_type": "execute_result",
          "data": {
            "text/plain": [
              "4"
            ]
          },
          "metadata": {
            "tags": []
          },
          "execution_count": 47
        }
      ]
    },
    {
      "cell_type": "markdown",
      "metadata": {
        "id": "mcHldlxseFpY"
      },
      "source": [
        "#### 72. 编辑距离"
      ]
    },
    {
      "cell_type": "code",
      "metadata": {
        "id": "V6uVmeYSeFpY"
      },
      "source": [
        "class Solution:\n",
        "    def minDistance(self, word1, word2) -> int:\n",
        "        if not word1 and not word2:\n",
        "            return 0\n",
        "        m, n = len(word1)+1, len(word2)+1\n",
        "        dp = [[0]*m for j in range(n)]\n",
        "        # 初始化，注意初始化的值\n",
        "        for i in range(m):\n",
        "            dp[0][i] = i\n",
        "        for j in range(n):\n",
        "            dp[j][0] = j\n",
        "        for i in range(1,n):\n",
        "            for j in range(1, m):\n",
        "                if word1[j-1] == word2[i-1]:\n",
        "                    dp[i][j] = min(dp[i-1][j]+1, dp[i][j-1]+1, dp[i-1][j-1])\n",
        "                else:\n",
        "                    dp[i][j] = min(dp[i-1][j], dp[i][j-1], dp[i-1][j-1])+1\n",
        "        return dp[-1][-1]"
      ],
      "execution_count": null,
      "outputs": []
    },
    {
      "cell_type": "code",
      "metadata": {
        "id": "bkjmmc20eFpY",
        "outputId": "e79016ec-3096-4546-e60a-e68010482d72"
      },
      "source": [
        "s = Solution()\n",
        "s.minDistance(\"plasma\",\"altruism\")"
      ],
      "execution_count": null,
      "outputs": [
        {
          "output_type": "execute_result",
          "data": {
            "text/plain": [
              "6"
            ]
          },
          "metadata": {
            "tags": []
          },
          "execution_count": 49
        }
      ]
    },
    {
      "cell_type": "markdown",
      "metadata": {
        "id": "TBoD4tQieFpY"
      },
      "source": [
        "**DP table 是自底向上求解，递归解法是自顶向下求解**"
      ]
    },
    {
      "cell_type": "markdown",
      "metadata": {
        "id": "VPTjMptveFpY"
      },
      "source": [
        "### 经典动态规划问题：高楼扔鸡蛋\n",
        "\n",
        "今天要聊一个很经典的算法问题，若干层楼，若干个鸡蛋，让你算出最少的尝试次数，找到鸡蛋恰好摔不碎的那层楼。国内大厂以及谷歌脸书面试都经常考察这道题，只不过他们觉得扔鸡蛋太浪费，改成扔杯子，扔破碗什么的。\n",
        "\n",
        "**887.鸡蛋掉落**\n",
        "\n",
        "你将获得 K 个鸡蛋，并可以使用一栋从 1 到 N  共有 N 层楼的建筑。\n",
        "\n",
        "每个蛋的功能都是一样的，如果一个蛋碎了，你就不能再把它掉下去。\n",
        "\n",
        "你知道存在楼层 F ，满足 0 <= F <= N 任何从高于 F 的楼层落下的鸡蛋都会碎，从 F 楼层或比它低的楼层落下的鸡蛋都不会破。\n",
        "\n",
        "每次移动，你可以取一个鸡蛋（如果你有完整的鸡蛋）并把它从任一楼层 X 扔下（满足 1 <= X <= N）。\n",
        "\n",
        "你的目标是确切地知道 F 的值是多少。\n",
        "\n",
        "无论 F 的初始值如何，你确定 F 的值的最小移动次数是多少？\n",
        "\n",
        "示例 1：\n",
        "\n",
        "输入：K = 1, N = 2\n",
        "\n",
        "输出：2\n",
        "\n",
        "解释：\n",
        "\n",
        "鸡蛋从 1 楼掉落。如果它碎了，我们肯定知道 F = 0 。\n",
        "\n",
        "否则，鸡蛋从 2 楼掉落。如果它碎了，我们肯定知道 F = 1 。\n",
        "\n",
        "如果它没碎，那么我们肯定知道 F = 2 。\n",
        "\n",
        "因此，在最坏的情况下我们需要移动 2 次以确定 F 是多少。\n",
        "\n",
        "**思路分析**\n",
        "\n",
        "对动态规划问题，直接套我们以前多次强调的框架即可：这个问题有什么「状态」，有什么「选择」，然后穷举。\n",
        "\n",
        "**「状态」很明显，就是当前拥有的鸡蛋数 K 和需要测试的楼层数 N。**随着测试的进行，鸡蛋个数可能减少，楼层的搜索范围会减小，这就是状态的变化。\n",
        "\n",
        "**「选择」其实就是去选择哪层楼扔鸡蛋。**回顾刚才的线性扫描和二分思路，二分查找每次选择到楼层区间的中间去扔鸡蛋，而线性扫描选择一层层向上测试。不同的选择会造成状态的转移。\n",
        "\n",
        "现在明确了「状态」和「选择」，动态规划的基本思路就形成了：肯定是个二维的 dp 数组或者带有两个状态参数的 dp 函数来表示状态转移；外加一个 for 循环来遍历所有选择，择最优的选择更新状态："
      ]
    },
    {
      "cell_type": "code",
      "metadata": {
        "id": "rpGwFrhseFpY"
      },
      "source": [
        "# 当前状态为 K 个鸡蛋，面对 N 层楼\n",
        "# 返回这个状态下的最优结果\n",
        "def dp(K, N):\n",
        "    res = 0\n",
        "    for i in range(1, N+1):\n",
        "        res = min(res, 这次在第i层楼扔鸡蛋)\n",
        "    return res"
      ],
      "execution_count": null,
      "outputs": []
    },
    {
      "cell_type": "markdown",
      "metadata": {
        "id": "AHCOusdpeFpY"
      },
      "source": [
        "这段伪码还没有展示递归和状态转移，不过大致的算法框架已经完成了。\n",
        "\n",
        "我们选择在第 i 层楼扔了鸡蛋之后，可能出现两种情况：鸡蛋碎了，鸡蛋没碎。注意，这时候状态转移就来了：\n",
        "\n",
        "如果鸡蛋碎了，那么鸡蛋的个数 K 应该减一，搜索的楼层区间应该从 [1..N] 变为 [1..i-1] 共 i-1 层楼；\n",
        "\n",
        "如果鸡蛋没碎，那么鸡蛋的个数 K 不变，搜索的楼层区间应该从 [1..N] 变为 [i+1..N] 共 N-i 层楼。\n",
        "\n",
        "PS：细心的读者可能会问，在第i层楼扔鸡蛋如果没碎，楼层的搜索区间缩小至上面的楼层，是不是应该包含第i层楼呀？不必，因为已经包含了。开头说了 F 是可以等于 0 的，向上递归后，第i层楼其实就相当于第 0 层，可以被取到，所以说并没有错误。\n",
        "\n",
        "因为我们要求的是最坏情况下扔鸡蛋的次数，所以鸡蛋在第 i 层楼碎没碎，取决于那种情况的结果更大："
      ]
    },
    {
      "cell_type": "code",
      "metadata": {
        "id": "sWjQNctgeFpY",
        "outputId": "deb0eb1e-8703-4fa6-816f-fca82fda7014"
      },
      "source": [
        "def dp(K, N):\n",
        "    for i in range(1, N+1):\n",
        "        res = min(res,\n",
        "                 max(\n",
        "                 dp(K-1, i-1), # 碎了\n",
        "                 dp(K, N-i) # 没碎\n",
        "                 ) + 1 # 在第i楼扔了一次\n",
        "    return res"
      ],
      "execution_count": null,
      "outputs": [
        {
          "output_type": "error",
          "ename": "SyntaxError",
          "evalue": "invalid syntax (<ipython-input-50-298c52865ff0>, line 8)",
          "traceback": [
            "\u001b[1;36m  File \u001b[1;32m\"<ipython-input-50-298c52865ff0>\"\u001b[1;36m, line \u001b[1;32m8\u001b[0m\n\u001b[1;33m    return res\u001b[0m\n\u001b[1;37m         ^\u001b[0m\n\u001b[1;31mSyntaxError\u001b[0m\u001b[1;31m:\u001b[0m invalid syntax\n"
          ]
        }
      ]
    },
    {
      "cell_type": "markdown",
      "metadata": {
        "id": "ZLoyuZPLeFpY"
      },
      "source": [
        "递归的 base case 很容易理解：当楼层数 N 等于 0 时，显然不需要扔鸡蛋；当鸡蛋数 K 为 1 时，显然只能线性扫描所有楼层："
      ]
    },
    {
      "cell_type": "code",
      "metadata": {
        "id": "oSjS3q2xeFpY"
      },
      "source": [
        "def dp(K, N):\n",
        "    if K == 1:\n",
        "        return N\n",
        "    if N == 0:\n",
        "        return 0"
      ],
      "execution_count": null,
      "outputs": []
    },
    {
      "cell_type": "markdown",
      "metadata": {
        "id": "34R6PfUIeFpY"
      },
      "source": [
        "至此，其实这道题就解决了！只要添加一个备忘录消除重叠子问题即可\n",
        "\n",
        "for 循环就是下面这个状态转移方程的具体代码实现："
      ]
    },
    {
      "cell_type": "markdown",
      "metadata": {
        "id": "LLd94CCLeFpY"
      },
      "source": [
        "$$ dp(K, N) = \\min_{0 <= i <= N}{\\max{dp(K - 1, i - 1), dp(K, N - i)} + 1}$$"
      ]
    },
    {
      "cell_type": "markdown",
      "metadata": {
        "id": "2OI68UhNeFpY"
      },
      "source": [
        "首先我们根据dp(K,N)数组的定义（有K个鸡蛋面对N层楼），最少需要扔几次），很容易知道K固定时， 这个函数一定是单调递增的，无论你策略多聪明，楼层增加测试次数一定要增加。\n",
        "\n",
        "那么注意dp(K-1,i-1)he dp(K,N-i)这两个函数，其中i是从1到N单调递增的，如果我们固定K和N，把这两个函数看作关于i的函数，前者随着i的增加应该也是单调递增的，而后者随着i的增加应该是单调递减的。\n",
        "\n",
        "这时候求两者的较大值，再求这些最大值之中的最小值，其实就是求这个交点。熟悉二分搜索的同学肯定敏感地想到了，这不就是相当于求 Valley（山谷）值嘛，可以用二分查找来快速寻找这个点的。"
      ]
    },
    {
      "cell_type": "code",
      "metadata": {
        "id": "VpaA1ndIeFpY"
      },
      "source": [
        "class Solution:\n",
        "    def superEggDrop(self, K, N) -> int:\n",
        "        def parse(k, n):\n",
        "            if n == 1: # 如果只有1层，不管有多少蛋只需试一次\n",
        "                return 1\n",
        "            elif n == 0: # 如果是0层，不管有多少蛋都不用试\n",
        "                return 0 \n",
        "            elif k == 1: # 如果只有一个鸡蛋，则只能从底层开始逐层试\n",
        "                return n\n",
        "            elif (k,n) in table:\n",
        "                return table[(k,n)]\n",
        "            \n",
        "            f = float('inf') # 定义一个无限大的数作为初始条件\n",
        "            # for x in range(1, n+1): # 将鸡蛋扔在第x层，从第1层开始\n",
        "            #     fx = 1 + max(parse(k-1, x-1), parse(k, n-x))\n",
        "            #     f = min(f, fx)\n",
        "\n",
        "            # 优化：\n",
        "            # 观察可知fx(k-1,x-1)随着x增加单调递增， fx(k,n-x)随着x增加单调递减，因此可以用二分查找出最坏的情况\n",
        "            \n",
        "            lp, rp = 1, n\n",
        "            while lp <= rp:\n",
        "                mid = lp + (rp - lp)//2\n",
        "                bcase = parse(k-1, mid-1) # 蛋碎的情况\n",
        "                notbcase = parse(k, n-mid) # 蛋没碎的情况\n",
        "                if bcase > notbcase:\n",
        "                    rp = mid - 1\n",
        "                    f = min(f, bcase + 1)\n",
        "                else:\n",
        "                    lp = mid + 1\n",
        "                    f = min(f, notbcase + 1)\n",
        "            \n",
        "            table[(k,n)] = f\n",
        "            return f     \n",
        "        \n",
        "        table = {} # 记录被计算过的情况\n",
        "        return parse(K,N)\n",
        "        "
      ],
      "execution_count": null,
      "outputs": []
    },
    {
      "cell_type": "code",
      "metadata": {
        "id": "Mx1NGrrzeFpZ",
        "outputId": "4686e378-d0e1-4c98-fa7b-402e20c7c4e9"
      },
      "source": [
        "s = Solution()\n",
        "s.superEggDrop(2,6)"
      ],
      "execution_count": null,
      "outputs": [
        {
          "output_type": "execute_result",
          "data": {
            "text/plain": [
              "3"
            ]
          },
          "metadata": {
            "tags": []
          },
          "execution_count": 3
        }
      ]
    },
    {
      "cell_type": "markdown",
      "metadata": {
        "id": "tN3pTrE9eFpZ"
      },
      "source": [
        "### 动态规划之子序列问题解题模板\n",
        "\n",
        "子序列问题是常见的算法问题，而且并不好解决。\n",
        "\n",
        "首先，子序列问题本身就相对子串、子数组更困难一些，因为前者是不连续的序列，而后两者是连续的，就算穷举你都不一定会，更别说求解相关的算法问题了。\n",
        "\n",
        "而且，子序列问题很可能涉及到两个字符串，比如前文「最长公共子序列」，如果没有一定的处理经验，真的不容易想出来。所以本文就来扒一扒子序列问题的套路，其实就有两种模板，相关问题只要往这两种思路上想，十拿九稳。\n",
        "\n",
        "一般来说，这类问题都是让你求一个**最长子序列**，因为最短子序列就是一个字符嘛，没啥可问的。一旦涉及到子序列和最值，那几乎可以肯定，考察的是**动态规划技巧，时间复杂度一般都是 O(n^2)**。\n",
        "\n",
        "原因很简单，你想想一个字符串，它的子序列有多少种可能？起码是指数级的吧，这种情况下，不用动态规划技巧，还想怎么着？\n",
        "\n",
        "既然要用动态规划，那就要定义 dp 数组，找状态转移关系。我们说的两种思路模板，就是 dp 数组的定义思路。不同的问题可能需要不同的 dp 数组定义来解决。\n",
        "\n",
        "#### 一、两种思路\n",
        "#### 1、第一种思路模板是一个一维的 dp 数组：\n",
        "举个我们写过的例子「最长递增子序列」，在这个思路中 dp 数组的定义是：\n",
        "\n",
        "在子数组 array[0..i] 中，我们要求的子序列（最长递增子序列）的长度是 dp[i]。\n",
        "\n",
        "为啥最长递增子序列需要这种思路呢？前文说得很清楚了，因为这样符合归纳法，可以找到状态转移的关系，这里就不具体展开了\n",
        "#### 2、第二种思路模板是一个二维的 dp 数组：\n",
        "这种思路运用相对更多一些，**尤其是涉及两个字符串/数组的子序列**，比如前文讲的**「最长公共子序列」**。本思路中 dp 数组含义又分为「只涉及一个字符串」和「涉及两个字符串」两种情况。\n",
        "#### 2.1 涉及两个字符串/数组时（比如最长公共子序列），dp 数组的含义如下：\n",
        "\n",
        "在子数组 arr1[0..i] 和子数组 arr2[0..j] 中，我们要求的子序列（最长公共子序列）长度为 dp[i][j]。\n",
        "\n",
        "第一种情况可以参考这两篇旧文：「编辑距离」「公共子序列」\n",
        "\n",
        "#### 1143.最长公共子序列\n",
        "\n",
        "最长公共子序列（Longest Common Subsequence，简称 LCS）是一道非常经典的面试题目，因为它的解法是典型的二维动态规划，大部分比较困难的字符串问题都和这个问题一个套路，比如说编辑距离。而且，这个算法稍加改造就可以用于解决其他问题，所以说 LCS 算法是值得掌握的。\n",
        "\n",
        "题目就是让我们求两个字符串的 LCS 长度：\n",
        "\n",
        "输入: str1 = \"abcde\", str2 = \"ace\" \n",
        "输出: 3  \n",
        "解释: 最长公共子序列是 \"ace\"，它的长度是 3\n",
        "\n",
        "肯定有读者会问，为啥这个问题就是动态规划来解决呢？因为子序列类型的问题，穷举出所有可能的结果都不容易，而动态规划算法做的就是穷举 + 剪枝，它俩天生一对儿。所以可以说只要涉及子序列问题，十有八九都需要动态规划来解决，往这方面考虑就对了。\n",
        "\n",
        "下面就来手把手分析一下，这道题目如何用动态规划技巧解决。"
      ]
    },
    {
      "cell_type": "code",
      "metadata": {
        "id": "-D2rB8LneFpZ"
      },
      "source": [
        "class Solution:\n",
        "    def longestCommonSubsequence(self, text1, text2) -> int:\n",
        "        m, n = len(text1)+1, len(text2)+1\n",
        "        dp = [[0] * m for _ in range(n)]\n",
        "        for i in range(m):\n",
        "            dp[0][i] = 0\n",
        "        for j in range(n):\n",
        "            dp[j][0] = 0\n",
        "        for i in range(1,n):\n",
        "            for j in range(1,m):\n",
        "                if text1[j-1] == text2[i-1]:\n",
        "                    # 注意这样写是错的 dp[i][j] = max(dp[i-1][j], dp[i][j-1])+1\n",
        "                    dp[i][j] = dp[i-1][j-1] + 1\n",
        "                else:\n",
        "                    # 谁能让lcs最长， 就听谁的\n",
        "                    dp[i][j] = max(dp[i-1][j], dp[i][j-1])\n",
        "        return dp[-1][-1]"
      ],
      "execution_count": null,
      "outputs": []
    },
    {
      "cell_type": "markdown",
      "metadata": {
        "id": "oHtm5M9xeFpZ"
      },
      "source": [
        "**2.2 只涉及一个字符串/数组时（比如本文要讲的最长回文子序列），dp 数组的含义如下：**\n",
        "\n",
        "**在子数组 array[i..j] 中，我们要求的子序列（最长回文子序列）的长度为 dp[i][j]。**\n",
        "\n",
        "第一种情况可以参考这两篇旧文：「编辑距离」「公共子序列」\n",
        "\n",
        "下面就借最长回文子序列这个问题，详解一下第二种情况下如何使用动态规划。\n",
        "\n",
        "**516.最长回文子序列**\n",
        "\n",
        "子序列问题是常见的算法问题，而且并不好解决。\n",
        "\n",
        "首先，子序列问题本身就相对子串、子数组更困难一些，因为前者是不连续的序列，而后两者是连续的，就算穷举你都不一定会，更别说求解相关的算法问题了。\n",
        "\n",
        "而且，子序列问题很可能涉及到两个字符串，比如前文「最长公共子序列」，如果没有一定的处理经验，真的不容易想出来。所以本文就来扒一扒子序列问题的套路，其实就有两种模板，相关问题只要往这两种思路上想，十拿九稳。\n",
        "\n",
        "一般来说，这类问题都是让你求一个**最长子序列**，因为最短子序列就是一个字符嘛，没啥可问的。一旦涉及到子序列和最值，那几乎可以肯定，**考察的是动态规划技巧，时间复杂度一般都是 O(n^2)。**\n",
        "\n",
        "原因很简单，你想想一个字符串，它的子序列有多少种可能？起码是指数级的吧，这种情况下，不用动态规划技巧，还想怎么着？\n",
        "\n",
        "既然要用动态规划，那就要定义 dp 数组，找状态转移关系。我们说的两种思路模板，就是 dp 数组的定义思路。不同的问题可能需要不同的 dp 数组定义来解决。"
      ]
    },
    {
      "cell_type": "code",
      "metadata": {
        "id": "S_ynXob1eFpZ"
      },
      "source": [
        "class Solution:\n",
        "    def longestPalindromeSubseq(self, s: str) -> int:\n",
        "        if not s:\n",
        "            return \"\"\n",
        "        if len(s) == 1:\n",
        "            return 1\n",
        "        dp = [[0]*len(s) for _ in range(len(s))]\n",
        "        for i in range(len(s)):\n",
        "            dp[i][i] = 1    \n",
        "        for i in range(len(s)-1, -1, -1): \n",
        "        #注意这里要反着遍历，想求 dp[i][j] \n",
        "        #需要知道 dp[i+1][j-1]，dp[i+1][j]，dp[i][j-1] 这三个位置，\n",
        "        # 即左下右三个位置；再看看我们确定的 base case，填入 dp 数组之后是矩阵的左下半；\n",
        "        # 为了保证每次计算 dp[i][j]，左下右方向的位置已经被计算出来，\n",
        "        # 只能斜着遍历或者反着遍历（即从二维dp的下面到上面，从左边到右边）：\n",
        "            for j in range(i+1, len(s)):\n",
        "                if s[i] == s[j]:\n",
        "                    dp[i][j] = dp[i+1][j-1] + 2\n",
        "                else: # 注意这个else的情况\n",
        "                    dp[i][j] = max(dp[i+1][j], dp[i][j-1])\n",
        "        return dp[0][-1]"
      ],
      "execution_count": null,
      "outputs": []
    },
    {
      "cell_type": "markdown",
      "metadata": {
        "id": "OHLAOodxeFpZ"
      },
      "source": [
        "#### 如何寻找最长回文子串\n",
        "#### 5.最长回文子串 Longest Palindromic Substring\n",
        "\n",
        "回文串是面试常常遇到的问题（虽然问题本身没啥意义），本文就告诉你回文串问题的核心思想是什么。\n",
        "\n",
        "首先，明确一下什：回文串就是正着读和反着读都一样的字符串。\n",
        "\n",
        "比如说字符串 aba 和 abba 都是回文串，因为它们对称，反过来还是和本身一样。反之，字符串 abac 就不是回文串。\n",
        "\n",
        "可以看到回文串的的长度可能是奇数，也可能是偶数，这就添加了回文串问题的难度，解决该类问题的核心是**双指针**。下面就通过一道最长回文子串的问题来具体理解一下回文串问题："
      ]
    },
    {
      "cell_type": "code",
      "metadata": {
        "id": "ksMYLs7DeFpZ"
      },
      "source": [
        "# O(n^3)\n",
        "class Solution:\n",
        "    def longestPalindrome(self, s: str) -> str:\n",
        "        if not s:\n",
        "            return \"\"\n",
        "        if len(s) == 1:\n",
        "            return s[0]\n",
        "        i, j = 0, len(s)-1\n",
        "        res = s[0]\n",
        "        \n",
        "        for i in range(len(s)-1):\n",
        "            for j in range(len(s)-1, i, -1):\n",
        "                if (j-i+1) <= len(res):\n",
        "                    break\n",
        "                if s[i:j+1] == s[i:j+1][::-1] and (j-i+1) > len(res):\n",
        "                    res = s[i:j+1]\n",
        "                    break\n",
        "        return res"
      ],
      "execution_count": null,
      "outputs": []
    },
    {
      "cell_type": "markdown",
      "metadata": {
        "id": "pLGVt-hPeFpZ"
      },
      "source": [
        "下面，就来说一下正确的思路，如何使用**双指针**。\n",
        "\n",
        "**寻找回文串的问题核心思想是：从中间开始向两边扩散来判断回文串**。对于最长回文子串，就是这个意思："
      ]
    },
    {
      "cell_type": "markdown",
      "metadata": {
        "id": "ymwJuxJdeFpZ"
      },
      "source": [
        "for 0 <= i < len(s):\n",
        "    找到以 s[i] 为中心的回文串\n",
        "    更新答案"
      ]
    },
    {
      "cell_type": "markdown",
      "metadata": {
        "id": "YvTjJyMOeFpZ"
      },
      "source": [
        "但是呢，我们刚才也说了，回文串的长度可能是奇数也可能是偶数，如果是 abba这种情况，没有一个中心字符，上面的算法就没辙了。所以我们可以修改一下："
      ]
    },
    {
      "cell_type": "code",
      "metadata": {
        "id": "hGNlYm-SeFpZ"
      },
      "source": [
        "for 0 <= i < len(s):\n",
        "    找到以 s[i] 为中心的回文串\n",
        "    找到以 s[i] 和 s[i+1] 为中心的回文串\n",
        "    更新答案"
      ],
      "execution_count": null,
      "outputs": []
    },
    {
      "cell_type": "markdown",
      "metadata": {
        "id": "Hp_Ksk2deFpZ"
      },
      "source": [
        "PS：读者可能发现这里的索引会越界，等会会处理。"
      ]
    },
    {
      "cell_type": "code",
      "metadata": {
        "id": "P2wR7ORyeFpZ"
      },
      "source": [
        ""
      ],
      "execution_count": null,
      "outputs": []
    },
    {
      "cell_type": "markdown",
      "metadata": {
        "id": "vxQmpSHxeFpZ"
      },
      "source": [
        "按照上面的思路，先要实现一个函数来寻找最长回文串，这个函数是有点技巧的："
      ]
    },
    {
      "cell_type": "code",
      "metadata": {
        "id": "3f4Fu5MTeFpZ"
      },
      "source": [
        "def palindrome(s, l, r):\n",
        "    # 防止索引越界\n",
        "    while l >= 0 and r < len(s) and s[l] == s[r]:\n",
        "        l -= 1\n",
        "        r -= 1\n",
        "    \n",
        "    # 返回以s[l]和s[r]为中心的最长回文串\n",
        "    return s[l+1:r-l-1]\n",
        "        "
      ],
      "execution_count": null,
      "outputs": []
    },
    {
      "cell_type": "markdown",
      "metadata": {
        "id": "AWqPtzWHeFpZ"
      },
      "source": [
        "为什么要传入两个指针 l 和 r 呢？**因为这样实现可以同时处理回文串长度为奇数和偶数的情况**："
      ]
    },
    {
      "cell_type": "code",
      "metadata": {
        "id": "L5CuGPNneFpZ"
      },
      "source": [
        "for 0 <= i < len(s):\n",
        "    # 找到以 s[i] 为中心的回文串\n",
        "    palindrome(s, i, i)\n",
        "    # 找到以 s[i] 和 s[i+1] 为中心的回文串\n",
        "    palindrome(s, i, i + 1)\n",
        "    更新答案"
      ],
      "execution_count": null,
      "outputs": []
    },
    {
      "cell_type": "code",
      "metadata": {
        "id": "pXUMzxNyeFpZ"
      },
      "source": [
        "class Solution:\n",
        "    def longestPalindrome(self, s: str) -> str:\n",
        "        if not s:\n",
        "            return \"\"\n",
        "        def Palindrome(s,l,r):\n",
        "            while l >= 0 and r < len(s) and s[l] == s[r]:\n",
        "                l -= 1\n",
        "                r += 1\n",
        "            return s[l+1:r]\n",
        "        \n",
        "        res = s[0]\n",
        "        for i in range(len(s)-1):\n",
        "            s1 = Palindrome(s, i, i)\n",
        "            s2 = Palindrome(s, i, i+1)\n",
        "            res = s1 if len(res) < len(s1) else res\n",
        "            res = s2 if len(res) < len(s2) else res\n",
        "        return res\n",
        "            "
      ],
      "execution_count": null,
      "outputs": []
    },
    {
      "cell_type": "code",
      "metadata": {
        "id": "ulmocxkaeFpZ",
        "outputId": "16a836e9-6644-4360-ab3c-6fd0cee32d8c"
      },
      "source": [
        "s = Solution()\n",
        "s.longestPalindrome(\"babab\")"
      ],
      "execution_count": null,
      "outputs": [
        {
          "output_type": "execute_result",
          "data": {
            "text/plain": [
              "'babab'"
            ]
          },
          "metadata": {
            "tags": []
          },
          "execution_count": 9
        }
      ]
    },
    {
      "cell_type": "markdown",
      "metadata": {
        "id": "JqhslcIQeFpZ"
      },
      "source": [
        "至此，这道最长回文子串的问题就解决了，时间复杂度 $O(N^2)$，空间复杂度 $O(1)$。\n",
        "\n",
        "值得一提的是，这个问题可以用动态规划方法解决，时间复杂度一样，但是空间复杂度至少要 $O(N^2)$ 来存储 DP table。这道题是少有的动态规划非最优解法的问题。"
      ]
    },
    {
      "cell_type": "markdown",
      "metadata": {
        "id": "fnGAjZEdeFpZ"
      },
      "source": [
        "DP 我们用 DP(i,j)P(i,j) 表示字符串 ss 的第 i 到 j 个字母组成的串（下文表示成 s[i:j]）是否为回文串："
      ]
    },
    {
      "cell_type": "code",
      "metadata": {
        "id": "RbdLzbqEeFpZ"
      },
      "source": [
        "class Solution:\n",
        "    def longestPalindrome(self, s: str) -> str:\n",
        "        if not s:\n",
        "            return \"\"\n",
        "        # 动态规划，O(N^2), O(N^2)\n",
        "        dp = [[False]*(len(s)) for _ in range(len(s))]\n",
        "        # dp[i][j]储存的是s[i:j+1]是否是一个回文子串\n",
        "        res = s[0]\n",
        "        # 枚举子串的长度l+1\n",
        "        for l in range(len(s)):\n",
        "            # 枚举子串的起始位置i，这样可以通过j=i+l得到子串的结束位置\n",
        "            for i in range(len(s)):\n",
        "                j = i + l\n",
        "                if j >= len(s):\n",
        "                    break\n",
        "                # 初始化两种情况，当窗口里只有一个cha和有两个相同的cha时，dp[i][j] = True\n",
        "                if l == 0:\n",
        "                    dp[i][j] = True\n",
        "                elif l == 1:\n",
        "                    dp[i][j] = (s[i] == s[j])\n",
        "                else:\n",
        "                    dp[i][j] = (dp[i+1][j-1] and s[i] == s[j])\n",
        "                if dp[i][j] and l+1>len(res):\n",
        "                    res = s[i:j+1]\n",
        "        return res"
      ],
      "execution_count": null,
      "outputs": []
    },
    {
      "cell_type": "markdown",
      "metadata": {
        "id": "mF7D3WCEeFpa"
      },
      "source": [
        "### 53. Maximum Subarray\n",
        "\n",
        "Given an integer array nums, find the contiguous subarray (containing at least one number) which has the largest sum and return its sum.\n",
        "\n",
        "Example:\n",
        "\n",
        "Input: [-2,1,-3,4,-1,2,1,-5,4],\n",
        "\n",
        "Output: 6\n",
        "\n",
        "Explanation: [4,-1,2,1] has the largest sum = 6."
      ]
    },
    {
      "cell_type": "code",
      "metadata": {
        "id": "OW2eDnfXeFpa"
      },
      "source": [
        "class Solution:\n",
        "    def maxSubArray(self, nums: List[int]) -> int:\n",
        "        if not nums:\n",
        "            return\n",
        "        if len(nums) == 1:\n",
        "            return nums[0]\n",
        "        for i in range(1,len(nums)):\n",
        "            if nums[i-1] > 0:\n",
        "                nums[i] = nums[i-1] + nums[i]\n",
        "        return max(nums)"
      ],
      "execution_count": null,
      "outputs": []
    },
    {
      "cell_type": "markdown",
      "metadata": {
        "id": "rltTV-MaeFpa"
      },
      "source": [
        "### 经典动态规划：子集背包问题\n",
        "\n",
        "416. Partition Equal Subset Sum\n",
        "\n",
        "Given a non-empty array containing only positive integers, find if the array can be partitioned into two subsets such that the sum of elements in both subsets is equal.\n",
        "\n",
        "Note:\n",
        "\n",
        "Each of the array element will not exceed 100.\n",
        "The array size will not exceed 200.\n",
        " \n",
        "\n",
        "Example 1:\n",
        "\n",
        "Input: [1, 5, 11, 5]\n",
        "\n",
        "Output: true\n",
        "\n",
        "Explanation: The array can be partitioned as [1, 5, 5] and [11].\n",
        " \n",
        "\n",
        "Example 2:\n",
        "\n",
        "Input: [1, 2, 3, 5]\n",
        "\n",
        "Output: false\n",
        "\n",
        "Explanation: The array cannot be partitioned into equal sum subsets."
      ]
    },
    {
      "cell_type": "code",
      "metadata": {
        "id": "QKetWF30eFpa"
      },
      "source": [
        "#DP：优化二维数组\n",
        "class Solution:\n",
        "    def canPartition(self, nums: List[int]) -> bool:\n",
        "        sumNums = sum(nums)\n",
        "        if sumNums % 2 != 0:\n",
        "            return False\n",
        "        n = len(nums)\n",
        "        sumNums = sumNums//2\n",
        "        dp = [False] * (sumNums+1)\n",
        "        dp[0] = True\n",
        "        for i in range(n):\n",
        "            for j in range(sumNums,-1,-1):\n",
        "                if j - nums[i] >= 0:\n",
        "                    dp[j] = dp[j] or dp[j-nums[i]]\n",
        "                if j == sumNums and dp[j] == True:\n",
        "                    return True\n",
        "        return False\n",
        "\n",
        "# 暴力解法\n",
        "class Solution:\n",
        "    def canPartition(self, nums: List[int]) -> bool:\n",
        "        n = len(nums)\n",
        "        target = sum(nums)\n",
        "        if target % 2:\n",
        "            return False\n",
        "        target //= 2\n",
        "        dic = set() #用于储存当前元素和的可能情况\n",
        "        dic.add(0)\n",
        "        for i in range(n):\n",
        "            dic_tmp = set() #用于存储经过这一步操作，增加的元素和状态\n",
        "            for j in dic:\n",
        "                tmp = j + nums[i]\n",
        "                if tmp == target:\n",
        "                    return True\n",
        "                if tmp < target:\n",
        "                    dic_tmp.add(tmp)\n",
        "            for j in dic_tmp: #有没有办法直接加在dic里呀？ 感觉这个地方可以优化一下\n",
        "                dic.add(j)\n",
        "        return False\n",
        "\n",
        "# 子集背包\n",
        "class Solution:\n",
        "    def canPartition(self, nums: List[int]) -> bool:\n",
        "        sumNums = sum(nums)\n",
        "        if sumNums % 2 != 0:\n",
        "            return False\n",
        "        n = len(nums)\n",
        "        sumNums = sumNums//2\n",
        "        dp = [[False]*(sumNums+1) for _ in range(n+1)]\n",
        "        \n",
        "        # base case\n",
        "        for i in range(n+1):\n",
        "            dp[i][0] = True\n",
        "        \n",
        "        for i in range(1, n+1):\n",
        "            for j in range(1, sumNums+1):\n",
        "                if (j-nums[i-1]) < 0:\n",
        "                    #背包容量不足，不能装入第i个物品\n",
        "                    dp[i][j] = dp[i-1][j]\n",
        "                else:\n",
        "                    #装入或者不装入背包\n",
        "                    dp[i][j] = dp[i-1][j] or dp[i-1][j-nums[i-1]]\n",
        "                if j == sumNums and dp[i][j] == True:\n",
        "                    return True\n",
        "        return False\n",
        "\n"
      ],
      "execution_count": null,
      "outputs": []
    },
    {
      "cell_type": "markdown",
      "metadata": {
        "id": "axixSGVPeFpa"
      },
      "source": [
        "### 6 道股票问题\n",
        "\n",
        "这 6 道题目是有共性的，我就抽出来第 4 道题目，因为这道题是一个最泛化的形式，其他的问题都是这个形式的简化，看下题目\n",
        "\n",
        "188. Best Time to Buy and Sell Stock IV\n",
        "\n",
        "Say you have an array for which the i-th element is the price of a given stock on day i.\n",
        "\n",
        "Design an algorithm to find the maximum profit. You may complete at most k transactions.\n",
        "\n",
        "Note:\n",
        "You may not engage in multiple transactions at the same time (ie, you must sell the stock before you buy again).\n",
        "\n",
        "Example 1:\n",
        "\n",
        "Input: [2,4,1], k = 2\n",
        "Output: 2\n",
        "Explanation: Buy on day 1 (price = 2) and sell on day 2 (price = 4), profit = 4-2 = 2.\n",
        "Example 2:\n",
        "\n",
        "Input: [3,2,6,5,0,3], k = 2\n",
        "Output: 7\n",
        "Explanation: Buy on day 2 (price = 2) and sell on day 3 (price = 6), profit = 6-2 = 4.\n",
        "             Then buy on day 5 (price = 0) and sell on day 6 (price = 3), profit = 3-0 = 3."
      ]
    },
    {
      "cell_type": "code",
      "metadata": {
        "id": "vDjqoIS5eFpa"
      },
      "source": [
        "class Solution:\n",
        "    def maxProfit(self, k: int, prices: List[int]) -> int:\n",
        "        if not prices:\n",
        "            return 0\n",
        "        # 一次交易由买入和卖出构成，至少需要两天。所以说有效的限制k应该不超过n/2，如果超过，就没有约束作用了，相当于k=+inf\n",
        "        # 如果 k 为正无穷，那么就可以认为 k 和 k - 1 是一样的。可以这样改写框架：\n",
        "        # dp[i][k][0] = max(dp[i-1][k][0], dp[i-1][k][1] + prices[i])\n",
        "        # dp[i][k][1] = max(dp[i-1][k][1], dp[i-1][k-1][0] - prices[i])\n",
        "        #             = max(dp[i-1][k][1], dp[i-1][k][0] - prices[i])\n",
        "        # 我们发现数组中的 k 已经不会改变了，也就是说不需要记录 k 这个状态了：\n",
        "        n = len(prices)\n",
        "        if k > n//2:\n",
        "            dp = [[0]*2 for _ in range(n)]\n",
        "            for i in range(n):\n",
        "                if i == 0:\n",
        "                    dp[0][0] = 0\n",
        "                    dp[0][1] = -prices[0]\n",
        "                else:\n",
        "                    dp[i][0] = max(dp[i-1][0], dp[i-1][1] + prices[i])\n",
        "                    dp[i][1] = max(dp[i-1][1], dp[i-1][0] - prices[i])\n",
        "            return dp[-1][0]\n",
        "        else:\n",
        "            #  [1] 代表手上还持有股票，[0] 表示手上的股票已经卖出去了，\n",
        "            dp = [[[0]*2 for _ in range(k+1)] for _ in range(n)] \n",
        "            for i in range(n):\n",
        "                for j in range(k,0,-1):\n",
        "                    if i == 0:\n",
        "                        dp[0][j][0] = 0\n",
        "                        dp[0][j][1] = -prices[0]\n",
        "                        continue\n",
        "                    dp[i][j][0] = max(dp[i-1][j][0], dp[i-1][j][1] + prices[i])\n",
        "                    dp[i][j][1] = max(dp[i-1][j][1], dp[i-1][j-1][0] - prices[i])\n",
        "            return dp[n-1][k][0]"
      ],
      "execution_count": null,
      "outputs": []
    },
    {
      "cell_type": "markdown",
      "metadata": {
        "id": "rhoAuPGYK8oa"
      },
      "source": [
        "122. Best Time to Buy and Sell Stock II\n",
        "与上一题不同的是，一次最多只能有一次交易\n"
      ]
    },
    {
      "cell_type": "code",
      "metadata": {
        "id": "xRZTG6JhLJgu"
      },
      "source": [
        "class Solution:\n",
        "    def maxProfit(self, prices):\n",
        "        # monotonic stack 单调栈\n",
        "        # if len(prices) == 1:\n",
        "        #     return 0\n",
        "        # stack = [prices[0]]\n",
        "        # profit = 0\n",
        "        # for i in range(1,len(prices)):\n",
        "        #     if prices[i] < stack[-1]:\n",
        "        #         if len(stack) == 2:\n",
        "        #             profit += stack[1] - stack[0]\n",
        "        #         stack = [prices[i]]\n",
        "        #     elif prices[i] >= stack[-1]:\n",
        "        #         if len(stack) == 2:\n",
        "        #             stack.pop()\n",
        "        #             stack.append(prices[i])\n",
        "        #         elif len(stack) == 1:\n",
        "        #             stack.append(prices[i])\n",
        "        # if len(stack) == 2:\n",
        "        #     profit += stack[1] - stack[0]\n",
        "        # return profit\n",
        "        \n",
        "        # greedy 贪心算法\n",
        "        if len(prices) == 0:\n",
        "            return 0\n",
        "        profit, mins = 0, prices[0]\n",
        "        for p in prices:\n",
        "            if p > mins:\n",
        "                profit += p - mins\n",
        "            mins = p\n",
        "        return profit\n",
        "                "
      ],
      "execution_count": null,
      "outputs": []
    },
    {
      "cell_type": "code",
      "metadata": {
        "colab": {
          "base_uri": "https://localhost:8080/"
        },
        "id": "S7wYiXsbLc3e",
        "outputId": "1fbe9fcc-8481-4dc9-a2b5-9270a0b6a687"
      },
      "source": [
        "s = Solution()\n",
        "s.maxProfit([7,1,5,3,6,4])"
      ],
      "execution_count": null,
      "outputs": [
        {
          "output_type": "execute_result",
          "data": {
            "text/plain": [
              "7"
            ]
          },
          "metadata": {
            "tags": []
          },
          "execution_count": 3
        }
      ]
    },
    {
      "cell_type": "markdown",
      "metadata": {
        "id": "nxbKCIvTOE27"
      },
      "source": [
        "121. Best Time to Buy and Sell Stock\n",
        "\n",
        "不同的是，只可以交易一次\n",
        "\n",
        "思路：dp记录当前index之前最低的股票价格"
      ]
    },
    {
      "cell_type": "code",
      "metadata": {
        "id": "1lhua9rXOKJ7"
      },
      "source": [
        "class Solution:\n",
        "    def maxProfit(self, prices: List[int]) -> int:\n",
        "        if len(prices) == 0:\n",
        "            return 0\n",
        "        dp = [prices[0]] * len(prices)\n",
        "        mins = prices[0]\n",
        "        res = 0\n",
        "        for i in range(len(prices)):\n",
        "            if prices[i] > mins:\n",
        "                res = max(res, prices[i]-mins)\n",
        "            elif prices[i] <= mins:\n",
        "                mins = prices[i]\n",
        "        return res"
      ],
      "execution_count": null,
      "outputs": []
    },
    {
      "cell_type": "markdown",
      "metadata": {
        "id": "7AF4bnzseFpa"
      },
      "source": [
        "### 团灭打家劫舍问题\n",
        "\n",
        "198. House Robber\n",
        "\n",
        "You are a professional robber planning to rob houses along a street. Each house has a certain amount of money stashed, the only constraint stopping you from robbing each of them is that adjacent houses have security system connected and it will automatically contact the police if two adjacent houses were broken into on the same night.\n",
        "\n",
        "Given a list of non-negative integers representing the amount of money of each house, determine the maximum amount of money you can rob tonight without alerting the police.\n",
        "\n",
        "Example 1:\n",
        "\n",
        "Input: nums = [1,2,3,1]\n",
        "Output: 4\n",
        "Explanation: Rob house 1 (money = 1) and then rob house 3 (money = 3).\n",
        "             Total amount you can rob = 1 + 3 = 4.\n",
        "Example 2:\n",
        "\n",
        "Input: nums = [2,7,9,3,1]\n",
        "Output: 12\n",
        "Explanation: Rob house 1 (money = 2), rob house 3 (money = 9) and rob house 5 (money = 1).\n",
        "             Total amount you can rob = 2 + 9 + 1 = 12."
      ]
    },
    {
      "cell_type": "code",
      "metadata": {
        "id": "7hzIvbuUeFpa"
      },
      "source": [
        "class Solution:\n",
        "    def rob(self, nums: List[int]) -> int:\n",
        "        if not nums:\n",
        "            return 0\n",
        "        if len(nums) == 1 or len(nums) == 2:\n",
        "            return max(nums)\n",
        "        \n",
        "        dp = [0] * len(nums)\n",
        "        for i in range(len(nums)):\n",
        "            if i == 0:\n",
        "                dp[i] = nums[i]\n",
        "            if i == 1:\n",
        "                dp[i] = max(nums[0], nums[1])\n",
        "            else:\n",
        "                dp[i] = max(nums[i]+dp[i-2],dp[i-1])\n",
        "        return dp[-1]"
      ],
      "execution_count": null,
      "outputs": []
    },
    {
      "cell_type": "markdown",
      "metadata": {
        "id": "Ds8048xceFpa"
      },
      "source": [
        "213. House Robber II\n",
        "\n",
        "You are a professional robber planning to rob houses along a street. Each house has a certain amount of money stashed. All houses at this place are arranged in a circle. That means the first house is the neighbor of the last one. Meanwhile, adjacent houses have security system connected and it will automatically contact the police if two adjacent houses were broken into on the same night.\n",
        "\n",
        "Given a list of non-negative integers representing the amount of money of each house, determine the maximum amount of money you can rob tonight without alerting the police.\n",
        "\n",
        "Example 1:\n",
        "\n",
        "Input: [2,3,2]\n",
        "Output: 3\n",
        "Explanation: You cannot rob house 1 (money = 2) and then rob house 3 (money = 2),\n",
        "             because they are adjacent houses.\n",
        "Example 2:\n",
        "\n",
        "Input: [1,2,3,1]\n",
        "Output: 4\n",
        "Explanation: Rob house 1 (money = 1) and then rob house 3 (money = 3).\n",
        "             Total amount you can rob = 1 + 3 = 4.\n",
        "             "
      ]
    },
    {
      "cell_type": "code",
      "metadata": {
        "id": "f0LjGpW2eFpa"
      },
      "source": [
        "class Solution:\n",
        "    def rob(self, nums: List[int]) -> int:\n",
        "        if not nums:\n",
        "            return 0\n",
        "        if len(nums) == 1 or len(nums) == 2:\n",
        "            return max(nums)\n",
        "        dp = [0] * len(nums)\n",
        "        \n",
        "        # not rob the first house\n",
        "        for i in range(1,len(nums)):\n",
        "            if i == 1:\n",
        "                dp[i] = nums[1]\n",
        "            else:\n",
        "                dp[i] = max(dp[i-1], dp[i-2]+nums[i])\n",
        "        res = dp[-1]\n",
        "        #print(dp)\n",
        "        \n",
        "        dp = [0] * (len(nums)-1)\n",
        "        # not rob the last house\n",
        "        for i in range(0,len(nums)-1):\n",
        "            if i == 0:\n",
        "                dp[i] = nums[i]\n",
        "            if i == 1:\n",
        "                dp[i] = max(nums[0], nums[1])\n",
        "            else:\n",
        "                dp[i] = max(dp[i-1], dp[i-2]+nums[i])  \n",
        "                \n",
        "        res = max(res, dp[-1])\n",
        "        #print(dp)\n",
        "        return res"
      ],
      "execution_count": null,
      "outputs": []
    },
    {
      "cell_type": "markdown",
      "metadata": {
        "id": "xuDUaNkPeFpa"
      },
      "source": [
        "337. House Robber III\n",
        "\n",
        "The thief has found himself a new place for his thievery again. There is only one entrance to this area, called the \"root.\" Besides the root, each house has one and only one parent house. After a tour, the smart thief realized that \"all houses in this place forms a binary tree\". It will automatically contact the police if two directly-linked houses were broken into on the same night.\n",
        "\n",
        "Determine the maximum amount of money the thief can rob tonight without alerting the police.\n",
        "\n",
        "Example 1:\n",
        "\n",
        "Input: [3,2,3,null,3,null,1]\n",
        "\n",
        "     3\n",
        "    / \\\n",
        "   2   3\n",
        "    \\   \\ \n",
        "     3   1\n",
        "\n",
        "Output: 7 \n",
        "Explanation: Maximum amount of money the thief can rob = 3 + 3 + 1 = 7.\n",
        "Example 2:\n",
        "\n",
        "Input: [3,4,5,1,3,null,1]\n",
        "\n",
        "     3\n",
        "    / \\\n",
        "   4   5\n",
        "  / \\   \\ \n",
        " 1   3   1\n",
        "\n",
        "Output: 9\n",
        "Explanation: Maximum amount of money the thief can rob = 4 + 5 = 9."
      ]
    },
    {
      "cell_type": "code",
      "metadata": {
        "id": "UUYFBdaceFpa"
      },
      "source": [
        "# Definition for a binary tree node.\n",
        "# class TreeNode:\n",
        "#     def __init__(self, val=0, left=None, right=None):\n",
        "#         self.val = val\n",
        "#         self.left = left\n",
        "#         self.right = right\n",
        "class Solution:\n",
        "    def rob(self, root: TreeNode) -> int:\n",
        "        if not root:\n",
        "            return 0\n",
        "        if not root.left and not root.right:\n",
        "            return root.val\n",
        "        return max(self.dfs(root))\n",
        "        \n",
        "    def dfs(self, root):\n",
        "        if not root:\n",
        "            return 0, 0\n",
        "        if not root.left and not root.right:\n",
        "            return 0, root.val\n",
        "        \n",
        "        left_notrob, left_rob = self.dfs(root.left)\n",
        "        right_notrob, right_rob = self.dfs(root.right)\n",
        "        \n",
        "        res_notrob = max(left_notrob, left_rob) + max(right_notrob, right_rob)\n",
        "        \n",
        "        res_rob = root.val + left_notrob + right_notrob\n",
        "        \n",
        "        return res_notrob, res_rob"
      ],
      "execution_count": null,
      "outputs": []
    },
    {
      "cell_type": "code",
      "metadata": {
        "id": "f1FOwKpGLU7Y"
      },
      "source": [
        ""
      ],
      "execution_count": null,
      "outputs": []
    },
    {
      "cell_type": "markdown",
      "metadata": {
        "id": "7lV35oydeFpa"
      },
      "source": [
        "## 栈 Stack\n",
        "331. Verify Preorder Serialization of a Binary Tree 二叉树前序遍历\n",
        "\n",
        "四种主要的遍历思想为：\n",
        "\n",
        "前序遍历：根结点 ---> 左子树 ---> 右子树\n",
        "\n",
        "中序遍历：左子树---> 根结点 ---> 右子树\n",
        "\n",
        "后序遍历：左子树 ---> 右子树 ---> 根结点\n",
        "\n",
        "层次遍历：只需按层次遍历即可"
      ]
    },
    {
      "cell_type": "code",
      "metadata": {
        "id": "UH2JZG7leFpa"
      },
      "source": [
        "class Solution:\n",
        "    def isValidSerialization(self, preorder: str) -> bool:\n",
        "        if not preorder:\n",
        "            return False\n",
        "        if preorder == '#':\n",
        "            return True\n",
        "        \n",
        "        stack = []\n",
        "        pre = preorder.split(',')\n",
        "        isLeft = True\n",
        "        for i in range(len(pre)):\n",
        "            node = pre[i]\n",
        "            if node == '#':\n",
        "                if pre[i-1] == '#':\n",
        "                    if not stack:\n",
        "                        return False\n",
        "                    stack.pop()\n",
        "                isLeft = False\n",
        "            else:\n",
        "                if not isLeft:\n",
        "                    if not stack:\n",
        "                        return False\n",
        "                    stack.pop()\n",
        "                stack.append(node)\n",
        "                isLeft = True\n",
        "        if not stack:\n",
        "            return True\n",
        "        else:\n",
        "            return False\n",
        "                "
      ],
      "execution_count": null,
      "outputs": []
    },
    {
      "cell_type": "code",
      "metadata": {
        "id": "CihYcy8xeFpa"
      },
      "source": [
        "class Solution:\n",
        "    def isValidSerialization(self, preorder: str) -> bool:\n",
        "        mylist = preorder.split(',')\n",
        "        stack = []\n",
        "        for item in mylist:\n",
        "            stack.append(item)\n",
        "            while len(stack) >=3 and stack[-1] == '#' and stack[-2] == '#':\n",
        "                stack.pop()\n",
        "                stack.pop()\n",
        "                if stack.pop() == '#':\n",
        "                    return False\n",
        "                stack.append('#')\n",
        "                \n",
        "        return True if stack == ['#',] else False"
      ],
      "execution_count": null,
      "outputs": []
    },
    {
      "cell_type": "code",
      "metadata": {
        "id": "yBPsoaMReFpa"
      },
      "source": [
        "class Solution:\n",
        "    def isValidSerialization(self, preorder: str) -> bool:\n",
        "        slot = 1\n",
        "        p = preorder.split(',')\n",
        "        \n",
        "        for i in p:\n",
        "            if slot == 0:\n",
        "                return False\n",
        "            if i == \"#\":\n",
        "                slot -= 1\n",
        "            else:\n",
        "                slot += 1\n",
        "        return slot == 0"
      ],
      "execution_count": null,
      "outputs": []
    },
    {
      "cell_type": "markdown",
      "metadata": {
        "id": "9nWtA7RJeFpa"
      },
      "source": [
        "## 回溯算法\n",
        "93. Restore IP Addresses\n",
        "\n",
        "Given a string containing only digits, restore it by returning all possible valid IP address combinations.\n",
        "\n",
        "A valid IP address consists of exactly four integers (each integer is between 0 and 255) separated by single points.\n",
        "\n",
        "\n",
        "**Example:**\n",
        "\n",
        "Input: \"25525511135\"\n",
        "\n",
        "Output: [\"255.255.11.135\", \"255.255.111.35\"]"
      ]
    },
    {
      "cell_type": "code",
      "metadata": {
        "id": "lPbrC0lxeFpa"
      },
      "source": [
        "class Solution:\n",
        "    def restoreIpAddresses(self, s: str) -> List[str]:\n",
        "        res = []\n",
        "        \n",
        "        def backtrack(s, ip, part):\n",
        "            if part == 4:\n",
        "                if s == '':\n",
        "                    res.append(ip[1:])\n",
        "                return\n",
        "            \n",
        "            for i in range(3):\n",
        "                if i < len(s) and int(s[:i+1]) <= 255:\n",
        "                    backtrack(s[i+1:], ip+'.'+s[:i+1], part+1)\n",
        "                    if s[0] == '0':\n",
        "                        break\n",
        "                        \n",
        "        backtrack(s, '', 0)\n",
        "        return res\n",
        "        "
      ],
      "execution_count": null,
      "outputs": []
    },
    {
      "cell_type": "code",
      "metadata": {
        "id": "qptHMp-SeFpa",
        "outputId": "bb8391dc-108f-4d28-82e8-5f3badc1a877"
      },
      "source": [
        "import collections\n",
        "dic = collections.defaultdict()\n",
        "dic[1] = []\n",
        "dic[1].append(1)\n",
        "print(dic)"
      ],
      "execution_count": null,
      "outputs": [
        {
          "output_type": "stream",
          "text": [
            "defaultdict(None, {1: [1]})\n"
          ],
          "name": "stdout"
        }
      ]
    },
    {
      "cell_type": "markdown",
      "metadata": {
        "id": "_zbx8HSIeFpa"
      },
      "source": [
        "废话不多说，直接上回溯算法框架。解决一个回溯问题，实际上就是一个决策树的遍历过程。你只需要思考 3 个问题：\n",
        "\n",
        "1、路径：也就是已经做出的选择。\n",
        "\n",
        "2、选择列表：也就是你当前可以做的选择。\n",
        "\n",
        "3、结束条件：也就是到达决策树底层，无法再做选择的条件。\n",
        "\n",
        "如果你不理解这三个词语的解释，没关系，我们后面会用「全排列」和「N 皇后问题」这两个经典的回溯算法问题来帮你理解这些词语是什么意思，现在你先留着印象。\n",
        "代码方面，回溯算法的框架："
      ]
    },
    {
      "cell_type": "code",
      "metadata": {
        "id": "YSpsfrl2eFpa"
      },
      "source": [
        "result = []\n",
        "def backtrack(路径, 选择列表):\n",
        "    if 满足结束条件:\n",
        "        result.add(路径)\n",
        "        return\n",
        "\n",
        "    for 选择 in 选择列表:\n",
        "        做选择\n",
        "        backtrack(路径, 选择列表)\n",
        "        撤销选择"
      ],
      "execution_count": null,
      "outputs": []
    },
    {
      "cell_type": "markdown",
      "metadata": {
        "id": "zGwaCoNjeFpa"
      },
      "source": [
        "**其核心就是 for 循环里面的递归，在递归调用之前「做选择」，在递归调用之后「撤销选择」**，特别简单。\n",
        "\n",
        "什么叫做选择和撤销选择呢，这个框架的底层原理是什么呢？下面我们就通过「全排列」这个问题来解开之前的疑惑，详细探究一下其中的奥妙！\n",
        "\n",
        "1. 全排列问题\n",
        "\n",
        "只要从根遍历这棵树，记录路径上的数字，其实就是所有的全排列。我们不妨把这棵树称为回溯算法的「决策树」。\n",
        "\n",
        "为啥说这是决策树呢，因为你在每个节点上其实都在做决策。比如说你站在下图的红色节点上\n",
        "\n",
        "你现在就在做决策，可以选择 1 那条树枝，也可以选择 3 那条树枝。为啥只能在 1 和 3 之中选择呢？因为 2 这个树枝在你身后，这个选择你之前做过了，而全排列是不允许重复使用数字的。\n",
        "\n",
        "现在可以解答开头的几个名词：[2] 就是「路径」，记录你已经做过的选择；[1,3] 就是「选择列表」，表示你当前可以做出的选择；「结束条件」就是遍历到树的底层，在这里就是选择列表为空的时候。\n",
        "\n",
        "如果明白了这几个名词，可以把「路径」和「选择」列表作为决策树上每个节点的属性，比如下图列出了几个节点的属性：\n",
        "\n",
        "我们定义的 backtrack 函数其实就像一个指针，在这棵树上游走，同时要正确维护每个节点的属性，每当走到树的底层，其「路径」就是一个全排列。\n",
        "\n",
        "再进一步，如何遍历一棵树？这个应该不难吧。回忆一下之前「学习数据结构的框架思维」写过，各种搜索问题其实都是树的遍历问题，而多叉树的遍历框架就是这样\n",
        "\n",
        "void traverse(TreeNode root) {\n",
        "\n",
        "    for (TreeNode child : root.childern)\n",
        "    \n",
        "        // 前序遍历需要的操作\n",
        "        \n",
        "        traverse(child);\n",
        "        \n",
        "        // 后序遍历需要的操作\n",
        "        \n",
        "}\n",
        "\n",
        "前序遍历的代码在进入某一个节点之前的那个时间点执行，后序遍历代码在离开某个节点之后的那个时间点执行。\n",
        "\n",
        "回想我们刚才说的，「路径」和「选择」是每个节点的属性，函数在树上游走要正确维护节点的属性，那么就要在这两个特殊时间点搞点动作：\n",
        "\n",
        "for 选择 in 选择列表:\n",
        "\n",
        "    # 做选择\n",
        "    \n",
        "    将该选择从选择列表移除\n",
        "    \n",
        "    路径.add(选择)\n",
        "    \n",
        "    backtrack(路径, 选择列表)\n",
        "    \n",
        "    # 撤销选择\n",
        "    \n",
        "    路径.remove(选择)\n",
        "    \n",
        "    将该选择再加入选择列表\n",
        "    \n",
        "我们只要在递归之前做出选择，在递归之后撤销刚才的选择，就能正确得到每个节点的选择列表和路径。\n",
        "\n",
        "**46. Permutations 全排列**\n",
        "\n",
        "Given a collection of distinct integers, return all possible permutations.\n",
        "\n",
        "Example:\n",
        "\n",
        "Input: [1,2,3]\n",
        "Output:\n",
        "[\n",
        "  [1,2,3],\n",
        "  [1,3,2],\n",
        "  [2,1,3],\n",
        "  [2,3,1],\n",
        "  [3,1,2],\n",
        "  [3,2,1]\n",
        "]"
      ]
    },
    {
      "cell_type": "code",
      "metadata": {
        "id": "xkkhvcGeeFpa",
        "outputId": "290d2209-d9e0-4395-de57-48521ea7c3a7"
      },
      "source": [
        "import itertools\n",
        "s = [1, 2, 3]\n",
        "print(itertools.permutations(s,3))\n",
        "print(list(itertools.permutations(s,3)))\n",
        "lis = list(itertools.combinations(s,3))\n",
        "print(lis)"
      ],
      "execution_count": null,
      "outputs": [
        {
          "output_type": "stream",
          "text": [
            "<itertools.permutations object at 0x00000246A71FB200>\n",
            "[(1, 2, 3), (1, 3, 2), (2, 1, 3), (2, 3, 1), (3, 1, 2), (3, 2, 1)]\n",
            "[(1, 2, 3)]\n"
          ],
          "name": "stdout"
        }
      ]
    },
    {
      "cell_type": "code",
      "metadata": {
        "id": "W4CUcYV-eFpa"
      },
      "source": [
        "class Solution:\n",
        "    def permute(self, nums: List[int]) -> List[List[int]]:\n",
        "        res = []\n",
        "        \n",
        "        def backtrack(path, nums):\n",
        "            if not nums:\n",
        "                res.append(path[:]) #注意这里要做一次拷贝，否则最后path会被清空，res指向的就是六个空的内存空间\n",
        "                return\n",
        "            \n",
        "            for i in range(len(nums)):\n",
        "                path.append(nums[i])\n",
        "                backtrack(path, nums[:i]+nums[i+1:])\n",
        "                path.pop() \n",
        "        \n",
        "        backtrack([], nums)\n",
        "        return res"
      ],
      "execution_count": null,
      "outputs": []
    },
    {
      "cell_type": "code",
      "metadata": {
        "id": "OqV6BI0YeFpa"
      },
      "source": [
        "#另外一种解决方法是，每次把当前path直接传给函数，不做path的append和pop，这与ip的解法思路一致\n",
        "class Solution:\n",
        "    def permute(self, nums: List[int]) -> List[List[int]]:\n",
        "        res = []\n",
        "        \n",
        "        def backtrack(path, nums):\n",
        "            if not nums:\n",
        "                res.append(path)\n",
        "                return\n",
        "            \n",
        "            for i in range(len(nums)):\n",
        "                backtrack(path+[nums[i]], nums[:i]+nums[i+1:])#注意这里nums[i]要转化成[nums[i]]才能与path相加\n",
        "        \n",
        "        backtrack([], nums)\n",
        "        return res"
      ],
      "execution_count": null,
      "outputs": []
    },
    {
      "cell_type": "markdown",
      "metadata": {
        "id": "0jC14-9HeFpa"
      },
      "source": [
        "**51. N-Queens N皇后问题**\n",
        "\n",
        "The n-queens puzzle is the problem of placing n queens on an n×n chessboard such that no two queens attack each other.\n",
        "\n",
        "Given an integer n, return all distinct solutions to the n-queens puzzle.\n",
        "\n",
        "Each solution contains a distinct board configuration of the n-queens' placement, where 'Q' and '.' both indicate a queen and an empty space respectively.\n",
        "\n",
        "Example:\n",
        "\n",
        "Input: 4\n",
        "Output: // Solution 1[\n",
        " [\".Q..\", \n",
        "  \"...Q\",\n",
        "  \"Q...\",\n",
        "  \"..Q.\"],\n",
        "\n",
        "// Solution 2\n",
        " [\"..Q.\", \n",
        "  \"Q...\",\n",
        "  \"...Q\",\n",
        "  \".Q..\"]\n",
        "]\n",
        "Explanation: There exist two distinct solutions to the 4-queens puzzle as shown above."
      ]
    },
    {
      "cell_type": "markdown",
      "metadata": {
        "id": "RhUzU5NTeFpa"
      },
      "source": [
        "这个问题很经典了，简单解释一下：给你一个 N×N 的棋盘，让你放置 N 个皇后，使得它们不能互相攻击。\n",
        "PS：皇后可以攻击同一行、同一列、左上左下右上右下四个方向的任意单位。\n",
        "这个问题本质上跟全排列问题差不多，决策树的每一层表示棋盘上的每一行；每个节点可以做出的选择是，在该行的任意一列放置一个皇后。"
      ]
    },
    {
      "cell_type": "markdown",
      "metadata": {
        "id": "UOCxXZyoeFpa"
      },
      "source": [
        "79. Word Search\n",
        "Medium\n",
        "\n",
        "4145\n",
        "\n",
        "196\n",
        "\n",
        "Add to List\n",
        "\n",
        "Share\n",
        "Given a 2D board and a word, find if the word exists in the grid.\n",
        "\n",
        "The word can be constructed from letters of sequentially adjacent cell, where \"adjacent\" cells are those horizontally or vertically neighboring. The same letter cell may not be used more than once.\n",
        "\n",
        "Example:\n",
        "\n",
        "board =\n",
        "[\n",
        "  ['A','B','C','E'],\n",
        "  ['S','F','C','S'],\n",
        "  ['A','D','E','E']\n",
        "]\n",
        "\n",
        "Given word = \"ABCCED\", return true.\n",
        "Given word = \"SEE\", return true.\n",
        "Given word = \"ABCB\", return false.\n",
        " \n",
        "\n",
        "Constraints:\n",
        "\n",
        "board and word consists only of lowercase and uppercase English letters.\n",
        "1 <= board.length <= 200\n",
        "1 <= board[i].length <= 200\n",
        "1 <= word.length <= 10^3"
      ]
    },
    {
      "cell_type": "code",
      "metadata": {
        "id": "nVHIImz-eFpa"
      },
      "source": [
        "class Solution:\n",
        "    def exist(self, board: List[List[str]], word: str) -> bool:\n",
        "        for i in range(len(board)):\n",
        "            for j in range(len(board[0])):\n",
        "                if board[i][j] == word[0]:\n",
        "                    if self.bt(i, j, word[1:], board):\n",
        "                        return True\n",
        "        return False\n",
        "            \n",
        "    def bt(self, i, j, word, board):\n",
        "        if not word:\n",
        "            return True\n",
        "        if i > 0 and board[i-1][j] == word[0]:\n",
        "            tmp = board[i][j]\n",
        "            board[i][j] = 'visited'\n",
        "            if self.bt(i-1, j, word[1:], board):\n",
        "                return True\n",
        "            board[i][j] = tmp\n",
        "        if i < len(board) - 1 and board[i+1][j] == word[0]:\n",
        "            tmp = board[i][j]\n",
        "            board[i][j] = 'visited'\n",
        "            if self.bt(i+1, j, word[1:], board):\n",
        "                return True\n",
        "            board[i][j] = tmp\n",
        "        if j > 0 and board[i][j-1] == word[0]:\n",
        "            tmp = board[i][j]\n",
        "            board[i][j] = 'visited'\n",
        "            if self.bt(i, j-1, word[1:], board):\n",
        "                return True\n",
        "            board[i][j] = tmp\n",
        "        if j < len(board[0]) - 1 and board[i][j+1] == word[0]:\n",
        "            tmp = board[i][j]\n",
        "            board[i][j] = 'visited'\n",
        "            if self.bt(i, j+1, word[1:], board):\n",
        "                return True\n",
        "            board[i][j] = tmp\n",
        "        return False"
      ],
      "execution_count": null,
      "outputs": []
    },
    {
      "cell_type": "markdown",
      "metadata": {
        "id": "CzGL_DLxeFpa"
      },
      "source": [
        "### 回溯法算法团灭排列，组合，子集问题\n",
        "这三个问题都可以用回溯算法模板解决，同时子集问题还可以用数学归纳思想解决。"
      ]
    },
    {
      "cell_type": "markdown",
      "metadata": {
        "id": "UVzVRWRIeFpb"
      },
      "source": [
        "## 子集 排列组合"
      ]
    },
    {
      "cell_type": "markdown",
      "metadata": {
        "id": "kQsD614GiG-U"
      },
      "source": [
        "### 子集问题 subset\n",
        "\n",
        "90. Subsets II\n",
        "\n",
        "Given a collection of integers that might contain duplicates, nums, return all possible subsets (the power set).\n",
        "\n",
        "Note: The solution set must not contain duplicate subsets.\n",
        "\n",
        "Example:\n",
        "\n",
        "Input: [1,2,2]\n",
        "Output:\n",
        "[\n",
        "  [2],\n",
        "  [1],\n",
        "  [1,2,2],\n",
        "  [2,2],\n",
        "  [1,2],\n",
        "  []\n",
        "]"
      ]
    },
    {
      "cell_type": "code",
      "metadata": {
        "id": "QVGHr0AUeFpb"
      },
      "source": [
        "class Solution:\n",
        "    def subsetsWithDup(self, nums: List[int]) -> List[List[int]]:\n",
        "        res = [[]]\n",
        "        for num in sorted(nums):\n",
        "            new = []\n",
        "            for subset in res:\n",
        "                new_subset = subset + [num]\n",
        "                if new_subset not in res:\n",
        "                    new.append(new_subset)\n",
        "            res += new\n",
        "        return res"
      ],
      "execution_count": null,
      "outputs": []
    },
    {
      "cell_type": "code",
      "metadata": {
        "id": "s25dH_B6eFpb"
      },
      "source": [
        "class Solution:\n",
        "    def subsetsWithDup(self, nums: List[int]) -> List[List[int]]:\n",
        "        nums.sort()\n",
        "        self.res = []\n",
        "        self.bt(nums, 0, [])\n",
        "        return self.res\n",
        "        \n",
        "    def bt(self, nums, i, path):        \n",
        "        if i == len(nums):\n",
        "            if path not in self.res:\n",
        "                self.res.append(path)\n",
        "            return        \n",
        "        self.bt(nums, i+1, path+[nums[i]])\n",
        "        self.bt(nums, i+1, path)"
      ],
      "execution_count": null,
      "outputs": []
    },
    {
      "cell_type": "code",
      "metadata": {
        "id": "C0m_oSbReFpb"
      },
      "source": [
        "Counter解法"
      ],
      "execution_count": null,
      "outputs": []
    },
    {
      "cell_type": "markdown",
      "metadata": {
        "id": "aTlogw_HeFpb"
      },
      "source": [
        "78. Subsets\n",
        "Medium\n",
        "\n",
        "4127\n",
        "\n",
        "88\n",
        "\n",
        "Add to List\n",
        "\n",
        "Share\n",
        "Given a set of distinct integers, nums, return all possible subsets (the power set).\n",
        "\n",
        "Note: The solution set must not contain duplicate subsets.\n",
        "\n",
        "Example:\n",
        "\n",
        "Input: nums = [1,2,3]\n",
        "Output:\n",
        "[\n",
        "  [3],\n",
        "  [1],\n",
        "  [2],\n",
        "  [1,2,3],\n",
        "  [1,3],\n",
        "  [2,3],\n",
        "  [1,2],\n",
        "  []\n",
        "]"
      ]
    },
    {
      "cell_type": "code",
      "metadata": {
        "id": "eeoMoi4-eFpb"
      },
      "source": [
        ""
      ],
      "execution_count": null,
      "outputs": []
    },
    {
      "cell_type": "markdown",
      "metadata": {
        "id": "kUM5wjtleFpb"
      },
      "source": [
        "### 排列 Permutation"
      ]
    },
    {
      "cell_type": "markdown",
      "metadata": {
        "id": "6yrCxCOLeFpb"
      },
      "source": [
        "### 1079 Letter Tile Possibilities"
      ]
    },
    {
      "cell_type": "code",
      "metadata": {
        "id": "s9kqdTAqeFpb"
      },
      "source": [
        "from collections import Counter\n",
        "class Solution:\n",
        "    def numTilePossibilities(self, tiles: str) -> int:\n",
        "        self.count = 0\n",
        "        counter = Counter(tiles)\n",
        "        self.bt(counter,n)\n",
        "        return self.count\n",
        "        \n",
        "    def bt(self, counter, n):\n",
        "        for i in n:\n",
        "            if counter[i] == 0:\n",
        "                continue\n",
        "            self.count += 1\n",
        "            counter[i] -= 1            \n",
        "            self.bt(counter,n)\n",
        "            counter[i] += 1"
      ],
      "execution_count": null,
      "outputs": []
    },
    {
      "cell_type": "code",
      "metadata": {
        "id": "VHYoCaB9eFpb"
      },
      "source": [
        "class Solution:\n",
        "    def numTilePossibilities(self, tiles: str) -> int:\n",
        "        res = set()\n",
        "        def dfs(path, t):\n",
        "            if path:\n",
        "                res.add(path)\n",
        "            for i in range(len(t)):\n",
        "                dfs(path+t[i], t[:i]+t[i+1:]) #与46的第二种解法，以及ip的解法思路一致\n",
        "        dfs('', tiles)\n",
        "        return len(res)"
      ],
      "execution_count": null,
      "outputs": []
    },
    {
      "cell_type": "code",
      "metadata": {
        "id": "n2_tDDTieFpb"
      },
      "source": [
        "from itertools import permutations\n",
        "class Solution:\n",
        "    def numTilePossibilities(self, tiles:str) -> int:\n",
        "        collect = set()\n",
        "        for l in range(1, len(tiles)+1):\n",
        "            collect.update(permutations(tiles, l))\n",
        "        return len(collect)"
      ],
      "execution_count": null,
      "outputs": []
    },
    {
      "cell_type": "code",
      "metadata": {
        "id": "CwC5ks-9eFpb",
        "outputId": "7d139f48-4f81-488e-cbba-c19422c3bb0e"
      },
      "source": [
        "s1=set('liujingjing')\n",
        "print(s1)#{'g', 'i', 'j', 'l', 'n', 'u'}\n",
        "s1.add('oop')\n",
        "print(s1)#{'j', 'i', 'oop', 'n', 'l', 'g', 'u'}\n",
        "s1.update('oop')\n",
        "print(s1)#{'oop', 'i', 'l', 'j', 'o', 'n', 'g', 'u', 'p'}"
      ],
      "execution_count": null,
      "outputs": [
        {
          "output_type": "stream",
          "text": [
            "{'j', 'u', 'l', 'i', 'n', 'g'}\n",
            "{'j', 'u', 'l', 'i', 'n', 'g', 'oop'}\n",
            "{'j', 'u', 'l', 'i', 'p', 'n', 'g', 'oop', 'o'}\n"
          ],
          "name": "stdout"
        }
      ]
    },
    {
      "cell_type": "markdown",
      "metadata": {
        "id": "cf3P345-eFpb"
      },
      "source": [
        "从上面可以看出来 ，update和add都是对集合进行元素的追加，但是二者是有区别的。\n",
        "\n",
        "update是讲字符串中的拆分成字符进行追加\n",
        "\n",
        "add，是当做整体追加在集合中"
      ]
    },
    {
      "cell_type": "markdown",
      "metadata": {
        "id": "anZQJmXaeFpb"
      },
      "source": [
        "### 组合 Combination\n",
        "46. Permutations\n",
        "Medium\n",
        "\n",
        "4190\n",
        "\n",
        "108\n",
        "\n",
        "Add to List\n",
        "\n",
        "Share\n",
        "Given a collection of distinct integers, return all possible permutations.\n",
        "\n",
        "Example:\n",
        "\n",
        "Input: [1,2,3]\n",
        "Output:\n",
        "[\n",
        "  [1,2,3],\n",
        "  [1,3,2],\n",
        "  [2,1,3],\n",
        "  [2,3,1],\n",
        "  [3,1,2],\n",
        "  [3,2,1]\n",
        "]"
      ]
    },
    {
      "cell_type": "code",
      "metadata": {
        "id": "eO9eqTQBeFpb"
      },
      "source": [
        "class Solution:\n",
        "    def permute(self, nums: List[int]) -> List[List[int]]:\n",
        "        res = []\n",
        "        \n",
        "        def backtrack(path, nums):\n",
        "            if not nums:\n",
        "                #res.append(path[:]) #注意这里要做一次拷贝，否则最后path会被清空，res指向的就是六个空的内存空间\n",
        "                #另外一种解决方法是，每次把res和path一起传给函数，不做path的pop\n",
        "                res.append(path)\n",
        "                return\n",
        "            \n",
        "            for i in range(len(nums)):\n",
        "                # path.append(nums[i])\n",
        "                # backtrack(path, nums[:i]+nums[i+1:])\n",
        "                # path.pop() \n",
        "                backtrack(path+[nums[i]], nums[:i]+nums[i+1:])\n",
        "        \n",
        "        backtrack([], nums)\n",
        "        \n",
        "        return res"
      ],
      "execution_count": null,
      "outputs": []
    },
    {
      "cell_type": "markdown",
      "metadata": {
        "id": "kGe3r51CeFpb"
      },
      "source": [
        "1286. Iterator for Combination\n",
        "Medium\n",
        "\n",
        "453\n",
        "\n",
        "40\n",
        "\n",
        "Add to List\n",
        "\n",
        "Share\n",
        "Design an Iterator class, which has:\n",
        "\n",
        "A constructor that takes a string characters of sorted distinct lowercase English letters and a number combinationLength as arguments.\n",
        "A function next() that returns the next combination of length combinationLength in lexicographical order.\n",
        "A function hasNext() that returns True if and only if there exists a next combination.\n",
        " \n",
        "\n",
        "Example:\n",
        "\n",
        "CombinationIterator iterator = new CombinationIterator(\"abc\", 2); // creates the iterator.\n",
        "\n",
        "iterator.next(); // returns \"ab\"\n",
        "iterator.hasNext(); // returns true\n",
        "iterator.next(); // returns \"ac\"\n",
        "iterator.hasNext(); // returns true\n",
        "iterator.next(); // returns \"bc\"\n",
        "iterator.hasNext(); // returns false\n",
        " \n",
        "\n",
        "Constraints:\n",
        "\n",
        "1 <= combinationLength <= characters.length <= 15\n",
        "There will be at most 10^4 function calls per test.\n",
        "It's guaranteed that all calls of the function next are valid."
      ]
    },
    {
      "cell_type": "code",
      "metadata": {
        "id": "RaNGJDS2eFpb"
      },
      "source": [
        "class CombinationIterator(object):\n",
        " \n",
        "    def __init__(self, characters, combinationLength):\n",
        "        \"\"\"\n",
        "        :type characters: str\n",
        "        :type combinationLength: int\n",
        "        \"\"\"\n",
        "        # from itertools import permututations\n",
        "        self.s = list(itertools.combinations(characters, combinationLength))\n",
        "        self.index = 0\n",
        " \n",
        "    def next(self):\n",
        "        \"\"\"\n",
        "        :rtype: str\n",
        "        \"\"\"\n",
        "        self.index += 1\n",
        "        return \"\".join(self.s[self.index - 1])\n",
        " \n",
        "    def hasNext(self):\n",
        "        \"\"\"\n",
        "        :rtype: bool\n",
        "        \"\"\"\n",
        "        return self.index < len(self.s)"
      ],
      "execution_count": null,
      "outputs": []
    },
    {
      "cell_type": "code",
      "metadata": {
        "id": "FODozCvdeFpb"
      },
      "source": [
        "class CombinationIterator:\n",
        "\n",
        "    def __init__(self, characters: str, combinationLength: int):\n",
        "        self.res = []\n",
        "        \n",
        "        def dfs(s, cur):\n",
        "            if len(cur) == combinmsationLength:\n",
        "                self.res.append(cur)\n",
        "                return\n",
        "            for i in range(s, len(characters)-(combinationLength-len(cur))+1):\n",
        "                dfs(i+1, cur+characters[i])\n",
        "                \n",
        "        dfs(0, '')\n",
        "\n",
        "    def next(self) -> str:m's\n",
        "        return self.res.pop(0)\n",
        "\n",
        "    def hasNext(self) -> bool:\n",
        "        return len(self.res) != 0"
      ],
      "execution_count": null,
      "outputs": []
    },
    {
      "cell_type": "markdown",
      "metadata": {
        "id": "NYw4oCq9eFpb"
      },
      "source": [
        "216. Combination Sum III\n",
        "Medium\n",
        "\n",
        "1135\n",
        "\n",
        "52\n",
        "\n",
        "Add to List\n",
        "\n",
        "Share\n",
        "Find all possible combinations of k numbers that add up to a number n, given that only numbers from 1 to 9 can be used and each combination should be a unique set of numbers.\n",
        "\n",
        "Note:\n",
        "\n",
        "All numbers will be positive integers.\n",
        "The solution set must not contain duplicate combinations.\n",
        "Example 1:\n",
        "\n",
        "Input: k = 3, n = 7\n",
        "Output: [[1,2,4]]\n",
        "Example 2:\n",
        "\n",
        "Input: k = 3, n = 9\n",
        "Output: [[1,2,6], [1,3,5], [2,3,4]]"
      ]
    },
    {
      "cell_type": "code",
      "metadata": {
        "id": "Fbx_gY_1eFpb"
      },
      "source": [
        "class Solution:\n",
        "    # def combinationSum3(self, k: int, n: int) -> List[List[int]]:\n",
        "    #     res = []\n",
        "    #     def bt(start, cnt, sums, path):\n",
        "    #         if cnt > k or sums > n:\n",
        "    #             return \n",
        "    #         if cnt == k and sums == n:\n",
        "    #             res.append(path)\n",
        "    #             return \n",
        "    #         for i in range(start+1, 10):\n",
        "    #             bt(i, cnt+1, sums+i, path+[i])\n",
        "    #     bt(0,0,0,[])\n",
        "    #     return res\n",
        "    \n",
        "    def combinationSum3(self, k: int, n: int) -> List[List[int]]:\n",
        "        res = []\n",
        "        k += 1\n",
        "        def bt(sums, path):\n",
        "            if len(path) > k or sums > n:\n",
        "                return \n",
        "            if len(path) == k and sums == n:\n",
        "                res.append(path[1:])\n",
        "                return \n",
        "                \n",
        "            for i in range(path[-1]+1, 10):\n",
        "                path+=[i]\n",
        "                bt(sums+i, path)\n",
        "                path.pop()\n",
        "        bt(0,[0])\n",
        "        return res"
      ],
      "execution_count": null,
      "outputs": []
    },
    {
      "cell_type": "code",
      "metadata": {
        "id": "ZSG9LCPZeFpc",
        "outputId": "5e0403d4-a9a1-45ab-c757-16752db67faf"
      },
      "source": [
        "a = [1, 11, 21, 31, 41, 51, 61, 71, 79, 89, 99, 109, 119, 129, 139, 149, 157, 167, 177, 187, 197, 207, 217, 227, 235, 245, 255, 265, 275, 285, 295, 305, 313, 323, 333, 343, 353, 363, 373, 383, 391, 401, 411, 421, 431, 441, 451, 461, 469, 479, 489, 499, 509, 519, 529, 539, 547, 557, 567, 577, 587, 597, 607, 617, 625, 635, 645, 655, 665, 675, 685, 695, 703, 713, 723, 733, 743, 753, 763, 773]\n",
        "print(len(a))"
      ],
      "execution_count": null,
      "outputs": [
        {
          "output_type": "stream",
          "text": [
            "80\n"
          ],
          "name": "stdout"
        }
      ]
    },
    {
      "cell_type": "markdown",
      "metadata": {
        "id": "EAkLVYKleFpc"
      },
      "source": [
        "## 字符串操作\n",
        "\n",
        "791. Custom Sort String\n",
        "\n",
        "S and T are strings composed of lowercase letters. In S, no letter occurs more than once.\n",
        "\n",
        "S was sorted in some custom order previously. We want to permute the characters of T so that they match the order that S was sorted. More specifically, if x occurs before y in S, then x should occur before y in the returned string.\n",
        "\n",
        "Return any permutation of T (as a string) that satisfies this property.\n",
        "\n",
        "**Example :**\n",
        "Input: \n",
        "S = \"cba\"\n",
        "T = \"abcd\"\n",
        "Output: \"cbad\"\n",
        "Explanation: \n",
        "\"a\", \"b\", \"c\" appear in S, so the order of \"a\", \"b\", \"c\" should be \"c\", \"b\", and \"a\". \n",
        "Since \"d\" does not appear in S, it can be at any position in T. \"dcba\", \"cdba\", \"cbda\" are also valid outputs."
      ]
    },
    {
      "cell_type": "code",
      "metadata": {
        "id": "X7XyO2w-eFpc"
      },
      "source": [
        "class Solution:\n",
        "    def customSortString(self, S: str, T: str) -> str:\n",
        "        dic = defaultdict()\n",
        "        res = \"\"\n",
        "        for i, ch in enumerate(S):\n",
        "            dic[ch] = i\n",
        "        inS = []\n",
        "        for ch in T:\n",
        "            if ch in dic:\n",
        "                inS.append(dic[ch])\n",
        "            else:\n",
        "                res += ch\n",
        "        inS = sorted(inS)\n",
        "        for index in inS:\n",
        "            key = self.getKey(dic, index)\n",
        "            res += key\n",
        "        return res\n",
        "            \n",
        "    def getKey(self, dic, value):\n",
        "        for k, v in dic.items():\n",
        "            if v == value:\n",
        "                return k\n",
        "            \n",
        "class Solution:\n",
        "    def customSortString(self, S: str, T: str) -> str:\n",
        "        c = Counter(T)\n",
        "        res = ''\n",
        "        for ch in S:\n",
        "            res += ch * c[ch]\n",
        "        S = set(S)\n",
        "        for ch,v in c.items():\n",
        "            if ch not in S:\n",
        "                res += ch * c[ch]\n",
        "        return res"
      ],
      "execution_count": null,
      "outputs": []
    },
    {
      "cell_type": "markdown",
      "metadata": {
        "id": "WSiRDocXeFpc"
      },
      "source": [
        "c = Counter(T) 是一个字典，for ch,v in c.items()可以遍历字符串T里的ch\n",
        "#### python字典：根据value获取对应的key\n",
        "方法一：（万能法，不必要求value值的唯一）\n",
        "直接遍历"
      ]
    },
    {
      "cell_type": "code",
      "metadata": {
        "id": "VUjY7Gn3eFpc"
      },
      "source": [
        "def get_keys(d, value):\n",
        "    return [k for k,v in d.items() if v == value]"
      ],
      "execution_count": null,
      "outputs": []
    },
    {
      "cell_type": "markdown",
      "metadata": {
        "id": "IH6pV8DCeFpc"
      },
      "source": [
        "方法二： 反转词典，然后再索引新dict的新key(value值必须唯一）"
      ]
    },
    {
      "cell_type": "code",
      "metadata": {
        "id": "1_-7zFJeeFpc"
      },
      "source": [
        "new_d = {v:k for k,v in d.items()}"
      ],
      "execution_count": null,
      "outputs": []
    },
    {
      "cell_type": "markdown",
      "metadata": {
        "id": "k7iC-FuAeFpc"
      },
      "source": [
        "方法三：转成list后直接索引（value值必须唯一）\n",
        "dict.keys()和dict.values()函数都是按照dict顺序返回，变换成list后顺序仍旧不变，故可以直接用list.index()函数去索引list来定位。"
      ]
    },
    {
      "cell_type": "code",
      "metadata": {
        "id": "ignxrp2NeFpc"
      },
      "source": [
        "list(d.keys())[list(d.values()).index(\"你要索引的value\")]"
      ],
      "execution_count": null,
      "outputs": []
    },
    {
      "cell_type": "markdown",
      "metadata": {
        "id": "eKlU96ySeFpc"
      },
      "source": [
        "### python 字符串常用操作方法\n",
        "python 字符串操作常用操作，如字符串的替换、删除、截取、赋值、连接、比较、查找、分割等\n",
        "**1、去除空格**\n",
        "\n",
        "**str.strip()**：删除字符串两边的指定字符，括号的写入指定字符，默认为空格"
      ]
    },
    {
      "cell_type": "code",
      "metadata": {
        "id": "Ku_GWF-jeFpc",
        "outputId": "6952f0d5-1d34-4226-b2f4-17d97865ab07"
      },
      "source": [
        "a='    hello    '\n",
        "b=a.strip()\n",
        "print(b)"
      ],
      "execution_count": null,
      "outputs": [
        {
          "output_type": "stream",
          "text": [
            "hello\n"
          ],
          "name": "stdout"
        }
      ]
    },
    {
      "cell_type": "markdown",
      "metadata": {
        "id": "H_eqvEa1eFpc"
      },
      "source": [
        "**str.lstrip()**:删除字符串左边的指定字符，括号的写入指定字符，默认空格\n",
        "\n",
        "\n",
        "**str.rstrip()**:删除字符串右边的指定字符，括号的写入指定字符，默认空格"
      ]
    },
    {
      "cell_type": "code",
      "metadata": {
        "id": "nKOwGvGReFpc",
        "outputId": "83051a00-ecf5-44e1-9846-0a60494f117b"
      },
      "source": [
        "a='   hello   '\n",
        "b=a.lstrip()\n",
        "print(b)"
      ],
      "execution_count": null,
      "outputs": [
        {
          "output_type": "stream",
          "text": [
            "hello   \n"
          ],
          "name": "stdout"
        }
      ]
    },
    {
      "cell_type": "markdown",
      "metadata": {
        "id": "JPWYvD94eFpc"
      },
      "source": [
        "**2、复制字符串**"
      ]
    },
    {
      "cell_type": "code",
      "metadata": {
        "id": "0p_vfSHSeFpc",
        "outputId": "ea0fab8b-7f3a-4899-ed84-d3d38eded091"
      },
      "source": [
        "a='hello world'\n",
        "b=a\n",
        "print(a,b)"
      ],
      "execution_count": null,
      "outputs": [
        {
          "output_type": "stream",
          "text": [
            "hello world hello world\n"
          ],
          "name": "stdout"
        }
      ]
    },
    {
      "cell_type": "markdown",
      "metadata": {
        "id": "pSDSSd8meFpc"
      },
      "source": [
        "**3. 连接字符串**"
      ]
    },
    {
      "cell_type": "code",
      "metadata": {
        "id": "kpHSs33LeFpc"
      },
      "source": [
        "a='hello'\n",
        "b='world'\n",
        "print(a+b)\n",
        "#此方法又称为 \"万恶的加号\",因为使用加号连接2个字符串会调用静态函数string_concat(register PyStringObject *a ,register PyObject * b),\n",
        "#在这个函数中会开辟一块大小是a+b的内存的和的存储单元，然后将a,b字符串拷贝进去。如果是n个字符串相连  那么会开辟n-1次内存，是非常耗费资源的。"
      ],
      "execution_count": null,
      "outputs": []
    },
    {
      "cell_type": "code",
      "metadata": {
        "id": "4EJKRThweFpc",
        "outputId": "085a2ce1-864a-415f-993a-ac29d31cc0f4"
      },
      "source": [
        "#str.join:连接2个字符串,可指定连接符号(关于join，读者可以自己去查看一些相关资料)\n",
        "li=[\"alex\",\"eric\"]\n",
        "s=\"******\".join(li)\n",
        "print(s)"
      ],
      "execution_count": null,
      "outputs": [
        {
          "output_type": "stream",
          "text": [
            "alex******eric\n"
          ],
          "name": "stdout"
        }
      ]
    },
    {
      "cell_type": "markdown",
      "metadata": {
        "id": "KeecfAxBeFpc"
      },
      "source": [
        "4.查找字符串"
      ]
    },
    {
      "cell_type": "code",
      "metadata": {
        "id": "5xP4CwQzeFpc",
        "outputId": "d300f8e1-d635-46e1-a797-fc74c44ff99b"
      },
      "source": [
        "#str.index 和str.find 功能相同，区别在于find()查找失败会返回-1，不会影响程序运行。一般用find!=-1或者find>-1来作为判断条件。\n",
        "#str.index:检测字符串中是否包含子字符串str，可指定范围\n",
        "a='hello world'\n",
        "\n",
        "a.index('l')"
      ],
      "execution_count": null,
      "outputs": [
        {
          "output_type": "execute_result",
          "data": {
            "text/plain": [
              "2"
            ]
          },
          "metadata": {
            "tags": []
          },
          "execution_count": 28
        }
      ]
    },
    {
      "cell_type": "code",
      "metadata": {
        "id": "DcJf9KJreFpc",
        "outputId": "9339d901-5425-4b84-a79b-f6d9ab05393a"
      },
      "source": [
        "a.index('x')"
      ],
      "execution_count": null,
      "outputs": [
        {
          "output_type": "error",
          "ename": "ValueError",
          "evalue": "substring not found",
          "traceback": [
            "\u001b[1;31m---------------------------------------------------------------------------\u001b[0m",
            "\u001b[1;31mValueError\u001b[0m                                Traceback (most recent call last)",
            "\u001b[1;32m<ipython-input-29-51f0d5bb66b2>\u001b[0m in \u001b[0;36m<module>\u001b[1;34m\u001b[0m\n\u001b[1;32m----> 1\u001b[1;33m \u001b[0ma\u001b[0m\u001b[1;33m.\u001b[0m\u001b[0mindex\u001b[0m\u001b[1;33m(\u001b[0m\u001b[1;34m'x'\u001b[0m\u001b[1;33m)\u001b[0m\u001b[1;33m\u001b[0m\u001b[1;33m\u001b[0m\u001b[0m\n\u001b[0m",
            "\u001b[1;31mValueError\u001b[0m: substring not found"
          ]
        }
      ]
    },
    {
      "cell_type": "code",
      "metadata": {
        "id": "4HNAriWveFpd",
        "outputId": "5f64f173-c031-4aba-ccc3-23965807c5cc"
      },
      "source": [
        "#str.find:检测字符串中是否包含子字符串str，可指定范围\n",
        "a.find('l')\n",
        "a.find('x')"
      ],
      "execution_count": null,
      "outputs": [
        {
          "output_type": "execute_result",
          "data": {
            "text/plain": [
              "-1"
            ]
          },
          "metadata": {
            "tags": []
          },
          "execution_count": 31
        }
      ]
    },
    {
      "cell_type": "markdown",
      "metadata": {
        "id": "zx7gPomheFpd"
      },
      "source": [
        "5. 比较字符串\n",
        "\n",
        "python3没有str.cmp方法了\n",
        "\n",
        "可以用(a>b) - (a<b)代替cmp(a,b)"
      ]
    },
    {
      "cell_type": "code",
      "metadata": {
        "id": "bSs8mpV8eFpd",
        "outputId": "89f3b77c-8e6b-4f77-e619-ce5334876ffb"
      },
      "source": [
        "a = 'hell7jk'\n",
        "b = 'world'\n",
        "print(a>b)"
      ],
      "execution_count": null,
      "outputs": [
        {
          "output_type": "stream",
          "text": [
            "False\n"
          ],
          "name": "stdout"
        }
      ]
    },
    {
      "cell_type": "markdown",
      "metadata": {
        "id": "ptvBj4v_eFpd"
      },
      "source": [
        "8. 字符串中字母大小写转换"
      ]
    },
    {
      "cell_type": "code",
      "metadata": {
        "id": "EAyRONoFeFpd",
        "outputId": "1d0b4f31-678f-4616-8e08-974948f703df"
      },
      "source": [
        "a='Hello World'\n",
        "print(a.lower())"
      ],
      "execution_count": null,
      "outputs": [
        {
          "output_type": "stream",
          "text": [
            "hello world\n"
          ],
          "name": "stdout"
        }
      ]
    },
    {
      "cell_type": "code",
      "metadata": {
        "id": "P8uWyDpLeFpd",
        "outputId": "e8dd25f8-5f6c-44c1-d24b-19312a889982"
      },
      "source": [
        "print(a.upper())\n",
        "print(a)"
      ],
      "execution_count": null,
      "outputs": [
        {
          "output_type": "stream",
          "text": [
            "HELLO WORLD\n",
            "Hello World\n"
          ],
          "name": "stdout"
        }
      ]
    },
    {
      "cell_type": "code",
      "metadata": {
        "id": "Z2HNtPyheFpd",
        "outputId": "3e54f5a4-0d5f-4060-9e56-5d5d85a03438"
      },
      "source": [
        "print(a.swapcase())"
      ],
      "execution_count": null,
      "outputs": [
        {
          "output_type": "stream",
          "text": [
            "hELLO wORLD\n"
          ],
          "name": "stdout"
        }
      ]
    },
    {
      "cell_type": "code",
      "metadata": {
        "id": "SCxlLlyseFpd",
        "outputId": "eb5ef115-c85c-4561-97d6-218da3d29350"
      },
      "source": [
        "print(a.capitalize())"
      ],
      "execution_count": null,
      "outputs": [
        {
          "output_type": "stream",
          "text": [
            "Hello world\n"
          ],
          "name": "stdout"
        }
      ]
    },
    {
      "cell_type": "markdown",
      "metadata": {
        "id": "kC5bc9fieFpd"
      },
      "source": [
        "9.将字符串放入中心位置可指定长度以及位置两边字符"
      ]
    },
    {
      "cell_type": "code",
      "metadata": {
        "id": "8B7nujTOeFpe",
        "outputId": "3c87d9c7-7ddb-4863-ed69-0d55ab1c4e96"
      },
      "source": [
        "print(a.center(12,'*'))\n",
        "print(a.center(13,'*'))\n",
        "print(a.center(14,'*'))"
      ],
      "execution_count": null,
      "outputs": [
        {
          "output_type": "stream",
          "text": [
            "Hello World*\n",
            "*Hello World*\n",
            "*Hello World**\n"
          ],
          "name": "stdout"
        }
      ]
    },
    {
      "cell_type": "markdown",
      "metadata": {
        "id": "OhWNCFgOeFpe"
      },
      "source": [
        "10.字符串统计"
      ]
    },
    {
      "cell_type": "code",
      "metadata": {
        "id": "A35VR1xceFpe",
        "outputId": "9dcc2de2-0bf5-4388-d59a-a3f6b5db82b8"
      },
      "source": [
        "a='hello world'\n",
        "print(a.count('l'))"
      ],
      "execution_count": null,
      "outputs": [
        {
          "output_type": "stream",
          "text": [
            "3\n"
          ],
          "name": "stdout"
        }
      ]
    },
    {
      "cell_type": "markdown",
      "metadata": {
        "id": "3DihksUweFpe"
      },
      "source": [
        "11. 字符串的测试、判断函数，这一类函数在string模块中没有，这些函数返回的都是bool值 "
      ]
    },
    {
      "cell_type": "code",
      "metadata": {
        "id": "4UvnSyn9eFpe"
      },
      "source": [
        "1 S.startswith(prefix[,start[,end]])  #是否以prefix开头 \n",
        "2 S.endswith(suffix[,start[,end]])     #以suffix结尾 \n",
        "3 S.isalnum()                             #是否全是字母和数字，并至少有一个字符 \n",
        "4 S.isalpha()                          #是否全是字母，并至少有一个字符 \n",
        "5 S.isdigit()                          #是否全是数字，并至少有一个字符 \n",
        "6 S.isspace()                          #是否全是空白字符，并至少有一个字符 \n",
        "7 S.islower()                          #S中的字母是否全是小写 \n",
        "8 S.isupper()                          #S中的字母是否便是大写 \n",
        "9 S.istitle()                          #S是否是首字母大写的"
      ],
      "execution_count": null,
      "outputs": []
    },
    {
      "cell_type": "markdown",
      "metadata": {
        "id": "7_db50f6eFpe"
      },
      "source": [
        "12.字符串切片"
      ]
    },
    {
      "cell_type": "code",
      "metadata": {
        "id": "aoPHkh4beFpe"
      },
      "source": [
        " 1 str = '0123456789′\n",
        " 2 print str[0:3] #截取第一位到第三位的字符\n",
        " 3 print str[:] #截取字符串的全部字符\n",
        " 4 print str[6:] #截取第七个字符到结尾\n",
        " 5 print str[:-3] #截取从头开始到倒数第三个字符之前\n",
        " 6 print str[2] #截取第三个字符\n",
        " 7 print str[-1] #截取倒数第一个字符\n",
        " 8 print str[::-1] #创造一个与原字符串顺序相反的字符串\n",
        " 9 print str[-3:-1] #截取倒数第三位与倒数第一位之前的字符\n",
        "10 print str[-3:] #截取倒数第三位到结尾\n",
        "11 print str[:-5:-3] #逆序截取，截取倒数第五位数与倒数第三位数之间"
      ],
      "execution_count": null,
      "outputs": []
    },
    {
      "cell_type": "markdown",
      "metadata": {
        "id": "fUUPaadbeFpe"
      },
      "source": [
        "13.分割，前中后三部分"
      ]
    },
    {
      "cell_type": "code",
      "metadata": {
        "id": "XGD5HJKGeFpe",
        "outputId": "6d7b2b85-eada-47ee-b071-658973e1a168"
      },
      "source": [
        "1 s=\"alex SB alex\"\n",
        "2 ret = s.partition('SB')\n",
        "3 print(ret)\n",
        "4 #输出元组  ('alex ', 'SB', ' alex')"
      ],
      "execution_count": null,
      "outputs": [
        {
          "output_type": "error",
          "ename": "SyntaxError",
          "evalue": "invalid syntax (<ipython-input-49-06960205bf1a>, line 1)",
          "traceback": [
            "\u001b[1;36m  File \u001b[1;32m\"<ipython-input-49-06960205bf1a>\"\u001b[1;36m, line \u001b[1;32m1\u001b[0m\n\u001b[1;33m    1 s=\"alex SB alex\"\u001b[0m\n\u001b[1;37m      ^\u001b[0m\n\u001b[1;31mSyntaxError\u001b[0m\u001b[1;31m:\u001b[0m invalid syntax\n"
          ]
        }
      ]
    },
    {
      "cell_type": "markdown",
      "metadata": {
        "id": "GfoxbFC6eFpe"
      },
      "source": [
        "14. 替换"
      ]
    },
    {
      "cell_type": "code",
      "metadata": {
        "id": "Zbpsoww8eFpe"
      },
      "source": [
        "1 s=\"alex SB alex\"\n",
        "2 s.replace(\"al\",\"BB\")\n",
        "3 print(ret)\n",
        "4 #输出结果    BBex SB BBex"
      ],
      "execution_count": null,
      "outputs": []
    },
    {
      "cell_type": "markdown",
      "metadata": {
        "id": "hhkgI0fIeFpe"
      },
      "source": [
        "**15. 按输入字符切割**"
      ]
    },
    {
      "cell_type": "code",
      "metadata": {
        "id": "QHavzPBEeFpe",
        "outputId": "da47a867-b118-4e51-f944-f25faadb288c"
      },
      "source": [
        "s=\"ale xal ec\"\n",
        "res = s.split(' ')\n",
        "print(res)"
      ],
      "execution_count": null,
      "outputs": [
        {
          "output_type": "stream",
          "text": [
            "['ale', 'xal', 'ec']\n"
          ],
          "name": "stdout"
        }
      ]
    },
    {
      "cell_type": "markdown",
      "metadata": {
        "id": "HCwvvGAbeFpe"
      },
      "source": [
        "16. 根据换行执行分割"
      ]
    },
    {
      "cell_type": "code",
      "metadata": {
        "id": "IT-tpCICeFpf",
        "outputId": "22b05398-4f51-4a02-d0d8-5ef5954433b7"
      },
      "source": [
        "s=\"alex\\nalec\"\n",
        "res = s.splitlines()\n",
        "print(res)"
      ],
      "execution_count": null,
      "outputs": [
        {
          "output_type": "stream",
          "text": [
            "['alex', 'alec']\n"
          ],
          "name": "stdout"
        }
      ]
    },
    {
      "cell_type": "code",
      "metadata": {
        "id": "G3DusduGeFpf"
      },
      "source": [
        "\n",
        "str_1 = \"123456\"\n",
        "str_2 = \"Abc\"\n",
        "str_3 = \"123Abc\"\n",
        " \n",
        "#用isdigit函数判断是否数字\n",
        "print(str_1.isdigit())\n",
        "Ture\n",
        "print(str_2.isdigit())\n",
        "False\n",
        "print(str_3.isdigit())\n",
        "False\n",
        " \n",
        "#用isalpha判断是否字母\n",
        "print(str_1.isalpha())    \n",
        "False\n",
        "print(str_2.isalpha())\n",
        "Ture    \n",
        "print(str_3.isalpha())    \n",
        "False\n",
        " \n",
        "#isalnum判断是否数字和字母的组合\n",
        "print(str_1.isalnum())    \n",
        "Ture\n",
        "print(str_2.isalnum())\n",
        "Ture\n",
        "print(str_1.isalnum())    \n",
        "Ture\n",
        "注意：如果字符串中含有除了字母或者数字之外的字符，比如空格，也会返回False"
      ],
      "execution_count": null,
      "outputs": []
    },
    {
      "cell_type": "markdown",
      "metadata": {
        "id": "t4ReG_wfeFpf"
      },
      "source": [
        "### 5. 快手真题上\n",
        "#### 合法数独\n",
        "给定一个数独板的输入，确认当前的填法是否合法。\n",
        "\n",
        "合法的输入需要满足以下三个条件：\n",
        "\n",
        "1. 每一行的9个格子中是1-9的9个数字，且没有重复\n",
        "\n",
        "2. 每一列的9个格子中是1-9的9个数字，且没有重复\n",
        "\n",
        "3. 9个3*3的小格子中是1-9的9个格子，且没有重复\n"
      ]
    },
    {
      "cell_type": "code",
      "metadata": {
        "id": "2lOedjgxeFpf"
      },
      "source": [
        "#python3 数组实现\n",
        "\n",
        "#迭代一次，统计三次——统计行，统计列，统计九宫格\n",
        "def isValidSudoku(self, board: List[List[str]]) -> bool:\n",
        "    row_arr = [[0 for i in range(9)] for j in range(9)]  # 第i行\n",
        "    col_arr = [[0 for i in range(9)] for j in range(9)]  # 第i列\n",
        "    space_arr = [[0 for i in range(9)] for j in range(9)]  # 第i个九空格\n",
        "    for row in range(9):\n",
        "        for col in range(0, 9):\n",
        "            if board[row][col] != '.':\n",
        "                num = int(board[row][col])\n",
        "                row_arr[row][num - 1] += 1\n",
        "                col_arr[col][num - 1] += 1\n",
        "                space_arr[row // 3 * 3 + col // 3][num - 1] += 1 #我是这样推到的，row代表了它会是在012/345/678哪一组中，columns代表会是在三个数的组中的位置是0，1还是2，实质就是把row和columns分别对应到0，1，2，然后再用等差数列的思想（这里就是乘了3）\n",
        "                if row_arr[row][num - 1] >= 2 or col_arr[col][num - 1] >= 2 or space_arr[row // 3 * 3 + col // 3][num - 1] >= 2:\n",
        "                    return False\n",
        "    return True"
      ],
      "execution_count": null,
      "outputs": []
    },
    {
      "cell_type": "code",
      "metadata": {
        "id": "rtg4z3qxeFpf"
      },
      "source": [
        "class Solution:\n",
        "    def isValidSudoku(self, board: List[List[str]]) -> bool:\n",
        "        row = [[0] * 9 for _ in range(9)]\n",
        "        col = [[0] * 9 for _ in range(9)]\n",
        "        box = [[0] * 9 for _ in range(9)]\n",
        "        \n",
        "        for i in range(9):\n",
        "            for j in range(9):\n",
        "                if board[i][j].isdigit():\n",
        "                    num = int(board[i][j])\n",
        "                    if row[i][num-1] == 0 and col[j][num-1] == 0 and box[(i//3)*3+j//3][num-1] == 0:\n",
        "                        row[i][num-1] += 1\n",
        "                        col[j][num-1] += 1\n",
        "                        box[(i//3)*3+j//3][num-1] += 1\n",
        "                    else:\n",
        "                        return False\n",
        "        return True"
      ],
      "execution_count": null,
      "outputs": []
    },
    {
      "cell_type": "markdown",
      "metadata": {
        "id": "ZHHJE2cMeFpf"
      },
      "source": [
        "相关题目：解数独 37 Sudoku Solver 是一道典型的hard 回溯算法（往上翻)"
      ]
    },
    {
      "cell_type": "markdown",
      "metadata": {
        "id": "BO9nflZWeFpf"
      },
      "source": [
        "## 二分查找\n",
        "\n",
        "852. Peak Index in a Mountain Array 寻找山峰，返回index\n",
        "\n",
        "Let's call an array A a mountain if the following properties hold:\n",
        "\n",
        "A.length >= 3\n",
        "\n",
        "There exists some 0 < i < A.length - 1 such that A[0] < A[1] < ... A[i-1] < A[i] > A[i+1] > ... > A[A.length - 1]\n",
        "\n",
        "Given an array that is definitely a mountain, return any i such that A[0] < A[1] < ... A[i-1] < A[i] > A[i+1] > ... > A[A.length - 1].\n",
        "\n",
        "Example 1:\n",
        "\n",
        "Input: [0,1,0]\n",
        "Output: 1\n",
        "Example 2:\n",
        "\n",
        "Input: [0,2,1,0]\n",
        "Output: 1"
      ]
    },
    {
      "cell_type": "code",
      "metadata": {
        "id": "RA5FE98TeFpf"
      },
      "source": [
        "class Solution:\n",
        "    def peakIndexInMountainArray(self, A: List[int]) -> int:\n",
        "        left, right = 0, len(A)\n",
        "        \n",
        "        while left < right:\n",
        "            mid = (left+right)//2\n",
        "            if A[mid+1] > A[mid]:\n",
        "                left = mid + 1\n",
        "            elif A[mid+1] < A[mid]:\n",
        "                right = mid \n",
        "        return left"
      ],
      "execution_count": null,
      "outputs": []
    },
    {
      "cell_type": "markdown",
      "metadata": {
        "id": "WGLIQILHeFpf"
      },
      "source": [
        "162. Find Peak Element\n",
        "\n",
        "A peak element is an element that is greater than its neighbors.\n",
        "\n",
        "Given an input array nums, where nums[i] ≠ nums[i+1], find a peak element and return its index.\n",
        "\n",
        "The array may contain multiple peaks, in that case return the index to any one of the peaks is fine.\n",
        "\n",
        "You may imagine that nums[-1] = nums[n] = -∞.\n",
        "\n",
        "Example 1:\n",
        "\n",
        "Input: nums = [1,2,3,1]\n",
        "Output: 2\n",
        "Explanation: 3 is a peak element and your function should return the index number 2.\n",
        "Example 2:\n",
        "\n",
        "Input: nums = [1,2,1,3,5,6,4]\n",
        "Output: 1 or 5 \n",
        "Explanation: Your function can return either index number 1 where the peak element is 2, \n",
        "             or index number 5 where the peak element is 6.\n",
        "    \n",
        "    \n",
        "Follow up: Your solution should be in logarithmic complexity."
      ]
    },
    {
      "cell_type": "markdown",
      "metadata": {
        "id": "jsDcRgT8eFpf"
      },
      "source": [
        "class Solution:\n",
        "    def findPeakElement(self, nums: List[int]) -> int:\n",
        "        if not nums:\n",
        "            return None\n",
        "        if len(nums) == 1:\n",
        "            return 0\n",
        "        A = nums\n",
        "        left, right = 0, len(A)-1\n",
        "        \n",
        "        while left < right:\n",
        "            mid = (right+left)//2\n",
        "            print(mid)\n",
        "            if mid >= 1:\n",
        "                if A[mid-1] < A[mid] and A[mid+1] > A[mid]:\n",
        "                    left = mid + 1 \n",
        "                elif A[mid-1] > A[mid] and A[mid+1] < A[mid]:\n",
        "                    right = mid - 1\n",
        "                elif A[mid-1] > A[mid] and A[mid+1] > A[mid]:\n",
        "                    left = mid + 1 \n",
        "                elif A[mid-1] < A[mid] and A[mid+1] < A[mid]:\n",
        "                    return mid\n",
        "            elif mid == 0:\n",
        "                return A.index(max(A[left], A[right]))\n",
        "        return left"
      ]
    },
    {
      "cell_type": "markdown",
      "metadata": {
        "id": "_gwIJ7k4eFpf"
      },
      "source": [
        "354. Russian Doll Envelopes\n",
        "\n",
        "You have a number of envelopes with widths and heights given as a pair of integers (w, h). One envelope can fit into another if and only if both the width and height of one envelope is greater than the width and height of the other envelope.\n",
        "\n",
        "What is the maximum number of envelopes can you Russian doll? (put one inside other)\n",
        "\n",
        "Note:\n",
        "Rotation is not allowed.\n",
        "\n",
        "Example:\n",
        "\n",
        "Input: [[5,4],[6,4],[6,7],[2,3]]\n",
        "Output: 3 \n",
        "Explanation: The maximum number of envelopes you can Russian doll is 3 ([2,3] => [5,4] => [6,7])."
      ]
    },
    {
      "cell_type": "code",
      "metadata": {
        "id": "sf2-c2WseFpf"
      },
      "source": [
        "import bisect\n",
        "class Solution:\n",
        "    def maxEnvelopes(self, envelopes: List[List[int]]) -> int:\n",
        "        if not envelopes: return 0\n",
        "        \n",
        "        envelopes.sort(key=lambda x:(x[0],-x[1]))\n",
        "        print(envelopes)\n",
        "        \n",
        "        maxLen = 1\n",
        "        \n",
        "        def find_num(nums):\n",
        "            q = []\n",
        "            for num in nums:\n",
        "                idx = bisect.bisect_left(q,num)\n",
        "                \n",
        "                if idx == len(q):\n",
        "                    q.append(num)\n",
        "                else:\n",
        "                    q[idx] = num\n",
        "            print(q)\n",
        "            return len(q)\n",
        "        \n",
        "        nums = [ h for (w,h) in envelopes]\n",
        "        return find_num(nums)\n",
        "            "
      ],
      "execution_count": null,
      "outputs": []
    },
    {
      "cell_type": "markdown",
      "metadata": {
        "id": "vXMTRksreFpf"
      },
      "source": [
        "下面这个是DP解法和更详细的二分法"
      ]
    },
    {
      "cell_type": "code",
      "metadata": {
        "id": "4CBvAqf7eFpf"
      },
      "source": [
        "class Solution:\n",
        "    def maxEnvelopes(self, envelopes: List[List[int]]) -> int:\n",
        "        if not envelopes:\n",
        "            return 0\n",
        "        if len(envelopes) == 1:\n",
        "            return 1\n",
        "        # DP的解法\n",
        "#         envelopes = sorted(envelopes)\n",
        "#         dp = [1] * len(envelopes)\n",
        "\n",
        "#         for i in range(1, len(envelopes)):\n",
        "#             for j in range(0, i):\n",
        "#                 if envelopes[j][0]<envelopes[i][0] and envelopes[j][1]<envelopes[i][1]:\n",
        "#                     dp[i]=max(dp[j]+1,dp[i])\n",
        "#         print(dp)\n",
        "#         return max(dp)\n",
        "\n",
        "        envelopes.sort(key = lambda x:(x[0], -x[1]))\n",
        "        print(envelopes)\n",
        "        self.res = []\n",
        "                       \n",
        "        for en in envelopes:\n",
        "            self.insert(en[1])\n",
        "            \n",
        "        return len(self.res)\n",
        "    \n",
        "    def insert(self, en):\n",
        "        left, right = 0 , len(self.res) - 1\n",
        "        print(left, right)\n",
        "        while left <= right:\n",
        "            mid = left + (right-left)//2\n",
        "            if self.res[mid] >= en:\n",
        "                right = mid - 1\n",
        "            else:\n",
        "                left = mid + 1\n",
        "        if left == len(self.res):\n",
        "            self.res.append(en)\n",
        "        else:\n",
        "            self.res[left] = en\n",
        "            "
      ],
      "execution_count": null,
      "outputs": []
    },
    {
      "cell_type": "markdown",
      "metadata": {
        "id": "L4v8NPLleFpf"
      },
      "source": [
        "## 特殊数据结构："
      ]
    },
    {
      "cell_type": "markdown",
      "metadata": {
        "id": "KQJiILKViCGJ"
      },
      "source": [
        "### 单调栈\n",
        "    1475. Final Prices With a Special Discount in a Shop\n",
        "\n",
        "Given the array prices where prices[i] is the price of the ith item in a shop. There is a special discount for items in the shop, if you buy the ith item, then you will receive a discount equivalent to prices[j] where j is the minimum index such that j > i and prices[j] <= prices[i], otherwise, you will not receive any discount at all.\n",
        "\n",
        "Return an array where the ith element is the final price you will pay for the ith item of the shop considering the special discount.\n",
        "\n",
        "Example 1:\n",
        "\n",
        "Input: prices = [8,4,6,2,3]\n",
        "Output: [4,2,4,2,3]\n",
        "Explanation: \n",
        "For item 0 with price[0]=8 you will receive a discount equivalent to prices[1]=4, therefore, the final price you will pay is 8 - 4 = 4. \n",
        "For item 1 with price[1]=4 you will receive a discount equivalent to prices[3]=2, therefore, the final price you will pay is 4 - 2 = 2. \n",
        "For item 2 with price[2]=6 you will receive a discount equivalent to prices[3]=2, therefore, the final price you will pay is 6 - 2 = 4. \n",
        "For items 3 and 4 you will not receive any discount at all.\n",
        "Example 2:\n",
        "\n",
        "Input: prices = [1,2,3,4,5]\n",
        "Output: [1,2,3,4,5]\n",
        "Explanation: In this case, for all items, you will not receive any discount at all.\n",
        "Example 3:\n",
        "\n",
        "Input: prices = [10,1,1,6]\n",
        "Output: [9,0,1,6]"
      ]
    },
    {
      "cell_type": "code",
      "metadata": {
        "id": "6-BEVIdIeFpf"
      },
      "source": [
        "# 单调递增栈\n",
        "class Solution:\n",
        "    def finalPrices(self, prices: List[int]) -> List[int]:\n",
        "        if not prices:\n",
        "            return None\n",
        "        if len(prices) == 1:\n",
        "            return prices\n",
        "        stack = []\n",
        "        for i in range(len(prices)-1, -1, -1):\n",
        "            while stack and prices[i] < stack[-1]:\n",
        "                stack.pop()\n",
        "            if not stack:\n",
        "                stack.append(prices[i])\n",
        "            elif prices[i] >= stack[-1]:\n",
        "                temp = stack[-1]\n",
        "                stack.append(prices[i])\n",
        "                prices[i] = prices[i] - temp\n",
        "        return prices"
      ],
      "execution_count": null,
      "outputs": []
    },
    {
      "cell_type": "markdown",
      "metadata": {
        "id": "_EUTXCdyeFpf"
      },
      "source": [
        "84. Largest Rectangle in Histogram\n",
        "\n",
        "递增栈，栈中只存放递增序列"
      ]
    },
    {
      "cell_type": "code",
      "metadata": {
        "id": "A2cD_ha_eFpf"
      },
      "source": [
        "class Solution:\n",
        "    def largestRectangleArea(self, heights):\n",
        "        \"\"\"\n",
        "        :type heights: List[int]\n",
        "        :rtype: int\n",
        "        \"\"\"\n",
        "        stack = list()\n",
        "        res, i = 0, 0\n",
        "        while i < len(heights):\n",
        "            if not stack or (heights[i] >= heights[stack[-1]]):\n",
        "                stack.append(i)\n",
        "                i += 1\n",
        "            else:\n",
        "                # 发现当前元素比栈顶元素小，所以我们将栈顶元素弹出，并记录此时的面积\n",
        "                # 如果弹出后栈空，那么此时面积为heights[k] * i\n",
        "                # 如果弹出后栈内还有值，因为我们是递增栈，栈内之前的值一定比当前弹出的值小\n",
        "                k = stack.pop()\n",
        "                # stack将最后一个元素弹出后，此时的stack[-1]是倒数第二高的元素\n",
        "                res = max(res, heights[k]*((i - stack[-1] - 1) if stack else i))\n",
        "        # 遍历结束后，发现栈不为空[1,4,5]，所以我们需要做出栈操作，出栈的同时记录出栈元素构成的最大面积\n",
        "        while stack:\n",
        "            k = stack.pop()\n",
        "            res = max(res, heights[k]*((i - stack[-1] - 1) if stack else i))\n",
        "            \n",
        "        return res"
      ],
      "execution_count": null,
      "outputs": []
    },
    {
      "cell_type": "code",
      "metadata": {
        "id": "HnfCUMK6eFpf"
      },
      "source": [
        "def largestRectangleArea(self, heights):\n",
        "    # 因为它算面积的时候需要宽度，宽度是当前的坐标减去前一位，就会出现stack为空的情况，那么如果是-1的话,一旦stack中的元素全pop出去了\n",
        "    # stack[-1]就是-1，idx-stack[-1]-1就是idx，正是上一种方法中我们提到的(i - stack[-1] - 1) if stack else i)\n",
        "    # stack pop到最后一定会是我们加的这个-1，而height[stack[-1]] = 0,所以while heights[stack[-1]] > val这个循环会结束，进入下一个idx\n",
        "    stack = [-1]\n",
        "    res = 0\n",
        "    # 此处较为巧妙。若heights数组中元素都是单增序列，则最后无法出栈stack，也就无法计算最大面积，所以补个0，使之最后可以出栈\n",
        "    heights.append(0)\n",
        "    \n",
        "    for idx, val in enumerate(heights):\n",
        "        while heights[stack[-1]] > val:\n",
        "            h = heights[stack.pop()]\n",
        "            res = max(res, h*(idx-stack[-1]-1))\n",
        "        stack.append(idx)\n",
        "    return res"
      ],
      "execution_count": null,
      "outputs": []
    },
    {
      "cell_type": "markdown",
      "metadata": {
        "id": "y3Mg0Z7TeFpf"
      },
      "source": [
        "85. Maximal Rectangle"
      ]
    },
    {
      "cell_type": "code",
      "metadata": {
        "id": "wQopiNUpeFpf"
      },
      "source": [
        "class Solution:\n",
        "    def maximalRectangle(self, matrix: List[List[str]]) -> int:\n",
        "        if not matrix:\n",
        "            return 0\n",
        "        n = len(matrix[0])\n",
        "        h = [0] * n\n",
        "        res = 0\n",
        "        for row in matrix:\n",
        "            for i in range(n):\n",
        "                if row[i] == '1':\n",
        "                    h[i] = h[i] + 1\n",
        "                else:\n",
        "                    h[i] = 0\n",
        "            res = max(res, self.largestRectangleArea(h))            \n",
        "        return res\n",
        "    \n",
        "    def largestRectangleArea(self, heights):\n",
        "        stack = [-1]\n",
        "        res = 0\n",
        "        heights.append(0)\n",
        "        \n",
        "        for idx, val in enumerate(heights):\n",
        "            while heights[stack[-1]] > val:\n",
        "                h = heights[stack.pop()]\n",
        "                res = max(res, h*(idx - stack[-1] -1))\n",
        "\n",
        "            stack.append(idx)\n",
        "        return res"
      ],
      "execution_count": null,
      "outputs": []
    },
    {
      "cell_type": "markdown",
      "metadata": {
        "id": "vsL8R-NReFpf"
      },
      "source": [
        "前文讲了一种特殊的数据结构「单调栈」monotonic stack，解决了一类问题「Next Greater Number」"
      ]
    },
    {
      "cell_type": "markdown",
      "metadata": {
        "id": "U3F2w2cJeFpf"
      },
      "source": [
        "### 单调队列\n",
        "\n",
        "239.滑动窗口最大值\n",
        "\n"
      ]
    },
    {
      "cell_type": "markdown",
      "metadata": {
        "id": "xHiqFB_UeFpf"
      },
      "source": [
        "### 最大堆，最小堆\n",
        "\n",
        "480. Sliding Window Median\n",
        "\n",
        "Median is the middle value in an ordered integer list. If the size of the list is even, there is no middle value. So the median is the mean of the two middle value.\n",
        "\n",
        "Examples:\n",
        "[2,3,4] , the median is 3\n",
        "\n",
        "[2,3], the median is (2 + 3) / 2 = 2.5\n",
        "\n",
        "Given an array nums, there is a sliding window of size k which is moving from the very left of the array to the very right. You can only see the k numbers in the window. Each time the sliding window moves right by one position. Your job is to output the median array for each window in the original array.\n",
        "\n",
        "For example,\n",
        "Given nums = [1,3,-1,-3,5,3,6,7], and k = 3.\n",
        "\n",
        "Window position                Median\n",
        "---------------               -----\n",
        "[1  3  -1] -3  5  3  6  7       1\n",
        " 1 [3  -1  -3] 5  3  6  7       -1\n",
        " 1  3 [-1  -3  5] 3  6  7       -1\n",
        " 1  3  -1 [-3  5  3] 6  7       3\n",
        " 1  3  -1  -3 [5  3  6] 7       5\n",
        " 1  3  -1  -3  5 [3  6  7]      6\n",
        "Therefore, return the median sliding window as [1,-1,-1,3,5,6].\n",
        "\n",
        "Note:\n",
        "You may assume k is always valid, ie: k is always smaller than input array's size for non-empty array.\n",
        "Answers within 10^-5 of the actual value will be accepted as correct."
      ]
    },
    {
      "cell_type": "code",
      "metadata": {
        "id": "L-jTGW9heFpg"
      },
      "source": [
        ""
      ],
      "execution_count": null,
      "outputs": []
    },
    {
      "cell_type": "markdown",
      "metadata": {
        "id": "-3Zdo9FMeFpg"
      },
      "source": [
        "295. Find Median from Data Stream （下面有一个更详细的解释版本）\n",
        "\n",
        "Median is the middle value in an ordered integer list. If the size of the list is even, there is no middle value. So the median is the mean of the two middle value.\n",
        "\n",
        "For example,\n",
        "[2,3,4], the median is 3\n",
        "\n",
        "[2,3], the median is (2 + 3) / 2 = 2.5\n",
        "\n",
        "Design a data structure that supports the following two operations:\n",
        "\n",
        "void addNum(int num) - Add a integer number from the data stream to the data structure.\n",
        "double findMedian() - Return the median of all elements so far.\n",
        " \n",
        "\n",
        "Example:\n",
        "\n",
        "addNum(1)\n",
        "addNum(2)\n",
        "findMedian() -> 1.5\n",
        "addNum(3) \n",
        "findMedian() -> 2\n",
        " \n",
        "\n",
        "Follow up:\n",
        "\n",
        "If all integer numbers from the stream are between 0 and 100, how would you optimize it?\n",
        "If 99% of all integer numbers from the stream are between 0 and 100, how would you optimize it?"
      ]
    },
    {
      "cell_type": "markdown",
      "metadata": {
        "id": "DchDlkpqeFpg"
      },
      "source": [
        "思路分析：\n",
        "\n",
        "一种最容易想到的思路是，数据流新进来一个数，都把它与已经读出来的数进行一次排序，这样中位数就可以很容易得到。这样做“不好”的地方是：\n",
        "\n",
        "排序的时间复杂度为 O(N\\log N)O(NlogN)，但事实上，我对除了中位数以外的其它位置的元素并不关心。\n",
        "\n",
        "事实上，我们只关心在中间的那两个数（或者一个数），其它数没有必要进行 “比较” 和 “交换” 的操作。\n",
        "\n",
        "在我们学习过的数据结构里，堆就有类似的性质，每次都从堆里得到一个 “最值” 而其它元素无需排序，这样就可以以 O(\\log N)O(logN) 的复杂度每次都从堆中取出最值。\n",
        "\n"
      ]
    },
    {
      "cell_type": "code",
      "metadata": {
        "id": "aUxTdDlveFpg"
      },
      "source": [
        "# lintcode 81\n",
        "from heapq import heappush, heappop\n",
        "class findmedian(object):\n",
        "    def __init__(self):\n",
        "        # larger or equal number in maxheap, |minheap| <= | maxheap | <= | minheap| +1\n",
        "        self.minheap = []\n",
        "        # smaller than median\n",
        "        self.maxheap = []\n",
        "    \n",
        "    def add(self, val):\n",
        "        if len(self.minheap) < len(self.maxheap):\n",
        "            heappush(self.minheap, val)\n",
        "        else:\n",
        "            heappush(self.maxheap, -val)\n",
        "        \n",
        "        if not self.minheap or not self.maxheap:\n",
        "            return\n",
        "        \n",
        "        if self.minheap[0] < - self.maxheap[0]:\n",
        "            temp = heappop(self.minheap)\n",
        "            heappush(self.maxheap, -temp)\n",
        "            temp = - heappop(self.maxheap)\n",
        "            heappush(self.minheap, temp)\n",
        "        #print()   \n",
        "        #print(val)\n",
        "        #print(self.minheap)\n",
        "        #print(self.maxheap)\n",
        "        \n",
        "    def find(self):\n",
        "        if not self.maxheap:\n",
        "            return\n",
        "        else:\n",
        "            return -self.maxheap[0]\n",
        "class Solution:\n",
        "    \"\"\"\n",
        "    @param nums: A list of integers\n",
        "    @return: the median of numbers\n",
        "    \"\"\"\n",
        "    \n",
        "    def medianII(self, nums):\n",
        "        # write your code here\n",
        "        data = findmedian()\n",
        "        \n",
        "        res = []\n",
        "        for num in nums:\n",
        "            data.add(num)\n",
        "            res.append(data.find())\n",
        "            \n",
        "        return res"
      ],
      "execution_count": null,
      "outputs": []
    },
    {
      "cell_type": "markdown",
      "metadata": {
        "id": "lv9QRFYFeFpg"
      },
      "source": [
        "### 二叉树详解实现优先级队列\n",
        "\n",
        "**二叉堆**是一种特殊的堆，二叉堆是完全二元树（二叉树）或者是近似完全二元树（二叉树）。\n",
        "\n",
        "**完全二叉树**的特点：叶子结点只能出现在最下层和次下层，且最下层的叶子结点集中在树的左部。需要注意的是，满二叉树肯定是完全二叉树，而完全二叉树不一定是满二叉树。\n",
        "\n",
        "二叉堆有两种：最大堆和最小堆。\n",
        "\n",
        "**最大堆**：父结点的键值总是大于或等于任何一个子节点的键值；\n",
        "\n",
        "**最小堆**：父结点的键值总是小于或等于任何一个子节点的键值。\n",
        "\n",
        "二叉堆（Binary Heap）没什么神秘，性质比二叉搜索树 BST 还简单。其主要操作就两个，sink（下沉）和 swim（上浮），用以维护二叉堆的性质。其主要应用有两个，首先是一种排序方法**堆排序**，第二是一种很有用的数据结构**优先级队列**。\n",
        "\n",
        "本文就以实现优先级队列（Priority Queue）为例，通过图片和人类的语言来描述一下二叉堆怎么运作的。\n",
        "\n",
        "#### 一、二叉堆概览\n",
        "\n",
        "首先，二叉堆和二叉树有啥关系呢，为什么人们总数把二叉堆画成一棵二叉树？\n",
        "\n",
        "因为，二叉堆其实就是一种特殊的二叉树（完全二叉树），只不过存储在数组里。一般的链表二叉树，我们操作节点的指针，而在数组里，我们把数组索引作为指针：\n",
        "\n",
        "**注意数组的第一个索引 0 空着不用**"
      ]
    },
    {
      "cell_type": "code",
      "metadata": {
        "id": "FlvxZBPReFpg"
      },
      "source": [
        "# 父节点的索引\n",
        "def parent(root):\n",
        "    return root//2\n",
        "\n",
        "# 左孩子的索引\n",
        "def left(root):\n",
        "    return root * 2\n",
        "\n",
        "# 右孩子的索引\n",
        "def right(root):\n",
        "    return root * 2 + 1\n"
      ],
      "execution_count": null,
      "outputs": []
    },
    {
      "cell_type": "markdown",
      "metadata": {
        "id": "n7RIlGC7eFpg"
      },
      "source": [
        "你看到了，把 arr[1] 作为整棵树的根的话，每个节点的父节点和左右孩子的索引都可以通过简单的运算得到，这就是二叉堆设计的一个巧妙之处。为了方便讲解，下面都会画的图都是二叉树结构，相信你能把树和数组对应起来。\n",
        "\n",
        "二叉堆还分为最大堆和最小堆。\n",
        "\n",
        "最大堆的性质是：每个节点都大于等于它的两个子节点。\n",
        "\n",
        "类似的，最小堆的性质是：每个节点都小于等于它的子节点。\n",
        "\n",
        "两种堆核心思路都是一样的，本文以最大堆为例讲解。\n",
        "\n",
        "对于一个最大堆，根据其性质，显然堆顶，也就是 arr[1] 一定是所有元素中最大的元素。\n",
        "\n",
        "### 优先级队列概览\n",
        "\n",
        "**优先队列**，又称为优先级队列、堆。优先队列是一种特殊的队列，除了具有队列的先入先出，队列头出，队列尾入的结构特点，优先队列最重要的就是要实现快速得到队列中优先级最高的元素，因此，优先队列有一定的顺序特点，这是一种弱序，即队列头部的那个元素是优先级最高的，我们往往以元素值的大小作为优先级来讨论，比如说，数值大的优先级高，则优先队列元素会按一定规则的大小顺序排列，从而使得在队列头部的元素始终保持数值最大（优先级最高）的特点。总之，优先队列的目的就是实现将元素入队列，并快速返回队列优先级最高优先级元素。\n",
        "\n",
        "优先级队列这种数据结构有一个很有用的功能，你插入或者删除元素的时候，元素会自动排序，这底层的原理就是二叉堆的操作。\n",
        "数据结构的功能无非增删查该，优先级队列有两个主要 API，分别是 insert 插入一个元素和 delMax 删除最大元素（如果底层用最小堆，那么就是 delMin）。\n",
        "\n",
        "如果我们给每个元素都分配一个数字来标记其优先级，不妨设较小的数字具有较高的优先级，这样我们就可以在一个集合中访问优先级最高的元素并对其进行查找和删除操作了。这样，我们就引入了优先级队列 这种数据结构\n",
        "\n",
        "最简单的优先级队列可能就是一堆不同大小的数组成的队列，每次需要取出其中最小或最大的数，这是我们可以把这些数本身的大小叫做他们的优先级。\n",
        "\n",
        "- 实现的想法：\n",
        "    \n",
        "    最简单的想法是：我们用一个元组来表示元素和它的优先级，将所有的元组都放到列表中存储，接下来当想要找到其中优先级最小的元组时会有以下两种方式\n",
        "\n",
        "    1.列表中存储的是乱序的，每次想找最小的时候就遍历一遍找到优先级最小的元组取出。这样操作的时间复杂度其实是O(n)\n",
        "\n",
        "    2.列表中的元素已经按照优先级的顺序排好了序，每次取最小的元素时直接找固定位置，但是每次向该优先级队列插入元素时都要进行一次排序将其放入合适的位置，在最坏情况下，时间复杂度同样为O(n)\n",
        "\n",
        "    上面这两种方式的时间复杂度还是较高的，为此，我们使用一种叫做堆的结构来实现优先级队列。\n",
        "\n",
        "- 用堆实现优先级队列：\n",
        "    1. **heapq** 模块\n",
        "    heapq是一个二叉堆的实现，其内部使用内置的list对象，对于列表中的每一个元素，其满足 a[k] <= a[2*k+1] and a[k] <= a[2*k+2] ，因此，该方法默认的是一个最小堆，a[0] 为队列中的最小元素。\n",
        "        \n",
        "        1.1 最小优先队列的实现\n",
        "        \n",
        "        由于 heapq 模块默认的就是最小堆结构，所以可以直接利用其中的函数操作来实现最小优先队列的功能。"
      ]
    },
    {
      "cell_type": "code",
      "metadata": {
        "id": "sTLxy-tUeFpg"
      },
      "source": [
        "def smallest_queue(arr):\n",
        "    \"\"\"\n",
        "    默认为最小优先队列\n",
        "    \"\"\"\n",
        "    print(\"原数组：{0}\".format(arr))\n",
        "    # 将给定的列表转化为最小堆，线性时间\n",
        "    heapq.heapify(arr)\n",
        "    print(\"最小堆数组：{0}\".format(arr))\n",
        "\n",
        "    # 插入元素\n",
        "    heapq.heappush(arr, 5)\n",
        "    print(\"插入新元素后：{0}\".format(arr))\n",
        "\n",
        "    # 弹出最小元素\n",
        "    item0 = heapq.heappop(arr)\n",
        "    print(\"弹出的元素后：{0}\".format(arr))\n",
        "\n",
        "    # 返回最小元素\n",
        "    item1 = arr[0]\n",
        "    print(\"获取最小元素的值：{0}\".format(item1))\n",
        "\n",
        "    # 弹出最小元素，并插入一个新的元素，相当于先 heappop, 再 heappush\n",
        "    item2 = heapq.heapreplace(arr, -2)\n",
        "    print(\"弹出的元素为：{0}\".format(item2))\n",
        "    print(\"现在的堆结构为：{0}\".format(arr))"
      ],
      "execution_count": null,
      "outputs": []
    },
    {
      "cell_type": "markdown",
      "metadata": {
        "id": "ytrx0j3ReFpg"
      },
      "source": [
        "        1.2. 最大优先队列的实现\n",
        "\n",
        "        除了最小堆以外，最大堆也是我们常用的一种数据结构，利用 heapq 模块可以实现最大堆的一些简单操作。"
      ]
    },
    {
      "cell_type": "code",
      "metadata": {
        "id": "xBfxAvAKeFpg"
      },
      "source": [
        "def largest_queue(arr):\n",
        "    \"\"\"\n",
        "    最大优先队列的实现\n",
        "\n",
        "    阅读 heapq 模块的源代码可以发现，其内置了最大优先队列的实现函数和操作函数，但没有内置新插入元素的函数\n",
        "    \"\"\"\n",
        "    print(\"原数组：{0}\".format(arr))\n",
        "    # 将给定的列表转化为最大堆，线性时间\n",
        "    heapq._heapify_max(arr)\n",
        "    print(\"最大堆数组：{0}\".format(arr))\n",
        "\n",
        "    # 弹出最大元素\n",
        "    item0 = heapq._heappop_max(arr)\n",
        "    print(\"弹出的元素为：{0}\".format(item0))\n",
        "    print(\"弹出的元素后：{0}\".format(arr))\n",
        "\n",
        "    # 弹出最大元素，并插入一个新的元素\n",
        "    item1 = heapq._heapreplace_max(arr, 9)\n",
        "    print(\"弹出的元素为：{0}\".format(item1))\n",
        "    print(\"现在的堆结构为：{0}\".format(arr))"
      ],
      "execution_count": null,
      "outputs": []
    },
    {
      "cell_type": "markdown",
      "metadata": {
        "id": "9n0BPNpqeFpg"
      },
      "source": [
        "        1.3. 复杂结构的优先队列\n",
        "\n",
        "        在现实场景中，我们在使用优先队列时往往不是针对简单的数组进行优先排列，而是对元组、列表或者字典等一个个复杂的对象进行优先排列。下面以元组为例，其在构建优先队列时，默认是以第一个元素来进行排列，当第一个元素相同时，则开始比较第二个。字符串的比较从首字母开始进行比较。"
      ]
    },
    {
      "cell_type": "code",
      "metadata": {
        "id": "JACkQzs0eFpg"
      },
      "source": [
        "def object_queue():\n",
        "    \"\"\"\n",
        "    针对对象结构的优先队列\n",
        "    \"\"\"\n",
        "    q = []\n",
        "    heapq.heappush(q, (2, 'code'))\n",
        "    heapq.heappush(q, (1, 'eat'))\n",
        "    heapq.heappush(q, (3, 'sleep'))\n",
        "    heapq.heappush(q, (2, 'play'))\n",
        "    heapq.heappush(q, (3, \"debug\"))\n",
        "    q1 = [x for x in q]\n",
        "    while q:\n",
        "        next_item = heapq.heappop(q)\n",
        "        print(next_item)\n",
        "# ---- result -----\n",
        "# (1, 'eat')\n",
        "# (2, 'code')\n",
        "# (2, 'play')\n",
        "# (3, 'debug')\n",
        "# (3, 'sleep')\n",
        "\n",
        "    # 返回最小的 n 个元素，相当于 sorted(iterable, key=key)[:n]\n",
        "    n_smallest = heapq.nsmallest(3, q1, key=lambda x: x[0])\n",
        "    print(\"最小的3个元素：{0}\".format(n_smallest))\n",
        "    # 返回最大的 n 个元素，相当于 sorted(iterable, key=key, reverse=True)[:n]\n",
        "    n_largest = heapq.nlargest(3, q1, key=lambda x: x[1])\n",
        "    print(\"最大的3个元素：{0}\".format(n_largest))"
      ],
      "execution_count": null,
      "outputs": []
    },
    {
      "cell_type": "markdown",
      "metadata": {
        "id": "IrBATH9keFpg"
      },
      "source": [
        "2. PriorityQueue模块\n",
        "\n",
        "该模块定义的优先级队列，其内部使用了 heapq 模块，所以它的时间复杂度和heapq是相同的。\n",
        "\n",
        "当一个对象的所有元素都是可比较的时，默认情况下是根据队列中的对象的第一个元素进行排序，越小的优先级越高，排在越前面。当第一个元素相同时，依次比较后续的元素的大小来进行排序。\n",
        "\n",
        "由于 PriorityQueue 是继承自 Queue 类，所以很多函数的用法可以直接参照于 Queue 类中的函数。"
      ]
    },
    {
      "cell_type": "code",
      "metadata": {
        "id": "4r8y897beFpg",
        "outputId": "fe92d1ef-336a-4b1a-e1d6-f9929f46a561"
      },
      "source": [
        "from queue import PriorityQueue as PQ\n",
        "pq = PQ()\n",
        "pq.put((1, 'a'))\n",
        "pq.put((2, 'c'))\n",
        "pq.put((2, 'b'))\n",
        "pq.put((2, 'b'))\n",
        "print(pq.queue) # [(1, 'a'), (2, 'b'), (2, 'b'), (2, 'c')]\n",
        "item0 = pq.get() # (1, 'a')\n",
        "print(pq.queue) # [(2, 'b'), (2, 'b'), (2, 'c')]\n",
        "\n",
        "print(pq.qsize()) # 优先队列的尺寸\n",
        "\n",
        "while not pq.empty():\n",
        "    print(pq.get())"
      ],
      "execution_count": null,
      "outputs": [
        {
          "output_type": "stream",
          "text": [
            "[(1, 'a'), (2, 'b'), (2, 'b'), (2, 'c')]\n",
            "[(2, 'b'), (2, 'b'), (2, 'c')]\n",
            "3\n",
            "(2, 'b')\n",
            "(2, 'b')\n",
            "(2, 'c')\n"
          ],
          "name": "stdout"
        }
      ]
    },
    {
      "cell_type": "markdown",
      "metadata": {
        "id": "1fOfSP0teFpg"
      },
      "source": [
        "与 heapq 模块不同的是，PriorityQueue 是基于类实现的，其提供的操作是同步的，提供锁操作，支持并发的生产者和消费者。"
      ]
    },
    {
      "cell_type": "markdown",
      "metadata": {
        "id": "BmyAedu0eFpg"
      },
      "source": [
        "3. 实现自己的优先队列\n",
        "\n",
        "在面向对象的编程过程中，我们通常是将一些单独的函数或变量组合成一个对象，然后在进行优先级排列。例如我们现在有很多种汽车，汽车有名字和价格，以及一些操作方法。当我们对汽车对象来按照价格进行优先级排列时，由于自定义的对象是不可比较的，所以在进行优先级排列时会报错。因此对于那些自定义的对象，我们需要重写优先级队列的方法来进行实现。\n",
        "\n",
        "由于 PriorityQueue 也是基于 heapq 实现的，所以我们自定义的优先级队列可以直接基于 heapq 模块来实现。"
      ]
    },
    {
      "cell_type": "code",
      "metadata": {
        "id": "mBcTluyjeFpg"
      },
      "source": [
        "import heapq\n",
        "\n",
        "class My_PriorityQueue(object):\n",
        "    def __init__(self):\n",
        "        self._queue = []\n",
        "        self._index = 0\n",
        "\n",
        "    def push(self, item, priority):\n",
        "        \"\"\"\n",
        "        队列由 (priority, index, item) 形式组成\n",
        "        priority 增加 \"-\" 号是因为 heappush 默认是最小堆\n",
        "        index 是为了当两个对象的优先级一致时，按照插入顺序排列\n",
        "        \"\"\"\n",
        "        heapq.heappush(self._queue, (-priority, self._index, item))\n",
        "        self._index += 1\n",
        "\n",
        "    def pop(self):\n",
        "        \"\"\"\n",
        "        弹出优先级最高的对象\n",
        "        \"\"\"\n",
        "        return heapq.heappop(self._queue)[-1]\n",
        "\n",
        "    def qsize(self):\n",
        "        return len(self._queue)\n",
        "\n",
        "    def empty(self):\n",
        "        return True if not self._queue else False\n",
        "\n",
        "class Car(object):\n",
        "    def __init__(self, name, value):\n",
        "        self.name = name\n",
        "        self.value = value\n",
        "\n",
        "    def __repr__(self):\n",
        "        return \"{0} -- {1}\".format(self.name, self.value)\n",
        "\n",
        "if __name__ == \"__main__\":\n",
        "    car1 = Car(\"BMW\", 45)\n",
        "    car2 = Car(\"Maybach\", 145)\n",
        "    car3 = Car(\"Bugatti\", 85)\n",
        "    car4 = Car(\"Cadillac\", 78)\n",
        "    car5 = Car(\"Maserati\", 85)\n",
        "    pq = My_PriorityQueue()\n",
        "    pq.push(car1, car1.value)\n",
        "    pq.push(car2, car2.value)\n",
        "    pq.push(car3, car3.value)\n",
        "    pq.push(car4, car4.value)\n",
        "    pq.push(car5, car5.value)\n",
        "    print(\"队列大小：{0}\".format(pq.qsize()))\n",
        "    # 弹出元素\n",
        "    while not pq.empty():\n",
        "        print(pq.pop())"
      ],
      "execution_count": null,
      "outputs": []
    },
    {
      "cell_type": "markdown",
      "metadata": {
        "id": "9rhlKJ0geFpg"
      },
      "source": [
        "295. Find Median from Data Stream\n",
        "\n",
        "Median is the middle value in an ordered integer list. If the size of the list is even, there is no middle value. So the median is the mean of the two middle value.\n",
        "\n",
        "For example,\n",
        "[2,3,4], the median is 3\n",
        "\n",
        "[2,3], the median is (2 + 3) / 2 = 2.5\n",
        "\n",
        "Design a data structure that supports the following two operations:\n",
        "\n",
        "void addNum(int num) - Add a integer number from the data stream to the data structure.\n",
        "\n",
        "double findMedian() - Return the median of all elements so far.\n",
        " \n",
        "\n",
        "Example:\n",
        "\n",
        "addNum(1)\n",
        "\n",
        "addNum(2)\n",
        "\n",
        "findMedian() -> 1.5\n",
        "\n",
        "addNum(3) \n",
        "\n",
        "findMedian() -> 2"
      ]
    },
    {
      "cell_type": "code",
      "metadata": {
        "id": "3mtiiSv3eFpg"
      },
      "source": [
        "from heapq import heappush, heappop\n",
        "class MedianFinder:\n",
        "\n",
        "    def __init__(self):\n",
        "        \"\"\"\n",
        "        initialize your data structure here.\n",
        "        \"\"\"\n",
        "        # 用最大堆+最小堆来实现\n",
        "        # 将数据流中的元素，放在两个堆里\n",
        "        # 比较小的一半放在最大堆里，最多n//2个元素\n",
        "        # 比较大的一般放在最小堆里，最多(n+1)//2个元素\n",
        "        # 也就是数据流中一个奇书个数时，比较大的这一半多放一个数\n",
        "        \n",
        "        # 可以知道如果一共奇数个数，中位数就是右侧最小堆的堆顶（较多的一半的最小值)\n",
        "        # 如果一共偶数个数，中位数就是左右堆顶加起来除以二\n",
        "        \n",
        "        # 每次删除一个元素时，从两个堆里找到并删除这个元素\n",
        "        # 每次插入一个元素时，根据和中位数比较判断放在哪一半\n",
        "        # 插入和删除之后，可能会破坏左右两边元素个数均衡的状态，此时做一次调整，如果左边多了，就拿出左边的堆顶（最大值）扔到右边\n",
        "        # 如果右边多了，就拿出右边的堆顶（最小值）扔到左边\n",
        "        \n",
        "        # 最小堆，储存较大的一半数，堆顶是最小堆里最小的数\n",
        "        self.minHeap = []\n",
        "        # 最大堆，储存较小的一半数，堆顶是这一半数中最大的数字的负数\n",
        "        self.maxHeap = []\n",
        "        \n",
        "\n",
        "    def addNum(self, num: int) -> None:\n",
        "        if len(self.minHeap) <= len(self.maxHeap): # 如果最小堆比最大堆短（右边比左边短），就把val加入右边\n",
        "            heappush(self.minHeap, num)\n",
        "        else:\n",
        "            heappush(self.maxHeap, -num) #反之亦然\n",
        "            \n",
        "        if not self.minHeap or not self.maxHeap:\n",
        "            return 0\n",
        "        \n",
        "        if self.minHeap[0] < -self.maxHeap[0]: # 如果右边最小的数字小于左边最大的数字\n",
        "            temp = heappop(self.minHeap) # 将右边最小的数字pop\n",
        "            heappush(self.maxHeap, -temp) # 存入左边\n",
        "            temp = - heappop(self.maxHeap) # 将左边最大的数字pop\n",
        "            heappush(self.minHeap, temp) # 将这个数字加负号后，存入右边\n",
        "\n",
        "    def findMedian(self) -> float:\n",
        "        if not self.minHeap:\n",
        "            return 0\n",
        "        elif not self.maxHeap:\n",
        "            return self.minHeap[0]\n",
        "        elif len(self.minHeap) == len(self.maxHeap):\n",
        "            return (self.minHeap[0] - self.maxHeap[0])/2\n",
        "        elif len(self.minHeap) - 1 == len(self.maxHeap):\n",
        "            return self.minHeap[0]\n"
      ],
      "execution_count": null,
      "outputs": []
    },
    {
      "cell_type": "markdown",
      "metadata": {
        "id": "hG3tUMoGeFpg"
      },
      "source": [
        "253. Meeting Room II\n",
        "\n",
        "Given an array of meeting time intervals consisting of start and end times [[s1,e1],[s2,e2],...] (si < ei), find the minimum number of conference rooms required.\n",
        "\n",
        "For example,\n",
        "Given [[0, 30],[5, 10],[15, 20]],\n",
        "return 2.\n",
        "\n",
        "1. 先把intervals按照start从小到大排序。\n",
        "\n",
        "2. 建立一个最小堆，堆顶是end最小的interval。\n",
        "\n",
        "3. 遍历interval，把当前interval的start和堆顶的end对比，如果交叉，说明要重新开一个房间，把该interval加入到最小堆中。\n",
        "\n",
        "4. 如果不交叉，说明之前的房间用完了我可以接着用，所以将堆顶弹出，将该interval弹入最小堆。\n",
        "\n"
      ]
    },
    {
      "cell_type": "code",
      "metadata": {
        "id": "nRexuWO0eFpg"
      },
      "source": [
        "import heapq\n",
        "# Definition for an interval.\n",
        "# class Interval(object):\n",
        "#     def __init__(self, s=0, e=0):\n",
        "#         self.start = s\n",
        "#         self.end = e\n",
        " \n",
        "class Solution:\n",
        "    def minMeetingRooms(self, intervals):\n",
        "        intervals.sort(key=lambda x:x.start) #将所有会议按开始时间排序\n",
        "        heap = [] #新建一个最小堆，维护每个会议室的结束时间\n",
        "        for interval in intervals:\n",
        "            if heap and interval.start >= heap[0]: #如果当前会议的开始时间比最小堆堆顶的元素大，说明这个房间用完了我可以接着用\n",
        "                heapq.heappop(heap)# 将堆顶弹出\n",
        "                heapq.heappush(heap, interval.end)#将该interval弹入最小堆\n",
        "            else: #如果当前会议的开始时间比最小堆堆顶的元素早，说明他们时间交叉，该interval跟堆里其他元素比较肯定也会交叉\n",
        "                heapq.heappush(heap, interval.end)#开一个新的房间，把该interval加入最小堆\n"
      ],
      "execution_count": null,
      "outputs": []
    },
    {
      "cell_type": "markdown",
      "metadata": {
        "id": "uDGFSIIheFpg"
      },
      "source": [
        "这道题第二种解法：扫描线\n",
        "\n",
        "这个问题有一个非常简单的处理思路，我们可以先将上述的区间在坐标轴上画好，然后通过垂直于x轴的线从左向右移动，移动的过程中，记录这根线和区间相交的最大交点个数，这个最大交点个数就是相交的最大区间个数。\n",
        "\n",
        "算法的实现上我们有一个trick，我们遍历intervals中的每一项it，然后对于左边的坐标用[it[0], 1]表示（表示我们进入一个线段），右边的坐标用[it[1], -1]表示（表示我们退出了一个线段），然后将这些新得到的区间加入到一个tmp数组中，对这个数组排序，接着遍历这个数组，遍历的过程中累加我们建立的标记位（也就是前面建立的1和-1）记录累加的最大值即可。\n"
      ]
    },
    {
      "cell_type": "code",
      "metadata": {
        "id": "Pen7Q6pyeFpg"
      },
      "source": [
        "class Solution:\n",
        "    def minMeetingRooms(self, intervals):\n",
        "        room = []\n",
        "        for i in intervals:\n",
        "            room.append((i.start,1))\n",
        "            room.append((i.end, -1))\n",
        "        tmp = 0\n",
        "        ans = 0\n",
        "        room = sorted(room)\n",
        "        for idx, cost in room:\n",
        "            tmp += cost\n",
        "            ans = max(ans, tmp)\n",
        "        return ans"
      ],
      "execution_count": null,
      "outputs": []
    },
    {
      "cell_type": "code",
      "metadata": {
        "id": "R9coXcPieFpg",
        "outputId": "95b6dee9-91c7-45e0-e13a-b25b0ce026db"
      },
      "source": [
        "st = 'abddgsaa'\n",
        "Counter(st).most_common() \n",
        "sorted(dict(Counter(st)).items(), key=lambda x:x[1],reverse=True)\n"
      ],
      "execution_count": null,
      "outputs": [
        {
          "output_type": "execute_result",
          "data": {
            "text/plain": [
              "[('a', 3), ('d', 2), ('b', 1), ('g', 1), ('s', 1)]"
            ]
          },
          "metadata": {
            "tags": []
          },
          "execution_count": 16
        }
      ]
    },
    {
      "cell_type": "code",
      "metadata": {
        "id": "_5jEQI55eFph",
        "outputId": "7a978bb4-caa0-44cb-f770-5c41c6f9e895"
      },
      "source": [
        "import torch\n",
        "import torch.tensor as tensor\n",
        "\n",
        "data = [1,2,3,4,5]\n",
        "a = torch.tensor(data,dtype=torch.float)  #建立tensor\n",
        "a2 = torch.norm(a, p=2)      #默认求2范数\n",
        "a1 = torch.norm(a,p=3)  #指定求1范数\n",
        " \n",
        "print(a)\n",
        "print(a2)\n",
        "print(a1)"
      ],
      "execution_count": null,
      "outputs": [
        {
          "output_type": "stream",
          "text": [
            "tensor([1., 2., 3., 4., 5.])\n",
            "tensor(7.4162)\n",
            "tensor(6.0822)\n"
          ],
          "name": "stdout"
        }
      ]
    },
    {
      "cell_type": "code",
      "metadata": {
        "id": "ZWc544IUeFph",
        "outputId": "96c00b87-eddf-4195-c18e-e23e2b6595fc"
      },
      "source": [
        "print(6**(1/3))"
      ],
      "execution_count": null,
      "outputs": [
        {
          "output_type": "stream",
          "text": [
            "1.8171205928321397\n"
          ],
          "name": "stdout"
        }
      ]
    },
    {
      "cell_type": "code",
      "metadata": {
        "id": "DDb1I_03eFph",
        "outputId": "d4d3f263-94b7-4375-f9a0-2a5aba476149"
      },
      "source": [
        "x = torch.randn(1,6)\n",
        "print(x)\n",
        "y = torch.cat((x, x), 1)[0]\n",
        "print(y)"
      ],
      "execution_count": null,
      "outputs": [
        {
          "output_type": "stream",
          "text": [
            "tensor([[ 0.9854, -0.3047,  1.5066,  0.5579, -0.5450, -0.2785]])\n",
            "tensor([ 0.9854, -0.3047,  1.5066,  0.5579, -0.5450, -0.2785,  0.9854, -0.3047,\n",
            "         1.5066,  0.5579, -0.5450, -0.2785])\n"
          ],
          "name": "stdout"
        }
      ]
    },
    {
      "cell_type": "code",
      "metadata": {
        "id": "-Q5IjUdyeFph",
        "outputId": "cd2d0a61-710e-4e86-d235-bc8e22309038"
      },
      "source": [
        "torch.set_default_tensor_type(torch.DoubleTensor)\n",
        "b = torch.tensor([])\n",
        "print(b)\n",
        "print(b.type())"
      ],
      "execution_count": null,
      "outputs": [
        {
          "output_type": "stream",
          "text": [
            "tensor([])\n",
            "torch.DoubleTensor\n"
          ],
          "name": "stdout"
        }
      ]
    },
    {
      "cell_type": "markdown",
      "metadata": {
        "id": "_Vjt1OVeeFph"
      },
      "source": [
        "1546. Maximum Number of Non-Overlapping Subarrays With Sum Equals Target"
      ]
    },
    {
      "cell_type": "code",
      "metadata": {
        "id": "1Yod-5dteFph"
      },
      "source": [
        "class Solution:\n",
        "    def maxNonOverlapping(self, nums: List[int], target: int) -> int:\n",
        "        prefix_sum = count = 0\n",
        "        seen = {0}\n",
        "        for num in nums:\n",
        "            prefix_sum += num\n",
        "            if prefix_sum - target in seen:\n",
        "                prefix_sum = 0\n",
        "                count += 1\n",
        "                seen = set()\n",
        "            seen.add(prefix_sum)\n",
        "        return count"
      ],
      "execution_count": null,
      "outputs": []
    },
    {
      "cell_type": "code",
      "metadata": {
        "id": "-O1yCwTOeFph"
      },
      "source": [
        "file=open('data.txt','w') \n",
        "file.write(str(list_data)); \n",
        "file.close()"
      ],
      "execution_count": null,
      "outputs": []
    },
    {
      "cell_type": "code",
      "metadata": {
        "id": "fLdkoWjJeFph",
        "outputId": "51bc7bd3-27e1-4489-d1cb-aed61a4be0b9"
      },
      "source": [
        "file_name = 'cur_task_' + 'cola' + '.txt'\n",
        "prev_accs = [[34,62], [14,57]]\n",
        "with open(file_name, \"w\") as file:\n",
        "    arr = []\n",
        "    arr.append([1,2,3])\n",
        "    arr.append([4,5,6,])\n",
        "    arr.append([90,12])\n",
        "    for i in range(2):\n",
        "        arr.append(prev_accs[i])\n",
        "    file.write(str(arr))\n",
        "file.close()"
      ],
      "execution_count": null,
      "outputs": [
        {
          "output_type": "stream",
          "text": [
            "Exception ignored in: <function ZipFile.__del__ at 0x000002945CE80400>\n",
            "Traceback (most recent call last):\n",
            "  File \"D:\\Users\\31413\\Anaconda3\\lib\\zipfile.py\", line 1789, in __del__\n",
            "    self.close()\n",
            "  File \"D:\\Users\\31413\\Anaconda3\\lib\\zipfile.py\", line 1806, in close\n",
            "    self.fp.seek(self.start_dir)\n",
            "ValueError: I/O operation on closed file.\n"
          ],
          "name": "stderr"
        }
      ]
    },
    {
      "cell_type": "code",
      "metadata": {
        "id": "frbQ2MT0eFph",
        "outputId": "d5756bf2-d730-4968-d612-e0bc125a2538"
      },
      "source": [
        "with open(file_name, 'r') as file:\n",
        "    arr = file.read()\n",
        "print(list(arr))"
      ],
      "execution_count": null,
      "outputs": [
        {
          "output_type": "stream",
          "text": [
            "['[', '[', '1', ',', ' ', '2', ',', ' ', '3', ']', ',', ' ', '[', '4', ',', ' ', '5', ',', ' ', '6', ']', ',', ' ', '[', '9', '0', ',', ' ', '1', '2', ']', ',', ' ', '[', '3', '4', ',', ' ', '6', '2', ']', ',', ' ', '[', '1', '4', ',', ' ', '5', '7', ']', ']']\n"
          ],
          "name": "stdout"
        }
      ]
    },
    {
      "cell_type": "markdown",
      "metadata": {
        "id": "yK4npcLrFZFD"
      },
      "source": [
        "## 贪心算法"
      ]
    },
    {
      "cell_type": "markdown",
      "metadata": {
        "id": "Tqvzq2YTEjW7"
      },
      "source": [
        "406.Queue Reconstruction by Height (Medium)\n",
        "\n",
        "You are given an array of people, people, which are the attributes of some people in a queue (not necessarily in order). Each people[i] = [hi, ki] represents the ith person of height hi with exactly ki other people in front who have a height greater than or equal to hi.\n",
        "\n",
        "Reconstruct and return the queue that is represented by the input array people. The returned queue should be formatted as an array queue, where queue[j] = [hj, kj] is the attributes of the jth person in the queue (queue[0] is the person at the front of the queue).\n",
        "\n",
        "Input: people = [[7,0],[4,4],[7,1],[5,0],[6,1],[5,2]]\n",
        "Output: [[5,0],[7,0],[5,2],[6,1],[4,4],[7,1]]"
      ]
    },
    {
      "cell_type": "code",
      "metadata": {
        "id": "xYCVBrOfEt5i"
      },
      "source": [
        "class Solution:\n",
        "  def reconstructQueue(self, people):\n",
        "    people.sort(key=lambda x:(-x[0], x[1]))\n",
        "    i = 0\n",
        "    while i < len(people):\n",
        "      if i == people[1]:\n",
        "        i += 1\n",
        "        continue\n",
        "      idx = people[i][1]\n",
        "      tmp = people[i]\n",
        "      people.insert(idx, tmp)\n",
        "    return people"
      ],
      "execution_count": null,
      "outputs": []
    },
    {
      "cell_type": "code",
      "metadata": {
        "id": "McTOiPDyFo63"
      },
      "source": [
        "s = Solution()\n",
        "s.reconstructQueue([[7,0],[4,4],[7,1],[5,0],[6,1],[5,2]])"
      ],
      "execution_count": null,
      "outputs": []
    },
    {
      "cell_type": "code",
      "metadata": {
        "id": "JtT_FvNOFvJ9"
      },
      "source": [
        ""
      ],
      "execution_count": null,
      "outputs": []
    }
  ]
}