{
 "cells": [
  {
   "cell_type": "markdown",
   "metadata": {},
   "source": [
    "注意区分substring（子串）和subsequence（子序列）"
   ]
  },
  {
   "cell_type": "markdown",
   "metadata": {},
   "source": [
    "**最长递增子序列**\n",
    "\n",
    "Given an unsorted array of integers, find the length of longest increasing subsequence.\n",
    "\n",
    "**Example**:\n",
    "\n",
    "Input: [10,9,2,5,3,7,101,18]\n",
    "\n",
    "Output: 4 \n",
    "\n",
    "**Explanation**: The longest increasing subsequence is [2,3,7,101], therefore the length is 4. \n",
    "\n",
    "**Note**:\n",
    "\n",
    "There may be more than one LIS combination, it is only necessary for you to return the length.\n",
    "\n",
    "Your algorithm should run in O(n^2) complexity. DP解法是O(n^2)的复杂度\n",
    "\n",
    "**Follow up**: Could you improve it to O(n log n) time complexity? 二分法，O(nlogn),注意边界情况"
   ]
  },
  {
   "cell_type": "code",
   "execution_count": 3,
   "metadata": {},
   "outputs": [],
   "source": [
    "class Solution:\n",
    "    def lengthOfLIS(self, nums):\n",
    "        if not nums:\n",
    "            return 0\n",
    "        dp = [1] * len(nums)\n",
    "        for i in range(len(nums)):\n",
    "            for j in range(i):\n",
    "                if nums[j] < nums[i]:\n",
    "                    dp[i] = max(dp[j]+1, dp[i])\n",
    "        return max(dp)"
   ]
  },
  {
   "cell_type": "code",
   "execution_count": 4,
   "metadata": {},
   "outputs": [
    {
     "data": {
      "text/plain": [
       "4"
      ]
     },
     "execution_count": 4,
     "metadata": {},
     "output_type": "execute_result"
    }
   ],
   "source": [
    "s = Solution()\n",
    "s.lengthOfLIS([10,9,2,5,3,7,101,18])"
   ]
  },
  {
   "cell_type": "markdown",
   "metadata": {},
   "source": [
    "至此，这道题就解决了，时间复杂度 O(N^2)。**总结一下动态规划的设计流程**：\n",
    "\n",
    "1. 首先明确 dp 数组所存数据的含义。这步很重要，如果不得当或者不够清晰，会阻碍之后的步骤。\n",
    "\n",
    "2. 然后根据 dp 数组的定义，运用数学归纳法的思想，假设 $dp[0...i-1]$ 都已知，想办法求出 $dp[i]$，一旦这一步完成，整个题目基本就解决了。\n",
    "\n",
    "3. 但如果无法完成这一步，很可能就是 dp 数组的定义不够恰当，需要重新定义 dp 数组的含义；或者可能是 dp 数组存储的信息还不够，不足以推出下一步的答案，需要把 dp 数组扩大成二维数组甚至三维数组。\n",
    "\n",
    "4. 最后想一想问题的 base case 是什么，以此来初始化 dp 数组，以保证算法正确运行。"
   ]
  },
  {
   "cell_type": "markdown",
   "metadata": {},
   "source": [
    "#### 二分查找解法\n",
    "这个解法的时间复杂度会将为 **O(NlogN)**，但是说实话，正常人基本想不到这种解法（也许玩过某些纸牌游戏的人可以想出来）。所以如果大家了解一下就好，正常情况下能够给出动态规划解法就已经很不错了。\n",
    "\n",
    "根据题目的意思，我都很难想象这个问题竟然能和二分查找扯上关系。其实最长递增子序列和一种叫做 patience game 的纸牌游戏有关，甚至有一种排序方法就叫做 patience sorting（耐心排序）。\n",
    "\n",
    "为了简单起见，后文跳过所有数学证明，通过一个简化的例子来理解一下思路。\n",
    "\n",
    "首先，给你一排扑克牌，我们像遍历数组那样从左到右一张一张处理这些扑克牌，最终要把这些牌分成若干堆。\n",
    "\n",
    "只能把点数小的牌压到点数比它大的牌上。如果当前牌点数较大没有可以放置的堆，则新建一个堆，把这张牌放进去。如果当前牌有多个堆可供选择，则选择最左边的堆放置。\n",
    "\n",
    "为什么遇到多个可选择堆的时候要放到最左边的堆上呢？因为这样可以保证牌堆顶的牌有序（2, 4, 7, 8, Q），证明略\n",
    "\n",
    "按照上述规则执行，可以算出最长递增子序列，牌的堆数就是最长递增子序列的长度，证明略\n",
    "\n",
    "我们只要把处理扑克牌的过程编程写出来即可。每次处理一张扑克牌不是要找一个合适的牌堆顶来放吗，牌堆顶的牌不是有序吗，这就能用到二分查找了：\n",
    "\n",
    "**用二分查找来搜索当前牌应放置的位置**。"
   ]
  },
  {
   "cell_type": "code",
   "execution_count": null,
   "metadata": {},
   "outputs": [],
   "source": [
    "class Solution:\n",
    "    def lengthOfLIS(self, nums: List[int]) -> int:\n",
    "        if not nums:\n",
    "            return 0\n",
    "        top = [nums[0]]\n",
    "        for i in range(1, len(nums)):\n",
    "            poker = nums[i]\n",
    "            # 搜索左侧边界的二分查找\n",
    "            left, right = 0, len(top)\n",
    "            while left < right:\n",
    "                mid = (left+right)//2\n",
    "                if top[mid] >= poker:\n",
    "                    right = mid\n",
    "                else:\n",
    "                    left = mid + 1\n",
    "            \n",
    "            # 没找到合适的牌堆，新建一堆\n",
    "            if left == len(top):\n",
    "                top.append(poker)\n",
    "            else:\n",
    "                top[left] = poker\n",
    "        return len(top)"
   ]
  }
 ],
 "metadata": {
  "kernelspec": {
   "display_name": "Python 3",
   "language": "python",
   "name": "python3"
  },
  "language_info": {
   "codemirror_mode": {
    "name": "ipython",
    "version": 3
   },
   "file_extension": ".py",
   "mimetype": "text/x-python",
   "name": "python",
   "nbconvert_exporter": "python",
   "pygments_lexer": "ipython3",
   "version": "3.7.1"
  }
 },
 "nbformat": 4,
 "nbformat_minor": 2
}
