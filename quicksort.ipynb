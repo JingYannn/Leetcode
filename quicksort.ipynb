{
 "cells": [
  {
   "cell_type": "code",
   "execution_count": 3,
   "metadata": {},
   "outputs": [
    {
     "name": "stdout",
     "output_type": "stream",
     "text": [
      "[1, 1, 2, 3, 6, 8, 10]\n"
     ]
    }
   ],
   "source": [
    "\"\"\"1. Pick an element, called a pivot, from the array.\n",
    "   2. Partitioning: reorder the array so that all elements with values less than \n",
    "      the pivot come before the pivot, while all elements with values greater \n",
    "      than the pivot come after it (equal values can go either way). \n",
    "      After this partitioning, the pivot is in its final position. \n",
    "      This is called the partition operation.\n",
    "   3. Recursively apply the above steps to the sub-array of elements \n",
    "      with smaller values and separately to the sub-array of elements with \n",
    "      greater values.\n",
    "\"\"\"\n",
    "\n",
    "def quicksort(arr):\n",
    "    if len(arr) <= 1:\n",
    "        return arr\n",
    "    pivot = arr[len(arr) // 2]\n",
    "    \"\"\"floor division\n",
    "       >>> 5.0 / 2\n",
    "       2.5\n",
    "       >>> 5.0 // 2\n",
    "       2.0\"\"\"\n",
    "    left = [x for x in arr if x < pivot]\n",
    "    middle = [x for x in arr if x == pivot]\n",
    "    right = [x for x in arr if x > pivot]\n",
    "    return quicksort(left) + middle + quicksort(right)\n",
    "\n",
    "print(quicksort([3,6,8,10,1,2,1]))\n",
    "\n",
    "\n"
   ]
  },
  {
   "cell_type": "code",
   "execution_count": null,
   "metadata": {},
   "outputs": [],
   "source": []
  }
 ],
 "metadata": {
  "kernelspec": {
   "display_name": "Python 3",
   "language": "python",
   "name": "python3"
  },
  "language_info": {
   "codemirror_mode": {
    "name": "ipython",
    "version": 3
   },
   "file_extension": ".py",
   "mimetype": "text/x-python",
   "name": "python",
   "nbconvert_exporter": "python",
   "pygments_lexer": "ipython3",
   "version": "3.7.1"
  }
 },
 "nbformat": 4,
 "nbformat_minor": 2
}
