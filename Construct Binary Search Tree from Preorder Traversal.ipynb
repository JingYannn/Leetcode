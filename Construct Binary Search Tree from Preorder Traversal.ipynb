{
 "cells": [
  {
   "cell_type": "code",
   "execution_count": null,
   "metadata": {},
   "outputs": [],
   "source": [
    "def bstFromPreorder(self, preorder):\n",
    "    if not preorderÖ\n",
    "        return None\n",
    "    root = TreeNode(preorder[0])\n",
    "    l = []\n",
    "    r = []\n",
    "    for i in range(1, len(preorder)):\n",
    "        if(preorder[i]<preorder[0]):\n",
    "            l.append(preorder[i])\n",
    "        else:\n",
    "            r.append(preorder[i])\n",
    "    root.left = self.bstFromPreorder(l)\n",
    "    root.right = self.bstFromPreorder(r)\n",
    "    return root"
   ]
  }
 ],
 "metadata": {
  "kernelspec": {
   "display_name": "Python 3",
   "language": "python",
   "name": "python3"
  },
  "language_info": {
   "codemirror_mode": {
    "name": "ipython",
    "version": 3
   },
   "file_extension": ".py",
   "mimetype": "text/x-python",
   "name": "python",
   "nbconvert_exporter": "python",
   "pygments_lexer": "ipython3",
   "version": "3.7.1"
  }
 },
 "nbformat": 4,
 "nbformat_minor": 2
}
