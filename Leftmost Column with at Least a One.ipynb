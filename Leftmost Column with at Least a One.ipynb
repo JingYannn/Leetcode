{
 "cells": [
  {
   "cell_type": "code",
   "execution_count": null,
   "metadata": {},
   "outputs": [],
   "source": [
    "def leftMostColumnWithOne(self, binaryMatrix: 'BinaryMatrix') -> int:\n",
    "    dim = BinaryMatrix.dimensions()\n",
    "    i = 0\n",
    "    j = dim[1] - 1\n",
    "    ind = -1\n",
    "    while (i < dim[0] and j > -1):\n",
    "        if BinaryMatrix.get(i,j) == 1:\n",
    "            ind = j\n",
    "            j-=1\n",
    "        else:\n",
    "            i+=1\n",
    "    return ind\n",
    "    "
   ]
  }
 ],
 "metadata": {
  "kernelspec": {
   "display_name": "Python 3",
   "language": "python",
   "name": "python3"
  },
  "language_info": {
   "codemirror_mode": {
    "name": "ipython",
    "version": 3
   },
   "file_extension": ".py",
   "mimetype": "text/x-python",
   "name": "python",
   "nbconvert_exporter": "python",
   "pygments_lexer": "ipython3",
   "version": "3.7.1"
  }
 },
 "nbformat": 4,
 "nbformat_minor": 2
}
