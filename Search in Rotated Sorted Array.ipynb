{
 "cells": [
  {
   "cell_type": "code",
   "execution_count": null,
   "metadata": {},
   "outputs": [],
   "source": [
    "start = 0\n",
    "end = len(nums) - 1\n",
    "\n",
    "while start <= end:\n",
    "    medium = (start + end)//2\n",
    "    if target == nums[medium]:\n",
    "        return medium\n",
    "    if nums[start] <= nums[medium]:\n",
    "        if target >= nums[start] and target < nums[medium]:\n",
    "            end = medium - 1\n",
    "        else:\n",
    "            start = medium + 1\n",
    "    else:\n",
    "        if target > nums[medium] and target <= nums[end]:\n",
    "            start = medium + 1\n",
    "        else:\n",
    "            end = medium - 1\n",
    "return -1"
   ]
  }
 ],
 "metadata": {
  "kernelspec": {
   "display_name": "Python 3",
   "language": "python",
   "name": "python3"
  },
  "language_info": {
   "codemirror_mode": {
    "name": "ipython",
    "version": 3
   },
   "file_extension": ".py",
   "mimetype": "text/x-python",
   "name": "python",
   "nbconvert_exporter": "python",
   "pygments_lexer": "ipython3",
   "version": "3.7.1"
  }
 },
 "nbformat": 4,
 "nbformat_minor": 2
}
